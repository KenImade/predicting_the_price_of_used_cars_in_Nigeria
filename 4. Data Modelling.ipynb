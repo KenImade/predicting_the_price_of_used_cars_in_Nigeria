{
 "cells": [
  {
   "cell_type": "code",
   "execution_count": 1,
   "id": "ee9d6799",
   "metadata": {},
   "outputs": [],
   "source": [
    "import gc\n",
    "import seaborn as sns\n",
    "import numpy as np\n",
    "import pandas as pd\n",
    "import matplotlib.pyplot as plt\n",
    "from sklearn.preprocessing import LabelEncoder\n",
    "from sklearn.model_selection import train_test_split, cross_val_score, GridSearchCV, RandomizedSearchCV\n",
    "from sklearn.preprocessing import StandardScaler, MinMaxScaler\n",
    "from sklearn.linear_model import LinearRegression\n",
    "from sklearn import metrics\n",
    "from sklearn.metrics import r2_score\n",
    "from sklearn.tree import DecisionTreeRegressor\n",
    "from sklearn.ensemble import RandomForestRegressor, ExtraTreesRegressor, GradientBoostingRegressor, AdaBoostRegressor\n",
    "from lightgbm import LGBMRegressor\n",
    "from xgboost import XGBRegressor, XGBRFRegressor\n",
    "from catboost import CatBoostRegressor\n",
    "import pickle\n",
    "%matplotlib inline"
   ]
  },
  {
   "cell_type": "code",
   "execution_count": 2,
   "id": "6c7fbd49",
   "metadata": {},
   "outputs": [
    {
     "data": {
      "text/html": [
       "<div>\n",
       "<style scoped>\n",
       "    .dataframe tbody tr th:only-of-type {\n",
       "        vertical-align: middle;\n",
       "    }\n",
       "\n",
       "    .dataframe tbody tr th {\n",
       "        vertical-align: top;\n",
       "    }\n",
       "\n",
       "    .dataframe thead th {\n",
       "        text-align: right;\n",
       "    }\n",
       "</style>\n",
       "<table border=\"1\" class=\"dataframe\">\n",
       "  <thead>\n",
       "    <tr style=\"text-align: right;\">\n",
       "      <th></th>\n",
       "      <th>manufacturer</th>\n",
       "      <th>model</th>\n",
       "      <th>year</th>\n",
       "      <th>price</th>\n",
       "      <th>mileage</th>\n",
       "      <th>location</th>\n",
       "      <th>transmission</th>\n",
       "      <th>fuel_type</th>\n",
       "      <th>grade</th>\n",
       "      <th>car_condition</th>\n",
       "      <th>car_age</th>\n",
       "    </tr>\n",
       "  </thead>\n",
       "  <tbody>\n",
       "    <tr>\n",
       "      <th>0</th>\n",
       "      <td>Toyota</td>\n",
       "      <td>Tacoma</td>\n",
       "      <td>2005</td>\n",
       "      <td>3930000</td>\n",
       "      <td>248415</td>\n",
       "      <td>Asaba</td>\n",
       "      <td>automatic</td>\n",
       "      <td>Petrol</td>\n",
       "      <td>D</td>\n",
       "      <td>Nigerian used</td>\n",
       "      <td>16</td>\n",
       "    </tr>\n",
       "    <tr>\n",
       "      <th>1</th>\n",
       "      <td>Toyota</td>\n",
       "      <td>Camry</td>\n",
       "      <td>2003</td>\n",
       "      <td>1242000</td>\n",
       "      <td>180990</td>\n",
       "      <td>Lagos</td>\n",
       "      <td>automatic</td>\n",
       "      <td>Petrol</td>\n",
       "      <td>D</td>\n",
       "      <td>Nigerian used</td>\n",
       "      <td>18</td>\n",
       "    </tr>\n",
       "    <tr>\n",
       "      <th>2</th>\n",
       "      <td>Mercedes-Benz</td>\n",
       "      <td>C250</td>\n",
       "      <td>2012</td>\n",
       "      <td>5610000</td>\n",
       "      <td>234826</td>\n",
       "      <td>Kaduna</td>\n",
       "      <td>automatic</td>\n",
       "      <td>Petrol</td>\n",
       "      <td>C</td>\n",
       "      <td>Nigerian used</td>\n",
       "      <td>9</td>\n",
       "    </tr>\n",
       "    <tr>\n",
       "      <th>3</th>\n",
       "      <td>Toyota</td>\n",
       "      <td>Tundra</td>\n",
       "      <td>2007</td>\n",
       "      <td>5066800</td>\n",
       "      <td>172632</td>\n",
       "      <td>Lagos</td>\n",
       "      <td>automatic</td>\n",
       "      <td>Petrol</td>\n",
       "      <td>D</td>\n",
       "      <td>Nigerian used</td>\n",
       "      <td>14</td>\n",
       "    </tr>\n",
       "    <tr>\n",
       "      <th>4</th>\n",
       "      <td>Honda</td>\n",
       "      <td>Jazz</td>\n",
       "      <td>2008</td>\n",
       "      <td>1130000</td>\n",
       "      <td>155077</td>\n",
       "      <td>Lagos</td>\n",
       "      <td>manual</td>\n",
       "      <td>Petrol</td>\n",
       "      <td>D</td>\n",
       "      <td>Nigerian used</td>\n",
       "      <td>13</td>\n",
       "    </tr>\n",
       "    <tr>\n",
       "      <th>...</th>\n",
       "      <td>...</td>\n",
       "      <td>...</td>\n",
       "      <td>...</td>\n",
       "      <td>...</td>\n",
       "      <td>...</td>\n",
       "      <td>...</td>\n",
       "      <td>...</td>\n",
       "      <td>...</td>\n",
       "      <td>...</td>\n",
       "      <td>...</td>\n",
       "      <td>...</td>\n",
       "    </tr>\n",
       "    <tr>\n",
       "      <th>3141</th>\n",
       "      <td>Landrover</td>\n",
       "      <td>Range Rover Sport</td>\n",
       "      <td>2008</td>\n",
       "      <td>3460000</td>\n",
       "      <td>46683</td>\n",
       "      <td>PortHarcourt</td>\n",
       "      <td>automatic</td>\n",
       "      <td>Petrol</td>\n",
       "      <td>D</td>\n",
       "      <td>Nigerian used</td>\n",
       "      <td>13</td>\n",
       "    </tr>\n",
       "    <tr>\n",
       "      <th>3142</th>\n",
       "      <td>Ford</td>\n",
       "      <td>Edge</td>\n",
       "      <td>2010</td>\n",
       "      <td>2770000</td>\n",
       "      <td>86999</td>\n",
       "      <td>Abuja</td>\n",
       "      <td>automatic</td>\n",
       "      <td>Petrol</td>\n",
       "      <td>C</td>\n",
       "      <td>Foreign used</td>\n",
       "      <td>11</td>\n",
       "    </tr>\n",
       "    <tr>\n",
       "      <th>3143</th>\n",
       "      <td>Honda</td>\n",
       "      <td>Accord Crosstour</td>\n",
       "      <td>2010</td>\n",
       "      <td>2885000</td>\n",
       "      <td>122048</td>\n",
       "      <td>Abuja</td>\n",
       "      <td>automatic</td>\n",
       "      <td>Petrol</td>\n",
       "      <td>D</td>\n",
       "      <td>Nigerian used</td>\n",
       "      <td>11</td>\n",
       "    </tr>\n",
       "    <tr>\n",
       "      <th>3144</th>\n",
       "      <td>Mercedes-Benz</td>\n",
       "      <td>Cls500</td>\n",
       "      <td>2006</td>\n",
       "      <td>1390000</td>\n",
       "      <td>49844</td>\n",
       "      <td>PortHarcourt</td>\n",
       "      <td>automatic</td>\n",
       "      <td>Petrol</td>\n",
       "      <td>D</td>\n",
       "      <td>Nigerian used</td>\n",
       "      <td>15</td>\n",
       "    </tr>\n",
       "    <tr>\n",
       "      <th>3145</th>\n",
       "      <td>Mercedes-Benz</td>\n",
       "      <td>GLK350</td>\n",
       "      <td>2012</td>\n",
       "      <td>6910000</td>\n",
       "      <td>186104</td>\n",
       "      <td>PortHarcourt</td>\n",
       "      <td>automatic</td>\n",
       "      <td>Petrol</td>\n",
       "      <td>C</td>\n",
       "      <td>Nigerian used</td>\n",
       "      <td>9</td>\n",
       "    </tr>\n",
       "  </tbody>\n",
       "</table>\n",
       "<p>3146 rows × 11 columns</p>\n",
       "</div>"
      ],
      "text/plain": [
       "       manufacturer              model  year    price  mileage      location  \\\n",
       "0            Toyota             Tacoma  2005  3930000   248415         Asaba   \n",
       "1            Toyota              Camry  2003  1242000   180990         Lagos   \n",
       "2     Mercedes-Benz               C250  2012  5610000   234826        Kaduna   \n",
       "3            Toyota             Tundra  2007  5066800   172632         Lagos   \n",
       "4             Honda               Jazz  2008  1130000   155077         Lagos   \n",
       "...             ...                ...   ...      ...      ...           ...   \n",
       "3141      Landrover  Range Rover Sport  2008  3460000    46683  PortHarcourt   \n",
       "3142           Ford               Edge  2010  2770000    86999         Abuja   \n",
       "3143          Honda   Accord Crosstour  2010  2885000   122048         Abuja   \n",
       "3144  Mercedes-Benz             Cls500  2006  1390000    49844  PortHarcourt   \n",
       "3145  Mercedes-Benz             GLK350  2012  6910000   186104  PortHarcourt   \n",
       "\n",
       "     transmission fuel_type grade  car_condition  car_age  \n",
       "0       automatic    Petrol     D  Nigerian used       16  \n",
       "1       automatic    Petrol     D  Nigerian used       18  \n",
       "2       automatic    Petrol     C  Nigerian used        9  \n",
       "3       automatic    Petrol     D  Nigerian used       14  \n",
       "4          manual    Petrol     D  Nigerian used       13  \n",
       "...           ...       ...   ...            ...      ...  \n",
       "3141    automatic    Petrol     D  Nigerian used       13  \n",
       "3142    automatic    Petrol     C   Foreign used       11  \n",
       "3143    automatic    Petrol     D  Nigerian used       11  \n",
       "3144    automatic    Petrol     D  Nigerian used       15  \n",
       "3145    automatic    Petrol     C  Nigerian used        9  \n",
       "\n",
       "[3146 rows x 11 columns]"
      ]
     },
     "execution_count": 2,
     "metadata": {},
     "output_type": "execute_result"
    }
   ],
   "source": [
    "df = pd.read_csv(\"./Data/EDA_of_used_cars.csv\")\n",
    "df"
   ]
  },
  {
   "cell_type": "markdown",
   "id": "d97ef71f",
   "metadata": {},
   "source": [
    "#### Check for Multicolinearity"
   ]
  },
  {
   "cell_type": "code",
   "execution_count": 3,
   "id": "e1fc729e",
   "metadata": {},
   "outputs": [
    {
     "data": {
      "image/png": "[encoded data removed]",
      "text/plain": [
       "<Figure size 576x432 with 2 Axes>"
      ]
     },
     "metadata": {
      "needs_background": "light"
     },
     "output_type": "display_data"
    }
   ],
   "source": [
    "plt.subplots(figsize=(8,6))\n",
    "sns.heatmap(df.corr(), annot=True, square=True, annot_kws={'fontsize':15})\n",
    "plt.show()"
   ]
  },
  {
   "cell_type": "markdown",
   "id": "6d9ac879",
   "metadata": {},
   "source": [
    "Multicolinearity occurs between the car_age and year column. Therefore I will make use of year column during model training"
   ]
  },
  {
   "cell_type": "code",
   "execution_count": 4,
   "id": "979c281a",
   "metadata": {},
   "outputs": [
    {
     "name": "stdout",
     "output_type": "stream",
     "text": [
      "<class 'pandas.core.frame.DataFrame'>\n",
      "RangeIndex: 3146 entries, 0 to 3145\n",
      "Data columns (total 11 columns):\n",
      " #   Column         Non-Null Count  Dtype \n",
      "---  ------         --------------  ----- \n",
      " 0   manufacturer   3146 non-null   object\n",
      " 1   model          3146 non-null   object\n",
      " 2   year           3146 non-null   int64 \n",
      " 3   price          3146 non-null   int64 \n",
      " 4   mileage        3146 non-null   int64 \n",
      " 5   location       3146 non-null   object\n",
      " 6   transmission   3146 non-null   object\n",
      " 7   fuel_type      3146 non-null   object\n",
      " 8   grade          3146 non-null   object\n",
      " 9   car_condition  3146 non-null   object\n",
      " 10  car_age        3146 non-null   int64 \n",
      "dtypes: int64(4), object(7)\n",
      "memory usage: 270.5+ KB\n"
     ]
    }
   ],
   "source": [
    "df.info()"
   ]
  },
  {
   "cell_type": "code",
   "execution_count": 5,
   "id": "2394b792",
   "metadata": {},
   "outputs": [],
   "source": [
    "# converting all categorical columns to lower case\n",
    "df.manufacturer = df.manufacturer.str.lower()\n",
    "df.model = df.model.str.lower()\n",
    "df.car_condition = df.car_condition.str.lower()\n",
    "df.grade = df.grade.str.lower()\n",
    "df.fuel_type = df.fuel_type.str.lower()\n",
    "df.transmission = df.transmission.str.lower()\n",
    "df.location = df.location.str.lower()"
   ]
  },
  {
   "cell_type": "markdown",
   "id": "adcffb1d",
   "metadata": {},
   "source": [
    "### Encoding the Categorical Features"
   ]
  },
  {
   "cell_type": "code",
   "execution_count": 6,
   "id": "bef4c52f",
   "metadata": {},
   "outputs": [],
   "source": [
    "# Manufacturer\n",
    "le_manufac = LabelEncoder()\n",
    "le_manufac.fit(df['manufacturer'])\n",
    "# save the encoder\n",
    "pickle.dump(le_manufac, open('./Encoders/manufacturer_encoder.pk1','wb'))\n",
    "# transform the manufacturer encoder\n",
    "df['manufacturer'] = le_manufac.transform(df['manufacturer'])"
   ]
  },
  {
   "cell_type": "code",
   "execution_count": 7,
   "id": "978e08af",
   "metadata": {},
   "outputs": [],
   "source": [
    "#location\n",
    "le_locat = LabelEncoder()\n",
    "le_locat.fit(df['location'])\n",
    "# save the encoder\n",
    "pickle.dump(le_locat, open('./Encoders/location_encoder.pk1','wb'))\n",
    "# transform the location encoder\n",
    "df['location'] = le_locat.transform(df['location'])"
   ]
  },
  {
   "cell_type": "code",
   "execution_count": 8,
   "id": "5566eaad",
   "metadata": {},
   "outputs": [],
   "source": [
    "#model\n",
    "le_model = LabelEncoder()\n",
    "le_model.fit(df['model'])\n",
    "# save the encoder\n",
    "pickle.dump(le_model, open('./Encoders/model_encoder.pk1','wb'))\n",
    "# transform the model encoder\n",
    "df['model'] = le_model.transform(df['model'])"
   ]
  },
  {
   "cell_type": "code",
   "execution_count": 9,
   "id": "b1c3924a",
   "metadata": {},
   "outputs": [],
   "source": [
    "#transmission\n",
    "le_trans = LabelEncoder()\n",
    "le_trans.fit(df['transmission'])\n",
    "# save the encoder\n",
    "pickle.dump(le_trans, open('./Encoders/transmission_encoder.pk1','wb'))\n",
    "# transform the transmission encoder\n",
    "df['transmission'] = le_trans.transform(df['transmission'])"
   ]
  },
  {
   "cell_type": "code",
   "execution_count": 10,
   "id": "a6d0fff5",
   "metadata": {},
   "outputs": [],
   "source": [
    "# fuel_type\n",
    "le_ft = LabelEncoder()\n",
    "le_ft.fit(df['fuel_type'])\n",
    "# save the encoder\n",
    "pickle.dump(le_ft, open('./Encoders/fuel_type_encoder.pk1','wb'))\n",
    "# transform the fuel_type encoder\n",
    "df['fuel_type'] = le_ft.transform(df['fuel_type'])"
   ]
  },
  {
   "cell_type": "code",
   "execution_count": 11,
   "id": "66a5f70f",
   "metadata": {},
   "outputs": [],
   "source": [
    "# grade\n",
    "le_grd = LabelEncoder()\n",
    "le_grd.fit(df['grade'])\n",
    "# save the encoder\n",
    "pickle.dump(le_grd, open('./Encoders/grade_encoder.pk1','wb'))\n",
    "# transform the grade encoder\n",
    "df['grade'] = le_grd.transform(df['grade'])"
   ]
  },
  {
   "cell_type": "code",
   "execution_count": 12,
   "id": "67a635c1",
   "metadata": {},
   "outputs": [],
   "source": [
    "# car_condition\n",
    "le_ccd = LabelEncoder()\n",
    "le_ccd.fit(df['car_condition'])\n",
    "# save the encoder\n",
    "pickle.dump(le_ccd, open('./Encoders/car_condition_encoder.pk1','wb'))\n",
    "# transform the car_condition encoder\n",
    "df['car_condition'] = le_ccd.transform(df['car_condition'])"
   ]
  },
  {
   "cell_type": "code",
   "execution_count": 13,
   "id": "8139bd42",
   "metadata": {},
   "outputs": [
    {
     "name": "stdout",
     "output_type": "stream",
     "text": [
      "<class 'pandas.core.frame.DataFrame'>\n",
      "RangeIndex: 3146 entries, 0 to 3145\n",
      "Data columns (total 11 columns):\n",
      " #   Column         Non-Null Count  Dtype\n",
      "---  ------         --------------  -----\n",
      " 0   manufacturer   3146 non-null   int32\n",
      " 1   model          3146 non-null   int32\n",
      " 2   year           3146 non-null   int64\n",
      " 3   price          3146 non-null   int64\n",
      " 4   mileage        3146 non-null   int64\n",
      " 5   location       3146 non-null   int32\n",
      " 6   transmission   3146 non-null   int32\n",
      " 7   fuel_type      3146 non-null   int32\n",
      " 8   grade          3146 non-null   int32\n",
      " 9   car_condition  3146 non-null   int32\n",
      " 10  car_age        3146 non-null   int64\n",
      "dtypes: int32(7), int64(4)\n",
      "memory usage: 184.5 KB\n"
     ]
    }
   ],
   "source": [
    "df.info()"
   ]
  },
  {
   "cell_type": "code",
   "execution_count": 14,
   "id": "e53f47e3",
   "metadata": {},
   "outputs": [
    {
     "data": {
      "text/html": [
       "<div>\n",
       "<style scoped>\n",
       "    .dataframe tbody tr th:only-of-type {\n",
       "        vertical-align: middle;\n",
       "    }\n",
       "\n",
       "    .dataframe tbody tr th {\n",
       "        vertical-align: top;\n",
       "    }\n",
       "\n",
       "    .dataframe thead th {\n",
       "        text-align: right;\n",
       "    }\n",
       "</style>\n",
       "<table border=\"1\" class=\"dataframe\">\n",
       "  <thead>\n",
       "    <tr style=\"text-align: right;\">\n",
       "      <th></th>\n",
       "      <th>manufacturer</th>\n",
       "      <th>model</th>\n",
       "      <th>year</th>\n",
       "      <th>price</th>\n",
       "      <th>mileage</th>\n",
       "      <th>location</th>\n",
       "      <th>transmission</th>\n",
       "      <th>fuel_type</th>\n",
       "      <th>grade</th>\n",
       "      <th>car_condition</th>\n",
       "      <th>car_age</th>\n",
       "    </tr>\n",
       "  </thead>\n",
       "  <tbody>\n",
       "    <tr>\n",
       "      <th>0</th>\n",
       "      <td>47</td>\n",
       "      <td>322</td>\n",
       "      <td>2005</td>\n",
       "      <td>3930000</td>\n",
       "      <td>248415</td>\n",
       "      <td>2</td>\n",
       "      <td>0</td>\n",
       "      <td>3</td>\n",
       "      <td>3</td>\n",
       "      <td>1</td>\n",
       "      <td>16</td>\n",
       "    </tr>\n",
       "    <tr>\n",
       "      <th>1</th>\n",
       "      <td>47</td>\n",
       "      <td>74</td>\n",
       "      <td>2003</td>\n",
       "      <td>1242000</td>\n",
       "      <td>180990</td>\n",
       "      <td>7</td>\n",
       "      <td>0</td>\n",
       "      <td>3</td>\n",
       "      <td>3</td>\n",
       "      <td>1</td>\n",
       "      <td>18</td>\n",
       "    </tr>\n",
       "    <tr>\n",
       "      <th>2</th>\n",
       "      <td>30</td>\n",
       "      <td>66</td>\n",
       "      <td>2012</td>\n",
       "      <td>5610000</td>\n",
       "      <td>234826</td>\n",
       "      <td>6</td>\n",
       "      <td>0</td>\n",
       "      <td>3</td>\n",
       "      <td>2</td>\n",
       "      <td>1</td>\n",
       "      <td>9</td>\n",
       "    </tr>\n",
       "    <tr>\n",
       "      <th>3</th>\n",
       "      <td>47</td>\n",
       "      <td>343</td>\n",
       "      <td>2007</td>\n",
       "      <td>5066800</td>\n",
       "      <td>172632</td>\n",
       "      <td>7</td>\n",
       "      <td>0</td>\n",
       "      <td>3</td>\n",
       "      <td>3</td>\n",
       "      <td>1</td>\n",
       "      <td>14</td>\n",
       "    </tr>\n",
       "    <tr>\n",
       "      <th>4</th>\n",
       "      <td>16</td>\n",
       "      <td>196</td>\n",
       "      <td>2008</td>\n",
       "      <td>1130000</td>\n",
       "      <td>155077</td>\n",
       "      <td>7</td>\n",
       "      <td>1</td>\n",
       "      <td>3</td>\n",
       "      <td>3</td>\n",
       "      <td>1</td>\n",
       "      <td>13</td>\n",
       "    </tr>\n",
       "    <tr>\n",
       "      <th>...</th>\n",
       "      <td>...</td>\n",
       "      <td>...</td>\n",
       "      <td>...</td>\n",
       "      <td>...</td>\n",
       "      <td>...</td>\n",
       "      <td>...</td>\n",
       "      <td>...</td>\n",
       "      <td>...</td>\n",
       "      <td>...</td>\n",
       "      <td>...</td>\n",
       "      <td>...</td>\n",
       "    </tr>\n",
       "    <tr>\n",
       "      <th>3141</th>\n",
       "      <td>25</td>\n",
       "      <td>270</td>\n",
       "      <td>2008</td>\n",
       "      <td>3460000</td>\n",
       "      <td>46683</td>\n",
       "      <td>10</td>\n",
       "      <td>0</td>\n",
       "      <td>3</td>\n",
       "      <td>3</td>\n",
       "      <td>1</td>\n",
       "      <td>13</td>\n",
       "    </tr>\n",
       "    <tr>\n",
       "      <th>3142</th>\n",
       "      <td>11</td>\n",
       "      <td>124</td>\n",
       "      <td>2010</td>\n",
       "      <td>2770000</td>\n",
       "      <td>86999</td>\n",
       "      <td>0</td>\n",
       "      <td>0</td>\n",
       "      <td>3</td>\n",
       "      <td>2</td>\n",
       "      <td>0</td>\n",
       "      <td>11</td>\n",
       "    </tr>\n",
       "    <tr>\n",
       "      <th>3143</th>\n",
       "      <td>16</td>\n",
       "      <td>36</td>\n",
       "      <td>2010</td>\n",
       "      <td>2885000</td>\n",
       "      <td>122048</td>\n",
       "      <td>0</td>\n",
       "      <td>0</td>\n",
       "      <td>3</td>\n",
       "      <td>3</td>\n",
       "      <td>1</td>\n",
       "      <td>11</td>\n",
       "    </tr>\n",
       "    <tr>\n",
       "      <th>3144</th>\n",
       "      <td>30</td>\n",
       "      <td>95</td>\n",
       "      <td>2006</td>\n",
       "      <td>1390000</td>\n",
       "      <td>49844</td>\n",
       "      <td>10</td>\n",
       "      <td>0</td>\n",
       "      <td>3</td>\n",
       "      <td>3</td>\n",
       "      <td>1</td>\n",
       "      <td>15</td>\n",
       "    </tr>\n",
       "    <tr>\n",
       "      <th>3145</th>\n",
       "      <td>30</td>\n",
       "      <td>166</td>\n",
       "      <td>2012</td>\n",
       "      <td>6910000</td>\n",
       "      <td>186104</td>\n",
       "      <td>10</td>\n",
       "      <td>0</td>\n",
       "      <td>3</td>\n",
       "      <td>2</td>\n",
       "      <td>1</td>\n",
       "      <td>9</td>\n",
       "    </tr>\n",
       "  </tbody>\n",
       "</table>\n",
       "<p>3146 rows × 11 columns</p>\n",
       "</div>"
      ],
      "text/plain": [
       "      manufacturer  model  year    price  mileage  location  transmission  \\\n",
       "0               47    322  2005  3930000   248415         2             0   \n",
       "1               47     74  2003  1242000   180990         7             0   \n",
       "2               30     66  2012  5610000   234826         6             0   \n",
       "3               47    343  2007  5066800   172632         7             0   \n",
       "4               16    196  2008  1130000   155077         7             1   \n",
       "...            ...    ...   ...      ...      ...       ...           ...   \n",
       "3141            25    270  2008  3460000    46683        10             0   \n",
       "3142            11    124  2010  2770000    86999         0             0   \n",
       "3143            16     36  2010  2885000   122048         0             0   \n",
       "3144            30     95  2006  1390000    49844        10             0   \n",
       "3145            30    166  2012  6910000   186104        10             0   \n",
       "\n",
       "      fuel_type  grade  car_condition  car_age  \n",
       "0             3      3              1       16  \n",
       "1             3      3              1       18  \n",
       "2             3      2              1        9  \n",
       "3             3      3              1       14  \n",
       "4             3      3              1       13  \n",
       "...         ...    ...            ...      ...  \n",
       "3141          3      3              1       13  \n",
       "3142          3      2              0       11  \n",
       "3143          3      3              1       11  \n",
       "3144          3      3              1       15  \n",
       "3145          3      2              1        9  \n",
       "\n",
       "[3146 rows x 11 columns]"
      ]
     },
     "execution_count": 14,
     "metadata": {},
     "output_type": "execute_result"
    }
   ],
   "source": [
    "df"
   ]
  },
  {
   "cell_type": "code",
   "execution_count": 15,
   "id": "3c1ca3a4",
   "metadata": {},
   "outputs": [
    {
     "name": "stdout",
     "output_type": "stream",
     "text": [
      "<class 'pandas.core.frame.DataFrame'>\n",
      "RangeIndex: 3146 entries, 0 to 3145\n",
      "Data columns (total 10 columns):\n",
      " #   Column         Non-Null Count  Dtype\n",
      "---  ------         --------------  -----\n",
      " 0   manufacturer   3146 non-null   int32\n",
      " 1   model          3146 non-null   int32\n",
      " 2   year           3146 non-null   int64\n",
      " 3   location       3146 non-null   int32\n",
      " 4   mileage        3146 non-null   int64\n",
      " 5   transmission   3146 non-null   int32\n",
      " 6   fuel_type      3146 non-null   int32\n",
      " 7   grade          3146 non-null   int32\n",
      " 8   car_condition  3146 non-null   int32\n",
      " 9   price          3146 non-null   int64\n",
      "dtypes: int32(7), int64(3)\n",
      "memory usage: 159.9 KB\n"
     ]
    }
   ],
   "source": [
    "# rearranging columns for easier selection of dependent and independent variables\n",
    "df_model = df[['manufacturer','model','year','location','mileage','transmission','fuel_type','grade','car_condition','price']]\n",
    "df_model.info()"
   ]
  },
  {
   "cell_type": "code",
   "execution_count": 16,
   "id": "70b639e0",
   "metadata": {},
   "outputs": [
    {
     "data": {
      "text/html": [
       "<div>\n",
       "<style scoped>\n",
       "    .dataframe tbody tr th:only-of-type {\n",
       "        vertical-align: middle;\n",
       "    }\n",
       "\n",
       "    .dataframe tbody tr th {\n",
       "        vertical-align: top;\n",
       "    }\n",
       "\n",
       "    .dataframe thead th {\n",
       "        text-align: right;\n",
       "    }\n",
       "</style>\n",
       "<table border=\"1\" class=\"dataframe\">\n",
       "  <thead>\n",
       "    <tr style=\"text-align: right;\">\n",
       "      <th></th>\n",
       "      <th>manufacturer</th>\n",
       "      <th>model</th>\n",
       "      <th>year</th>\n",
       "      <th>location</th>\n",
       "      <th>mileage</th>\n",
       "      <th>transmission</th>\n",
       "      <th>fuel_type</th>\n",
       "      <th>grade</th>\n",
       "      <th>car_condition</th>\n",
       "      <th>price</th>\n",
       "    </tr>\n",
       "  </thead>\n",
       "  <tbody>\n",
       "    <tr>\n",
       "      <th>0</th>\n",
       "      <td>47</td>\n",
       "      <td>322</td>\n",
       "      <td>2005</td>\n",
       "      <td>2</td>\n",
       "      <td>248415</td>\n",
       "      <td>0</td>\n",
       "      <td>3</td>\n",
       "      <td>3</td>\n",
       "      <td>1</td>\n",
       "      <td>3930000</td>\n",
       "    </tr>\n",
       "    <tr>\n",
       "      <th>1</th>\n",
       "      <td>47</td>\n",
       "      <td>74</td>\n",
       "      <td>2003</td>\n",
       "      <td>7</td>\n",
       "      <td>180990</td>\n",
       "      <td>0</td>\n",
       "      <td>3</td>\n",
       "      <td>3</td>\n",
       "      <td>1</td>\n",
       "      <td>1242000</td>\n",
       "    </tr>\n",
       "    <tr>\n",
       "      <th>2</th>\n",
       "      <td>30</td>\n",
       "      <td>66</td>\n",
       "      <td>2012</td>\n",
       "      <td>6</td>\n",
       "      <td>234826</td>\n",
       "      <td>0</td>\n",
       "      <td>3</td>\n",
       "      <td>2</td>\n",
       "      <td>1</td>\n",
       "      <td>5610000</td>\n",
       "    </tr>\n",
       "    <tr>\n",
       "      <th>3</th>\n",
       "      <td>47</td>\n",
       "      <td>343</td>\n",
       "      <td>2007</td>\n",
       "      <td>7</td>\n",
       "      <td>172632</td>\n",
       "      <td>0</td>\n",
       "      <td>3</td>\n",
       "      <td>3</td>\n",
       "      <td>1</td>\n",
       "      <td>5066800</td>\n",
       "    </tr>\n",
       "    <tr>\n",
       "      <th>4</th>\n",
       "      <td>16</td>\n",
       "      <td>196</td>\n",
       "      <td>2008</td>\n",
       "      <td>7</td>\n",
       "      <td>155077</td>\n",
       "      <td>1</td>\n",
       "      <td>3</td>\n",
       "      <td>3</td>\n",
       "      <td>1</td>\n",
       "      <td>1130000</td>\n",
       "    </tr>\n",
       "    <tr>\n",
       "      <th>...</th>\n",
       "      <td>...</td>\n",
       "      <td>...</td>\n",
       "      <td>...</td>\n",
       "      <td>...</td>\n",
       "      <td>...</td>\n",
       "      <td>...</td>\n",
       "      <td>...</td>\n",
       "      <td>...</td>\n",
       "      <td>...</td>\n",
       "      <td>...</td>\n",
       "    </tr>\n",
       "    <tr>\n",
       "      <th>3141</th>\n",
       "      <td>25</td>\n",
       "      <td>270</td>\n",
       "      <td>2008</td>\n",
       "      <td>10</td>\n",
       "      <td>46683</td>\n",
       "      <td>0</td>\n",
       "      <td>3</td>\n",
       "      <td>3</td>\n",
       "      <td>1</td>\n",
       "      <td>3460000</td>\n",
       "    </tr>\n",
       "    <tr>\n",
       "      <th>3142</th>\n",
       "      <td>11</td>\n",
       "      <td>124</td>\n",
       "      <td>2010</td>\n",
       "      <td>0</td>\n",
       "      <td>86999</td>\n",
       "      <td>0</td>\n",
       "      <td>3</td>\n",
       "      <td>2</td>\n",
       "      <td>0</td>\n",
       "      <td>2770000</td>\n",
       "    </tr>\n",
       "    <tr>\n",
       "      <th>3143</th>\n",
       "      <td>16</td>\n",
       "      <td>36</td>\n",
       "      <td>2010</td>\n",
       "      <td>0</td>\n",
       "      <td>122048</td>\n",
       "      <td>0</td>\n",
       "      <td>3</td>\n",
       "      <td>3</td>\n",
       "      <td>1</td>\n",
       "      <td>2885000</td>\n",
       "    </tr>\n",
       "    <tr>\n",
       "      <th>3144</th>\n",
       "      <td>30</td>\n",
       "      <td>95</td>\n",
       "      <td>2006</td>\n",
       "      <td>10</td>\n",
       "      <td>49844</td>\n",
       "      <td>0</td>\n",
       "      <td>3</td>\n",
       "      <td>3</td>\n",
       "      <td>1</td>\n",
       "      <td>1390000</td>\n",
       "    </tr>\n",
       "    <tr>\n",
       "      <th>3145</th>\n",
       "      <td>30</td>\n",
       "      <td>166</td>\n",
       "      <td>2012</td>\n",
       "      <td>10</td>\n",
       "      <td>186104</td>\n",
       "      <td>0</td>\n",
       "      <td>3</td>\n",
       "      <td>2</td>\n",
       "      <td>1</td>\n",
       "      <td>6910000</td>\n",
       "    </tr>\n",
       "  </tbody>\n",
       "</table>\n",
       "<p>3146 rows × 10 columns</p>\n",
       "</div>"
      ],
      "text/plain": [
       "      manufacturer  model  year  location  mileage  transmission  fuel_type  \\\n",
       "0               47    322  2005         2   248415             0          3   \n",
       "1               47     74  2003         7   180990             0          3   \n",
       "2               30     66  2012         6   234826             0          3   \n",
       "3               47    343  2007         7   172632             0          3   \n",
       "4               16    196  2008         7   155077             1          3   \n",
       "...            ...    ...   ...       ...      ...           ...        ...   \n",
       "3141            25    270  2008        10    46683             0          3   \n",
       "3142            11    124  2010         0    86999             0          3   \n",
       "3143            16     36  2010         0   122048             0          3   \n",
       "3144            30     95  2006        10    49844             0          3   \n",
       "3145            30    166  2012        10   186104             0          3   \n",
       "\n",
       "      grade  car_condition    price  \n",
       "0         3              1  3930000  \n",
       "1         3              1  1242000  \n",
       "2         2              1  5610000  \n",
       "3         3              1  5066800  \n",
       "4         3              1  1130000  \n",
       "...     ...            ...      ...  \n",
       "3141      3              1  3460000  \n",
       "3142      2              0  2770000  \n",
       "3143      3              1  2885000  \n",
       "3144      3              1  1390000  \n",
       "3145      2              1  6910000  \n",
       "\n",
       "[3146 rows x 10 columns]"
      ]
     },
     "execution_count": 16,
     "metadata": {},
     "output_type": "execute_result"
    }
   ],
   "source": [
    "df_model"
   ]
  },
  {
   "cell_type": "markdown",
   "id": "a1f3607d",
   "metadata": {},
   "source": [
    "### Modelling without Feature Selection"
   ]
  },
  {
   "cell_type": "code",
   "execution_count": 17,
   "id": "33c59a26",
   "metadata": {},
   "outputs": [],
   "source": [
    "# selecting features, X\n",
    "X = df_model.iloc[:, :-1].values\n",
    "# selecting labels, y\n",
    "y = df_model.iloc[:, -1].values"
   ]
  },
  {
   "cell_type": "code",
   "execution_count": 19,
   "id": "d0446e2c",
   "metadata": {},
   "outputs": [
    {
     "name": "stdout",
     "output_type": "stream",
     "text": [
      "Train set:  (2516, 9) (2516,)\n",
      "Test set:  (630, 9) (630,)\n"
     ]
    }
   ],
   "source": [
    "# split into train and test\n",
    "X_train, X_test, y_train, y_test = train_test_split(X, y, test_size=0.2, random_state=42)\n",
    "print('Train set: ', X_train.shape, y_train.shape)\n",
    "print('Test set: ', X_test.shape, y_test.shape)"
   ]
  },
  {
   "cell_type": "code",
   "execution_count": 21,
   "id": "0dec6bd3",
   "metadata": {},
   "outputs": [],
   "source": [
    "# define scaler\n",
    "scaler = StandardScaler()\n",
    "# fit scaler on the training dataset\n",
    "scaler.fit(X_train)\n",
    "# save the scaler\n",
    "pickle.dump(scaler, open('./Scaler/standard_scaler.pkl', 'wb'))\n",
    "# transform the training dataset\n",
    "X_train_scaled = scaler.transform(X_train)\n",
    "# transform the test dataset\n",
    "X_test_scaled = scaler.transform(X_test)"
   ]
  },
  {
   "cell_type": "code",
   "execution_count": 22,
   "id": "ce3748dc",
   "metadata": {},
   "outputs": [],
   "source": [
    "def evaluate(model, test_features, test_labels):\n",
    "    predictions = model.predict(test_features)\n",
    "    errors = abs(predictions - test_labels)\n",
    "    mape = 100 * np.mean(errors / test_labels)\n",
    "    accuracy = 100 - mape\n",
    "    print('Model Performance')\n",
    "    print('Accuracy = {:0.2f}%.'.format(accuracy))\n",
    "    return accuracy"
   ]
  },
  {
   "cell_type": "markdown",
   "id": "baa018ff",
   "metadata": {},
   "source": [
    "#### Linear Regression"
   ]
  },
  {
   "cell_type": "code",
   "execution_count": 23,
   "id": "6987e28c",
   "metadata": {},
   "outputs": [
    {
     "data": {
      "text/plain": [
       "LinearRegression()"
      ]
     },
     "execution_count": 23,
     "metadata": {},
     "output_type": "execute_result"
    }
   ],
   "source": [
    "lin_reg = LinearRegression()\n",
    "lin_reg.fit(X_train_scaled, y_train)"
   ]
  },
  {
   "cell_type": "code",
   "execution_count": 24,
   "id": "a15b8a84",
   "metadata": {},
   "outputs": [],
   "source": [
    "y_pred = lin_reg.predict(X_test_scaled)"
   ]
  },
  {
   "cell_type": "code",
   "execution_count": 25,
   "id": "bfa84d65",
   "metadata": {},
   "outputs": [
    {
     "name": "stdout",
     "output_type": "stream",
     "text": [
      "Mean Absolute Error:  908105.409\n",
      "Mean Squared Error:  1484570175004.325\n",
      "Root Mean Squared Error:  1218429.389\n",
      "R2 score:  0.511\n"
     ]
    }
   ],
   "source": [
    "print('Mean Absolute Error: ', round(metrics.mean_absolute_error(y_test, y_pred), 3))\n",
    "print('Mean Squared Error: ', round(metrics.mean_squared_error(y_test, y_pred), 3))\n",
    "print('Root Mean Squared Error: ', round(np.sqrt(metrics.mean_squared_error(y_test, y_pred)), 3))\n",
    "print('R2 score: ', round(r2_score(y_test, y_pred), 3))"
   ]
  },
  {
   "cell_type": "code",
   "execution_count": 26,
   "id": "8f2e9e24",
   "metadata": {},
   "outputs": [
    {
     "name": "stdout",
     "output_type": "stream",
     "text": [
      "Model Performance\n",
      "Accuracy = 58.06%.\n",
      "Model Performance\n",
      "Accuracy = 59.43%.\n"
     ]
    },
    {
     "data": {
      "text/plain": [
       "59.431207702834"
      ]
     },
     "execution_count": 26,
     "metadata": {},
     "output_type": "execute_result"
    }
   ],
   "source": [
    "evaluate(lin_reg, X_train_scaled, y_train)\n",
    "evaluate(lin_reg, X_test_scaled, y_test)"
   ]
  },
  {
   "cell_type": "markdown",
   "id": "179868ff",
   "metadata": {},
   "source": [
    "#### Polyniomal Regression"
   ]
  },
  {
   "cell_type": "code",
   "execution_count": 27,
   "id": "4a24dc03",
   "metadata": {},
   "outputs": [],
   "source": [
    "from sklearn.preprocessing import PolynomialFeatures\n",
    "# Polynomial transformation of degree 2\n",
    "poly_features = PolynomialFeatures(degree = 2)\n",
    "# Returns a transformed version of X with new features\n",
    "poly_features.fit(X_train_scaled)\n",
    "X_train_scaled_poly = poly_features.transform(X_train_scaled)\n",
    "# save the scaler\n",
    "pickle.dump(poly_features, open('poly_feature.pkl', 'wb'))\n",
    "# transform test\n",
    "X_test_scaled_poly = poly_features.transform(X_test_scaled)"
   ]
  },
  {
   "cell_type": "code",
   "execution_count": 28,
   "id": "863d8fe2",
   "metadata": {},
   "outputs": [
    {
     "name": "stdout",
     "output_type": "stream",
     "text": [
      "[CV] END .................................................... total time=   0.0s\n",
      "[CV] END .................................................... total time=   0.0s\n",
      "[CV] END .................................................... total time=   0.0s\n",
      "[CV] END .................................................... total time=   0.0s\n",
      "[CV] END .................................................... total time=   0.0s\n"
     ]
    },
    {
     "name": "stderr",
     "output_type": "stream",
     "text": [
      "[Parallel(n_jobs=1)]: Using backend SequentialBackend with 1 concurrent workers.\n",
      "[Parallel(n_jobs=1)]: Done   1 out of   1 | elapsed:    0.0s remaining:    0.0s\n",
      "[Parallel(n_jobs=1)]: Done   5 out of   5 | elapsed:    0.0s finished\n"
     ]
    },
    {
     "data": {
      "text/plain": [
       "array([0.48036881, 0.51658987, 0.55359043, 0.53747547, 0.52010895])"
      ]
     },
     "execution_count": 28,
     "metadata": {},
     "output_type": "execute_result"
    }
   ],
   "source": [
    "poly_reg = LinearRegression()\n",
    "poly_reg_score = cross_val_score(poly_reg, X_train_scaled_poly, y_train, verbose = 2)\n",
    "poly_reg_score"
   ]
  },
  {
   "cell_type": "code",
   "execution_count": 29,
   "id": "50d38a22",
   "metadata": {},
   "outputs": [
    {
     "data": {
      "text/plain": [
       "0.5238887508425829"
      ]
     },
     "execution_count": 29,
     "metadata": {},
     "output_type": "execute_result"
    }
   ],
   "source": [
    "poly_reg.fit(X_train_scaled_poly, y_train)\n",
    "y_pred_poly = poly_reg.predict(X_test_scaled_poly)\n",
    "poly_reg.score(X_test_scaled_poly, y_test)"
   ]
  },
  {
   "cell_type": "code",
   "execution_count": 30,
   "id": "4f95464d",
   "metadata": {},
   "outputs": [
    {
     "name": "stdout",
     "output_type": "stream",
     "text": [
      "Mean Absolute Error:  860997.524\n",
      "Mean Squared Error:  1444918368337.638\n",
      "Root Mean Squared Error:  1202047.573\n",
      "R2 score:  0.524\n"
     ]
    }
   ],
   "source": [
    "print('Mean Absolute Error: ', round(metrics.mean_absolute_error(y_test, y_pred_poly), 3))\n",
    "print('Mean Squared Error: ', round(metrics.mean_squared_error(y_test, y_pred_poly), 3))\n",
    "print('Root Mean Squared Error: ', round(np.sqrt(metrics.mean_squared_error(y_test, y_pred_poly)), 3))\n",
    "print('R2 score: ', round(r2_score(y_test, y_pred_poly), 3))"
   ]
  },
  {
   "cell_type": "markdown",
   "id": "d1e826a8",
   "metadata": {},
   "source": [
    "#### Decision Trees"
   ]
  },
  {
   "cell_type": "code",
   "execution_count": 31,
   "id": "5f02e91d",
   "metadata": {},
   "outputs": [
    {
     "data": {
      "text/plain": [
       "DecisionTreeRegressor(random_state=42)"
      ]
     },
     "execution_count": 31,
     "metadata": {},
     "output_type": "execute_result"
    }
   ],
   "source": [
    "dec_tree = DecisionTreeRegressor(random_state=42)\n",
    "dec_tree.fit(X_train_scaled, y_train.ravel())"
   ]
  },
  {
   "cell_type": "code",
   "execution_count": 32,
   "id": "5972d087",
   "metadata": {},
   "outputs": [],
   "source": [
    "y_predDT = dec_tree.predict(X_test_scaled)"
   ]
  },
  {
   "cell_type": "code",
   "execution_count": 33,
   "id": "014a36c3",
   "metadata": {},
   "outputs": [
    {
     "name": "stdout",
     "output_type": "stream",
     "text": [
      "Mean Absolute Error:  824132.579\n",
      "Mean Squared Error:  1531878962194.706\n",
      "Root Mean Squared Error:  1237690.98\n",
      "R2 score:  0.495\n"
     ]
    }
   ],
   "source": [
    "print('Mean Absolute Error: ', round(metrics.mean_absolute_error(y_test, y_predDT), 3))\n",
    "print('Mean Squared Error: ', round(metrics.mean_squared_error(y_test, y_predDT), 3))\n",
    "print('Root Mean Squared Error: ', round(np.sqrt(metrics.mean_squared_error(y_test, y_predDT)), 3))\n",
    "print('R2 score: ', round(r2_score(y_test, y_predDT), 3))"
   ]
  },
  {
   "cell_type": "code",
   "execution_count": 34,
   "id": "61e02f07",
   "metadata": {},
   "outputs": [
    {
     "name": "stdout",
     "output_type": "stream",
     "text": [
      "Model Performance\n",
      "Accuracy = 99.97%.\n",
      "Model Performance\n",
      "Accuracy = 68.36%.\n"
     ]
    },
    {
     "data": {
      "text/plain": [
       "68.35700370269643"
      ]
     },
     "execution_count": 34,
     "metadata": {},
     "output_type": "execute_result"
    }
   ],
   "source": [
    "evaluate(dec_tree, X_train_scaled, y_train)\n",
    "evaluate(dec_tree, X_test_scaled, y_test)"
   ]
  },
  {
   "cell_type": "code",
   "execution_count": 35,
   "id": "35bc8af9",
   "metadata": {},
   "outputs": [
    {
     "name": "stdout",
     "output_type": "stream",
     "text": [
      "Fitting 5 folds for each of 100 candidates, totalling 500 fits\n",
      "\n",
      "========================================================\n",
      " Results from Randomized Search \n",
      "========================================================\n",
      "\n",
      " The best estimator across ALL searched params:\n",
      " DecisionTreeRegressor(max_depth=35, max_features='auto', min_samples_leaf=6,\n",
      "                      min_samples_split=20)\n",
      "\n",
      " The best score across ALL searched params:\n",
      " 0.5681859596684162\n",
      "\n",
      " The best parameters across ALL searched params:\n",
      " {'min_samples_split': 20, 'min_samples_leaf': 6, 'max_features': 'auto', 'max_depth': 35}\n"
     ]
    }
   ],
   "source": [
    "param_grid = {'max_features': ['auto', 'sqrt'],\n",
    "              'max_depth': np.arange(5, 36, 5),\n",
    "              'min_samples_split': [5, 10, 20, 40],\n",
    "              'min_samples_leaf': [2, 6, 12, 24],\n",
    "             }\n",
    "tree_reg = RandomizedSearchCV(estimator = DecisionTreeRegressor(), param_distributions = param_grid, n_iter = 100, verbose = 2, n_jobs = -1)\n",
    "tree_reg.fit(X_train_scaled, y_train)\n",
    "\n",
    "# Results from Randomized Search\n",
    "print(\"\\n========================================================\")\n",
    "print(\" Results from Randomized Search \" )\n",
    "print(\"========================================================\")    \n",
    "    \n",
    "print(\"\\n The best estimator across ALL searched params:\\n\",\n",
    "          tree_reg.best_estimator_)\n",
    "    \n",
    "print(\"\\n The best score across ALL searched params:\\n\",\n",
    "          tree_reg.best_score_)\n",
    "    \n",
    "print(\"\\n The best parameters across ALL searched params:\\n\",\n",
    "          tree_reg.best_params_)"
   ]
  },
  {
   "cell_type": "code",
   "execution_count": 36,
   "id": "164a8ae9",
   "metadata": {},
   "outputs": [
    {
     "data": {
      "text/plain": [
       "DecisionTreeRegressor(max_depth=35, max_features='auto', min_samples_leaf=6,\n",
       "                      min_samples_split=20, random_state=42)"
      ]
     },
     "execution_count": 36,
     "metadata": {},
     "output_type": "execute_result"
    }
   ],
   "source": [
    "new_dec_tree = DecisionTreeRegressor(min_samples_split=20, min_samples_leaf=6, max_features='auto', max_depth=35, random_state=42)\n",
    "new_dec_tree.fit(X_train_scaled, y_train)"
   ]
  },
  {
   "cell_type": "code",
   "execution_count": 37,
   "id": "44d83d51",
   "metadata": {},
   "outputs": [
    {
     "name": "stdout",
     "output_type": "stream",
     "text": [
      "Mean Absolute Error:  722026.473\n",
      "Mean Squared Error:  1048331215540.503\n",
      "Root Mean Squared Error:  1023880.469\n",
      "R2 score:  0.655\n"
     ]
    }
   ],
   "source": [
    "y_predDT = new_dec_tree.predict(X_test_scaled)\n",
    "print('Mean Absolute Error: ', round(metrics.mean_absolute_error(y_test, y_predDT), 3))\n",
    "print('Mean Squared Error: ', round(metrics.mean_squared_error(y_test, y_predDT), 3))\n",
    "print('Root Mean Squared Error: ', round(np.sqrt(metrics.mean_squared_error(y_test, y_predDT)), 3))\n",
    "print('R2 score: ', round(r2_score(y_test, y_predDT), 3))"
   ]
  },
  {
   "cell_type": "code",
   "execution_count": 38,
   "id": "99bbc33f",
   "metadata": {},
   "outputs": [
    {
     "name": "stdout",
     "output_type": "stream",
     "text": [
      "Model Performance\n",
      "Accuracy = 76.91%.\n",
      "Model Performance\n",
      "Accuracy = 69.79%.\n"
     ]
    },
    {
     "data": {
      "text/plain": [
       "69.79225880135363"
      ]
     },
     "execution_count": 38,
     "metadata": {},
     "output_type": "execute_result"
    }
   ],
   "source": [
    "evaluate(new_dec_tree, X_train_scaled, y_train)\n",
    "evaluate(new_dec_tree, X_test_scaled, y_test)"
   ]
  },
  {
   "cell_type": "markdown",
   "id": "355653d8",
   "metadata": {},
   "source": [
    "#### Random Forest Regressor"
   ]
  },
  {
   "cell_type": "code",
   "execution_count": 39,
   "id": "7123d11e",
   "metadata": {},
   "outputs": [
    {
     "data": {
      "text/plain": [
       "RandomForestRegressor(n_estimators=800, random_state=42)"
      ]
     },
     "execution_count": 39,
     "metadata": {},
     "output_type": "execute_result"
    }
   ],
   "source": [
    "rfr = RandomForestRegressor(n_estimators=800, random_state=42)\n",
    "rfr.fit(X_train_scaled, y_train.ravel())"
   ]
  },
  {
   "cell_type": "code",
   "execution_count": 40,
   "id": "650ef96c",
   "metadata": {},
   "outputs": [],
   "source": [
    "y_predRF = rfr.predict(X_test_scaled)"
   ]
  },
  {
   "cell_type": "code",
   "execution_count": 41,
   "id": "f60a3cb5",
   "metadata": {},
   "outputs": [
    {
     "name": "stdout",
     "output_type": "stream",
     "text": [
      "Mean Absolute Error:  652377.094\n",
      "Mean Squared Error:  883326229769.426\n",
      "Root Mean Squared Error:  939854.366\n",
      "R2 score:  0.709\n"
     ]
    }
   ],
   "source": [
    "print('Mean Absolute Error: ', round(metrics.mean_absolute_error(y_test, y_predRF), 3))\n",
    "print('Mean Squared Error: ', round(metrics.mean_squared_error(y_test, y_predRF), 3))\n",
    "print('Root Mean Squared Error: ', round(np.sqrt(metrics.mean_squared_error(y_test, y_predRF)), 3))\n",
    "print('R2 score: ', round(r2_score(y_test, y_predRF), 3))"
   ]
  },
  {
   "cell_type": "code",
   "execution_count": 42,
   "id": "1e0ef94c",
   "metadata": {},
   "outputs": [
    {
     "name": "stdout",
     "output_type": "stream",
     "text": [
      "Model Performance\n",
      "Accuracy = 89.73%.\n",
      "Model Performance\n",
      "Accuracy = 73.10%.\n"
     ]
    },
    {
     "data": {
      "text/plain": [
       "73.10439519229112"
      ]
     },
     "execution_count": 42,
     "metadata": {},
     "output_type": "execute_result"
    }
   ],
   "source": [
    "evaluate(rfr, X_train_scaled, y_train)\n",
    "evaluate(rfr, X_test_scaled, y_test)"
   ]
  },
  {
   "cell_type": "code",
   "execution_count": 43,
   "id": "b68f1b9d",
   "metadata": {
    "scrolled": false
   },
   "outputs": [
    {
     "name": "stdout",
     "output_type": "stream",
     "text": [
      "\n",
      "========================================================\n",
      " Results from Grid Search \n",
      "========================================================\n",
      "\n",
      " The best estimator across ALL searched params:\n",
      " RandomForestRegressor(min_samples_split=3, n_estimators=400)\n",
      "\n",
      " The best score across ALL searched params:\n",
      " 0.6684371806712943\n",
      "\n",
      " The best parameters across ALL searched params:\n",
      " {'max_features': 'auto', 'min_samples_leaf': 1, 'min_samples_split': 3, 'n_estimators': 400}\n"
     ]
    }
   ],
   "source": [
    "# to find the best parameters for random forest\n",
    "model = RandomForestRegressor()\n",
    "n_estimators = [10, 50, 100, 250, 400, 1000]\n",
    "min_samples_split = [2, 3, 5, 7, 9]\n",
    "min_samples_leaf = [1, 2, 4, 6, 8]\n",
    "max_features = ['auto', 'sqrt', 'log2', None]\n",
    "\n",
    "parameters = {'n_estimators': n_estimators,\n",
    "              'min_samples_leaf': min_samples_leaf,\n",
    "              'min_samples_split': min_samples_split,\n",
    "              'max_features': max_features}\n",
    "\n",
    "grid = GridSearchCV(model, parameters, cv = 2, n_jobs=-1)\n",
    "gs = grid.fit(X_train_scaled, y_train)    \n",
    "\n",
    "# Results from Grid Search\n",
    "print(\"\\n========================================================\")\n",
    "print(\" Results from Grid Search \" )\n",
    "print(\"========================================================\")    \n",
    "    \n",
    "print(\"\\n The best estimator across ALL searched params:\\n\",\n",
    "          gs.best_estimator_)\n",
    "    \n",
    "print(\"\\n The best score across ALL searched params:\\n\",\n",
    "          gs.best_score_)\n",
    "    \n",
    "print(\"\\n The best parameters across ALL searched params:\\n\",\n",
    "          gs.best_params_)"
   ]
  },
  {
   "cell_type": "code",
   "execution_count": 44,
   "id": "2b839763",
   "metadata": {},
   "outputs": [
    {
     "data": {
      "text/plain": [
       "RandomForestRegressor(min_samples_split=3, n_estimators=400, random_state=42)"
      ]
     },
     "execution_count": 44,
     "metadata": {},
     "output_type": "execute_result"
    }
   ],
   "source": [
    "# using best parameters gotten from the grid search\n",
    "rfr1 = RandomForestRegressor(random_state=42, n_estimators=400, min_samples_split=3)\n",
    "rfr1.fit(X_train_scaled, y_train.ravel())"
   ]
  },
  {
   "cell_type": "code",
   "execution_count": 45,
   "id": "2abe7305",
   "metadata": {},
   "outputs": [],
   "source": [
    "y_predRF = rfr1.predict(X_test_scaled)"
   ]
  },
  {
   "cell_type": "code",
   "execution_count": 46,
   "id": "4e549ba4",
   "metadata": {},
   "outputs": [
    {
     "name": "stdout",
     "output_type": "stream",
     "text": [
      "Mean Absolute Error:  650683.84\n",
      "Mean Squared Error:  879977584230.645\n",
      "Root Mean Squared Error:  938071.204\n",
      "R2 score:  0.71\n"
     ]
    }
   ],
   "source": [
    "print('Mean Absolute Error: ', round(metrics.mean_absolute_error(y_test, y_predRF), 3))\n",
    "print('Mean Squared Error: ', round(metrics.mean_squared_error(y_test, y_predRF), 3))\n",
    "print('Root Mean Squared Error: ', round(np.sqrt(metrics.mean_squared_error(y_test, y_predRF)), 3))\n",
    "print('R2 score: ', round(r2_score(y_test, y_predRF), 3))"
   ]
  },
  {
   "cell_type": "code",
   "execution_count": 47,
   "id": "011d4ba5",
   "metadata": {},
   "outputs": [
    {
     "name": "stdout",
     "output_type": "stream",
     "text": [
      "Model Performance\n",
      "Accuracy = 88.88%.\n",
      "Model Performance\n",
      "Accuracy = 73.11%.\n"
     ]
    },
    {
     "data": {
      "text/plain": [
       "73.11173793952747"
      ]
     },
     "execution_count": 47,
     "metadata": {},
     "output_type": "execute_result"
    }
   ],
   "source": [
    "evaluate(rfr1, X_train_scaled, y_train)\n",
    "evaluate(rfr1, X_test_scaled, y_test)"
   ]
  },
  {
   "cell_type": "code",
   "execution_count": 48,
   "id": "16373a9a",
   "metadata": {},
   "outputs": [
    {
     "name": "stdout",
     "output_type": "stream",
     "text": [
      "Fitting 2 folds for each of 100 candidates, totalling 200 fits\n",
      "\n",
      "========================================================\n",
      " Results from Randomized Search \n",
      "========================================================\n",
      "\n",
      " The best estimator across ALL searched params:\n",
      " RandomForestRegressor(max_depth=60, n_estimators=1200)\n",
      "\n",
      " The best score across ALL searched params:\n",
      " 0.6659635094737344\n",
      "\n",
      " The best parameters across ALL searched params:\n",
      " {'n_estimators': 1200, 'min_samples_split': 2, 'min_samples_leaf': 1, 'max_features': 'auto', 'max_depth': 60, 'bootstrap': True}\n"
     ]
    }
   ],
   "source": [
    "from sklearn.model_selection import RandomizedSearchCV\n",
    "\n",
    "n_estimators = [int(x) for x in np.linspace(start = 200, stop = 2000, num = 10)]\n",
    "max_features = ['auto', 'sqrt']\n",
    "max_depth = [int(x) for x in np.linspace(10, 110, num = 11)]\n",
    "max_depth.append(None)\n",
    "min_samples_split = [2, 5, 10, 20, 40]\n",
    "min_samples_leaf = [1, 2, 4, 6, 12, 24]\n",
    "bootstrap = [True, False]\n",
    "\n",
    "# Create the random grid\n",
    "random_grid = {'n_estimators': n_estimators,\n",
    "               'max_features': max_features,\n",
    "               'max_depth': max_depth,\n",
    "               'min_samples_split': min_samples_split,\n",
    "               'min_samples_leaf': min_samples_leaf,\n",
    "               'bootstrap': bootstrap}\n",
    "\n",
    "# Use the random grid to search for best hyperparameters\n",
    "# First create the base model to tune\n",
    "rf = RandomForestRegressor()\n",
    "# Random search of parameters, using 2 fold cross validation, \n",
    "# search across 100 different combinations\n",
    "rf_random = RandomizedSearchCV(estimator = rf, param_distributions = random_grid, n_iter = 100, cv = 2, verbose=2, random_state=42, n_jobs = -1)\n",
    "# Fit the random search model\n",
    "rf_random.fit(X_train_scaled, y_train)\n",
    "\n",
    "# Results from Randomized Search\n",
    "print(\"\\n========================================================\")\n",
    "print(\" Results from Randomized Search \" )\n",
    "print(\"========================================================\")    \n",
    "    \n",
    "print(\"\\n The best estimator across ALL searched params:\\n\",\n",
    "          rf_random.best_estimator_)\n",
    "    \n",
    "print(\"\\n The best score across ALL searched params:\\n\",\n",
    "          rf_random.best_score_)\n",
    "    \n",
    "print(\"\\n The best parameters across ALL searched params:\\n\",\n",
    "          rf_random.best_params_)"
   ]
  },
  {
   "cell_type": "code",
   "execution_count": 49,
   "id": "d462580d",
   "metadata": {},
   "outputs": [
    {
     "data": {
      "text/plain": [
       "RandomForestRegressor(max_depth=60, n_estimators=1200, random_state=42)"
      ]
     },
     "execution_count": 49,
     "metadata": {},
     "output_type": "execute_result"
    }
   ],
   "source": [
    "# using the best parameters gotten from the randomized search\n",
    "rfr2 = RandomForestRegressor(random_state=42, n_estimators=1200, min_samples_split=2, min_samples_leaf=1, max_depth=60)\n",
    "rfr2.fit(X_train_scaled, y_train.ravel())"
   ]
  },
  {
   "cell_type": "code",
   "execution_count": 50,
   "id": "5a2afe27",
   "metadata": {},
   "outputs": [],
   "source": [
    "y_predRF = rfr2.predict(X_test_scaled)"
   ]
  },
  {
   "cell_type": "code",
   "execution_count": 51,
   "id": "cef00861",
   "metadata": {},
   "outputs": [
    {
     "name": "stdout",
     "output_type": "stream",
     "text": [
      "Mean Absolute Error:  653872.543\n",
      "Mean Squared Error:  886259450239.942\n",
      "Root Mean Squared Error:  941413.538\n",
      "R2 score:  0.708\n"
     ]
    }
   ],
   "source": [
    "print('Mean Absolute Error: ', round(metrics.mean_absolute_error(y_test, y_predRF), 3))\n",
    "print('Mean Squared Error: ', round(metrics.mean_squared_error(y_test, y_predRF), 3))\n",
    "print('Root Mean Squared Error: ', round(np.sqrt(metrics.mean_squared_error(y_test, y_predRF)), 3))\n",
    "print('R2 score: ', round(r2_score(y_test, y_predRF), 3))"
   ]
  },
  {
   "cell_type": "code",
   "execution_count": 52,
   "id": "b026bb94",
   "metadata": {},
   "outputs": [
    {
     "name": "stdout",
     "output_type": "stream",
     "text": [
      "Model Performance\n",
      "Accuracy = 89.72%.\n",
      "Model Performance\n",
      "Accuracy = 73.04%.\n"
     ]
    },
    {
     "data": {
      "text/plain": [
       "73.0397592880964"
      ]
     },
     "execution_count": 52,
     "metadata": {},
     "output_type": "execute_result"
    }
   ],
   "source": [
    "evaluate(rfr2, X_train_scaled, y_train)\n",
    "evaluate(rfr2, X_test_scaled, y_test)"
   ]
  },
  {
   "cell_type": "markdown",
   "id": "377549fe",
   "metadata": {},
   "source": [
    "#### Extra Trees Regressor"
   ]
  },
  {
   "cell_type": "code",
   "execution_count": 53,
   "id": "828e6fd5",
   "metadata": {},
   "outputs": [
    {
     "data": {
      "text/plain": [
       "ExtraTreesRegressor(n_estimators=400, random_state=42)"
      ]
     },
     "execution_count": 53,
     "metadata": {},
     "output_type": "execute_result"
    }
   ],
   "source": [
    "et = ExtraTreesRegressor(n_estimators=400, random_state=42)\n",
    "et.fit(X_train_scaled, y_train.ravel())"
   ]
  },
  {
   "cell_type": "code",
   "execution_count": 54,
   "id": "c8aa6a52",
   "metadata": {},
   "outputs": [],
   "source": [
    "y_predET = et.predict(X_test_scaled)"
   ]
  },
  {
   "cell_type": "code",
   "execution_count": 55,
   "id": "104b7f01",
   "metadata": {},
   "outputs": [
    {
     "name": "stdout",
     "output_type": "stream",
     "text": [
      "Mean Absolute Error:  742630.077\n",
      "Mean Squared Error:  1153056990976.393\n",
      "Root Mean Squared Error:  1073804.913\n",
      "R2 score:  0.62\n"
     ]
    }
   ],
   "source": [
    "print('Mean Absolute Error: ', round(metrics.mean_absolute_error(y_test, y_predET), 3))\n",
    "print('Mean Squared Error: ', round(metrics.mean_squared_error(y_test, y_predET), 3))\n",
    "print('Root Mean Squared Error: ', round(np.sqrt(metrics.mean_squared_error(y_test, y_predET)), 3))\n",
    "print('R2 score: ', round(r2_score(y_test, y_predET), 3))"
   ]
  },
  {
   "cell_type": "code",
   "execution_count": 56,
   "id": "75e9e74b",
   "metadata": {},
   "outputs": [
    {
     "name": "stdout",
     "output_type": "stream",
     "text": [
      "Model Performance\n",
      "Accuracy = 99.96%.\n",
      "Model Performance\n",
      "Accuracy = 69.31%.\n"
     ]
    },
    {
     "data": {
      "text/plain": [
       "69.3129415143691"
      ]
     },
     "execution_count": 56,
     "metadata": {},
     "output_type": "execute_result"
    }
   ],
   "source": [
    "evaluate(et, X_train_scaled, y_train)\n",
    "evaluate(et, X_test_scaled, y_test)"
   ]
  },
  {
   "cell_type": "markdown",
   "id": "23e55d25",
   "metadata": {},
   "source": [
    "#### ADA BOOST REGRESSOR"
   ]
  },
  {
   "cell_type": "code",
   "execution_count": 57,
   "id": "1aa4e327",
   "metadata": {},
   "outputs": [
    {
     "data": {
      "text/plain": [
       "AdaBoostRegressor(base_estimator=DecisionTreeRegressor(), n_estimators=600,\n",
       "                  random_state=42)"
      ]
     },
     "execution_count": 57,
     "metadata": {},
     "output_type": "execute_result"
    }
   ],
   "source": [
    "ada = AdaBoostRegressor(DecisionTreeRegressor(), n_estimators=600, random_state=42)\n",
    "ada.fit(X_train_scaled, y_train.ravel())"
   ]
  },
  {
   "cell_type": "code",
   "execution_count": 58,
   "id": "712e0386",
   "metadata": {},
   "outputs": [],
   "source": [
    "y_predADA = ada.predict(X_test_scaled)"
   ]
  },
  {
   "cell_type": "code",
   "execution_count": 59,
   "id": "c4a4fc73",
   "metadata": {},
   "outputs": [
    {
     "name": "stdout",
     "output_type": "stream",
     "text": [
      "Mean Absolute Error:  645484.265\n",
      "Mean Squared Error:  933538698849.951\n",
      "Root Mean Squared Error:  966198.064\n",
      "R2 score:  0.692\n"
     ]
    }
   ],
   "source": [
    "print('Mean Absolute Error: ', round(metrics.mean_absolute_error(y_test, y_predADA), 3))\n",
    "print('Mean Squared Error: ', round(metrics.mean_squared_error(y_test, y_predADA), 3))\n",
    "print('Root Mean Squared Error: ', round(np.sqrt(metrics.mean_squared_error(y_test, y_predADA)), 3))\n",
    "print('R2 score: ', round(r2_score(y_test, y_predADA), 3))"
   ]
  },
  {
   "cell_type": "code",
   "execution_count": 60,
   "id": "a0bd4265",
   "metadata": {},
   "outputs": [
    {
     "name": "stdout",
     "output_type": "stream",
     "text": [
      "Model Performance\n",
      "Accuracy = 94.31%.\n",
      "Model Performance\n",
      "Accuracy = 73.94%.\n"
     ]
    },
    {
     "data": {
      "text/plain": [
       "73.94270060037742"
      ]
     },
     "execution_count": 60,
     "metadata": {},
     "output_type": "execute_result"
    }
   ],
   "source": [
    "evaluate(ada, X_train_scaled, y_train)\n",
    "evaluate(ada, X_test_scaled, y_test)"
   ]
  },
  {
   "cell_type": "markdown",
   "id": "49f8416c",
   "metadata": {},
   "source": [
    "#### XGBRegressor"
   ]
  },
  {
   "cell_type": "code",
   "execution_count": 61,
   "id": "1d67b03b",
   "metadata": {},
   "outputs": [
    {
     "data": {
      "text/plain": [
       "XGBRegressor(base_score=0.5, booster='gbtree', colsample_bylevel=1,\n",
       "             colsample_bynode=1, colsample_bytree=1, gamma=0, gpu_id=-1,\n",
       "             importance_type='gain', interaction_constraints='',\n",
       "             learning_rate=0.300000012, max_delta_step=0, max_depth=6,\n",
       "             min_child_weight=1, missing=nan, monotone_constraints='()',\n",
       "             n_estimators=1000, n_jobs=4, num_parallel_tree=1, random_state=42,\n",
       "             reg_alpha=0, reg_lambda=1, scale_pos_weight=1, subsample=1,\n",
       "             tree_method='exact', validate_parameters=1, verbosity=None)"
      ]
     },
     "execution_count": 61,
     "metadata": {},
     "output_type": "execute_result"
    }
   ],
   "source": [
    "xgb = XGBRegressor(n_estimators=1000, random_state=42)\n",
    "xgb.fit(X_train_scaled, y_train.ravel())"
   ]
  },
  {
   "cell_type": "code",
   "execution_count": 62,
   "id": "0f3f7c6e",
   "metadata": {},
   "outputs": [],
   "source": [
    "y_predXGB = xgb.predict(X_test_scaled)"
   ]
  },
  {
   "cell_type": "code",
   "execution_count": 63,
   "id": "f384d68b",
   "metadata": {},
   "outputs": [
    {
     "name": "stdout",
     "output_type": "stream",
     "text": [
      "Mean Absolute Error:  668237.137\n",
      "Mean Squared Error:  923748544822.347\n",
      "Root Mean Squared Error:  961118.382\n",
      "R2 score:  0.696\n"
     ]
    }
   ],
   "source": [
    "print('Mean Absolute Error: ', round(metrics.mean_absolute_error(y_test, y_predXGB), 3))\n",
    "print('Mean Squared Error: ', round(metrics.mean_squared_error(y_test, y_predXGB), 3))\n",
    "print('Root Mean Squared Error: ', round(np.sqrt(metrics.mean_squared_error(y_test, y_predXGB)), 3))\n",
    "print('R2 score: ', round(r2_score(y_test, y_predXGB), 3))"
   ]
  },
  {
   "cell_type": "code",
   "execution_count": 64,
   "id": "97ad6ade",
   "metadata": {},
   "outputs": [
    {
     "name": "stdout",
     "output_type": "stream",
     "text": [
      "Model Performance\n",
      "Accuracy = 99.88%.\n",
      "Model Performance\n",
      "Accuracy = 72.63%.\n"
     ]
    },
    {
     "data": {
      "text/plain": [
       "72.62787232078601"
      ]
     },
     "execution_count": 64,
     "metadata": {},
     "output_type": "execute_result"
    }
   ],
   "source": [
    "evaluate(xgb, X_train_scaled, y_train)\n",
    "evaluate(xgb, X_test_scaled, y_test)"
   ]
  },
  {
   "cell_type": "markdown",
   "id": "bbb3f6f6",
   "metadata": {},
   "source": [
    "#### XGBRFRegressor"
   ]
  },
  {
   "cell_type": "code",
   "execution_count": 65,
   "id": "b787919b",
   "metadata": {},
   "outputs": [
    {
     "data": {
      "text/plain": [
       "XGBRFRegressor(base_score=0.5, booster='gbtree', colsample_bylevel=1,\n",
       "               colsample_bytree=1, gamma=0, gpu_id=-1, importance_type='gain',\n",
       "               interaction_constraints='', max_delta_step=0, max_depth=6,\n",
       "               min_child_weight=1, missing=nan, monotone_constraints='()',\n",
       "               n_estimators=500, n_jobs=4, num_parallel_tree=500,\n",
       "               objective='reg:squarederror', random_state=42, reg_alpha=0,\n",
       "               scale_pos_weight=1, tree_method='exact', validate_parameters=1,\n",
       "               verbosity=None)"
      ]
     },
     "execution_count": 65,
     "metadata": {},
     "output_type": "execute_result"
    }
   ],
   "source": [
    "xgbrf = XGBRFRegressor(n_estimators=500, random_state=42)\n",
    "xgbrf.fit(X_train_scaled, y_train.ravel())"
   ]
  },
  {
   "cell_type": "code",
   "execution_count": 66,
   "id": "509028ef",
   "metadata": {},
   "outputs": [],
   "source": [
    "y_predXGBRF = xgbrf.predict(X_test_scaled)"
   ]
  },
  {
   "cell_type": "code",
   "execution_count": 67,
   "id": "7ff45719",
   "metadata": {},
   "outputs": [
    {
     "name": "stdout",
     "output_type": "stream",
     "text": [
      "Mean Absolute Error:  790594.435\n",
      "Mean Squared Error:  1184930199358.314\n",
      "Root Mean Squared Error:  1088544.992\n",
      "R2 score:  0.61\n"
     ]
    }
   ],
   "source": [
    "print('Mean Absolute Error: ', round(metrics.mean_absolute_error(y_test, y_predXGBRF), 3))\n",
    "print('Mean Squared Error: ', round(metrics.mean_squared_error(y_test, y_predXGBRF), 3))\n",
    "print('Root Mean Squared Error: ', round(np.sqrt(metrics.mean_squared_error(y_test, y_predXGBRF)), 3))\n",
    "print('R2 score: ', round(r2_score(y_test, y_predXGBRF), 3))"
   ]
  },
  {
   "cell_type": "code",
   "execution_count": 68,
   "id": "175268eb",
   "metadata": {},
   "outputs": [
    {
     "name": "stdout",
     "output_type": "stream",
     "text": [
      "Model Performance\n",
      "Accuracy = 68.09%.\n",
      "Model Performance\n",
      "Accuracy = 66.01%.\n"
     ]
    },
    {
     "data": {
      "text/plain": [
       "66.01450259006222"
      ]
     },
     "execution_count": 68,
     "metadata": {},
     "output_type": "execute_result"
    }
   ],
   "source": [
    "evaluate(xgbrf, X_train_scaled, y_train)\n",
    "evaluate(xgbrf, X_test_scaled, y_test)"
   ]
  },
  {
   "cell_type": "markdown",
   "id": "36e648ac",
   "metadata": {},
   "source": [
    "#### LGBMRegressor"
   ]
  },
  {
   "cell_type": "code",
   "execution_count": 69,
   "id": "07cc6c2c",
   "metadata": {},
   "outputs": [
    {
     "data": {
      "text/plain": [
       "LGBMRegressor(random_state=42)"
      ]
     },
     "execution_count": 69,
     "metadata": {},
     "output_type": "execute_result"
    }
   ],
   "source": [
    "lgbm = LGBMRegressor(n_estimators=100, random_state=42)\n",
    "lgbm.fit(X_train_scaled, y_train.ravel())"
   ]
  },
  {
   "cell_type": "code",
   "execution_count": 70,
   "id": "9d1088ac",
   "metadata": {},
   "outputs": [],
   "source": [
    "y_predLGBM = lgbm.predict(X_test_scaled)"
   ]
  },
  {
   "cell_type": "code",
   "execution_count": 71,
   "id": "7be49101",
   "metadata": {},
   "outputs": [
    {
     "name": "stdout",
     "output_type": "stream",
     "text": [
      "Mean Absolute Error:  628950.735\n",
      "Mean Squared Error:  822238145999.352\n",
      "Root Mean Squared Error:  906773.481\n",
      "R2 score:  0.729\n"
     ]
    }
   ],
   "source": [
    "print('Mean Absolute Error: ', round(metrics.mean_absolute_error(y_test, y_predLGBM), 3))\n",
    "print('Mean Squared Error: ', round(metrics.mean_squared_error(y_test, y_predLGBM), 3))\n",
    "print('Root Mean Squared Error: ', round(np.sqrt(metrics.mean_squared_error(y_test, y_predLGBM)), 3))\n",
    "print('R2 score: ', round(r2_score(y_test, y_predLGBM), 3))"
   ]
  },
  {
   "cell_type": "code",
   "execution_count": 72,
   "id": "294d619b",
   "metadata": {},
   "outputs": [
    {
     "name": "stdout",
     "output_type": "stream",
     "text": [
      "Model Performance\n",
      "Accuracy = 82.06%.\n",
      "Model Performance\n",
      "Accuracy = 74.64%.\n"
     ]
    },
    {
     "data": {
      "text/plain": [
       "74.64447390628096"
      ]
     },
     "execution_count": 72,
     "metadata": {},
     "output_type": "execute_result"
    }
   ],
   "source": [
    "evaluate(lgbm, X_train_scaled, y_train)\n",
    "evaluate(lgbm, X_test_scaled, y_test)"
   ]
  },
  {
   "cell_type": "markdown",
   "id": "bf35f30b",
   "metadata": {},
   "source": [
    "#### Gradient Boost Regressor"
   ]
  },
  {
   "cell_type": "code",
   "execution_count": 73,
   "id": "61cf77c2",
   "metadata": {},
   "outputs": [
    {
     "name": "stdout",
     "output_type": "stream",
     "text": [
      "Fitting 5 folds for each of 100 candidates, totalling 500 fits\n",
      "\n",
      "========================================================\n",
      " Results from Randomized Search \n",
      "========================================================\n",
      "\n",
      " The best estimator across ALL searched params:\n",
      " GradientBoostingRegressor(learning_rate=0.3, max_features='auto',\n",
      "                          min_samples_leaf=12, min_samples_split=20)\n",
      "\n",
      " The best score across ALL searched params:\n",
      " 0.7227838745625073\n",
      "\n",
      " The best parameters across ALL searched params:\n",
      " {'subsample': 1.0, 'min_samples_split': 20, 'min_samples_leaf': 12, 'max_features': 'auto', 'max_depth': 3, 'learning_rate': 0.3}\n"
     ]
    }
   ],
   "source": [
    "param_grid = {\"learning_rate\"    : [0.01, 0.1, 0.3, 0.5,0.9, 1.2, 1.5],\n",
    "              \"subsample\"        : [0.5, 1.0],\n",
    "              \"max_depth\"        : [3, 4, 5, 10, 15, 20],\n",
    "              \"max_features\"     : ['auto', 'sqrt'],\n",
    "              \"min_samples_split\": [5, 10, 20, 40],\n",
    "              \"min_samples_leaf\" : [2, 6, 12, 24]\n",
    "             }\n",
    "grad_reg = RandomizedSearchCV(GradientBoostingRegressor(), param_distributions = param_grid, n_iter = 100, verbose = 2, n_jobs = -1)\n",
    "grad_reg.fit(X_train_scaled, y_train)\n",
    "\n",
    "# Results from Randomized Search\n",
    "print(\"\\n========================================================\")\n",
    "print(\" Results from Randomized Search \" )\n",
    "print(\"========================================================\")    \n",
    "    \n",
    "print(\"\\n The best estimator across ALL searched params:\\n\",\n",
    "          grad_reg.best_estimator_)\n",
    "    \n",
    "print(\"\\n The best score across ALL searched params:\\n\",\n",
    "          grad_reg.best_score_)\n",
    "    \n",
    "print(\"\\n The best parameters across ALL searched params:\\n\",\n",
    "          grad_reg.best_params_)"
   ]
  },
  {
   "cell_type": "code",
   "execution_count": 74,
   "id": "c1e430c0",
   "metadata": {},
   "outputs": [
    {
     "data": {
      "text/plain": [
       "GradientBoostingRegressor(max_features='auto', min_samples_split=20,\n",
       "                          n_estimators=200, random_state=42, subsample=1)"
      ]
     },
     "execution_count": 74,
     "metadata": {},
     "output_type": "execute_result"
    }
   ],
   "source": [
    "grad_reg = GradientBoostingRegressor(n_estimators=200, subsample=1, min_samples_split=20, min_samples_leaf=1, max_features='auto', max_depth=3, random_state=42)\n",
    "grad_reg.fit(X_train_scaled, y_train)"
   ]
  },
  {
   "cell_type": "code",
   "execution_count": 75,
   "id": "d0fffedd",
   "metadata": {},
   "outputs": [],
   "source": [
    "y_predGRAD = grad_reg.predict(X_test_scaled)"
   ]
  },
  {
   "cell_type": "code",
   "execution_count": 76,
   "id": "065d23da",
   "metadata": {},
   "outputs": [
    {
     "name": "stdout",
     "output_type": "stream",
     "text": [
      "Mean Absolute Error:  650674.372\n",
      "Mean Squared Error:  868541364529.052\n",
      "Root Mean Squared Error:  931955.667\n",
      "R2 score:  0.714\n"
     ]
    }
   ],
   "source": [
    "print('Mean Absolute Error: ', round(metrics.mean_absolute_error(y_test, y_predGRAD), 3))\n",
    "print('Mean Squared Error: ', round(metrics.mean_squared_error(y_test, y_predGRAD), 3))\n",
    "print('Root Mean Squared Error: ', round(np.sqrt(metrics.mean_squared_error(y_test, y_predGRAD)), 3))\n",
    "print('R2 score: ', round(r2_score(y_test, y_predGRAD), 3))"
   ]
  },
  {
   "cell_type": "code",
   "execution_count": 77,
   "id": "91dad4fb",
   "metadata": {},
   "outputs": [
    {
     "name": "stdout",
     "output_type": "stream",
     "text": [
      "Model Performance\n",
      "Accuracy = 76.72%.\n",
      "Model Performance\n",
      "Accuracy = 72.55%.\n"
     ]
    },
    {
     "data": {
      "text/plain": [
       "72.5529239800321"
      ]
     },
     "execution_count": 77,
     "metadata": {},
     "output_type": "execute_result"
    }
   ],
   "source": [
    "evaluate(grad_reg, X_train_scaled, y_train)\n",
    "evaluate(grad_reg, X_test_scaled, y_test)"
   ]
  },
  {
   "cell_type": "markdown",
   "id": "09025a6d",
   "metadata": {},
   "source": [
    "#### CATBOOST REGRESSOR"
   ]
  },
  {
   "cell_type": "code",
   "execution_count": 78,
   "id": "05b778b2",
   "metadata": {},
   "outputs": [
    {
     "name": "stderr",
     "output_type": "stream",
     "text": [
      "C:\\ProgramData\\Anaconda3\\lib\\site-packages\\sklearn\\model_selection\\_search.py:918: UserWarning: One or more of the test scores are non-finite: [       nan        nan 0.59812047 0.68975196 0.64835999 0.27921786\n",
      " 0.56707897 0.63958243 0.69637709 0.6394903  0.41637058 0.6389914\n",
      " 0.68854102 0.69722419 0.62825243 0.19000081 0.49466053 0.59822857\n",
      " 0.68072251 0.59837908 0.27829693 0.57932566 0.647914   0.68146358\n",
      " 0.59297822 0.41766292 0.64602012 0.6860963  0.67775774 0.58621507\n",
      " 0.18788327 0.49104121 0.6007176  0.65121588 0.58700542 0.27325245\n",
      " 0.56830985 0.6453196  0.65062149 0.58421549 0.41145133 0.63751322\n",
      " 0.67836019 0.64558744 0.57734731 0.17616403 0.4793467  0.58111241\n",
      " 0.63268099 0.54808406 0.25834056 0.55742355 0.62726279 0.63703539\n",
      " 0.54664081 0.39650487 0.6251155  0.65458056 0.63535938 0.54480059\n",
      " 0.17353735 0.46796586 0.54908464 0.61993446 0.5508543  0.25162513\n",
      " 0.54555255 0.6045875  0.61896686 0.54848827 0.38551846 0.6046498\n",
      " 0.635245   0.6171761  0.54781688 0.17651173 0.45089889 0.55124336\n",
      " 0.55752715 0.5318271  0.25232264 0.52824969 0.59541195 0.55664854\n",
      " 0.52954058 0.38164259 0.59193195 0.61584776 0.55664731 0.52904\n",
      "        nan        nan        nan        nan        nan        nan\n",
      "        nan        nan        nan        nan        nan        nan\n",
      "        nan        nan        nan        nan        nan        nan\n",
      "        nan        nan        nan        nan        nan        nan\n",
      "        nan        nan        nan        nan        nan        nan]\n",
      "  warnings.warn(\n"
     ]
    },
    {
     "name": "stdout",
     "output_type": "stream",
     "text": [
      "0:\tlearn: 1352284.3840841\ttotal: 200ms\tremaining: 19.8s\n",
      "1:\tlearn: 1223122.0612938\ttotal: 215ms\tremaining: 10.5s\n",
      "2:\tlearn: 1117152.8683345\ttotal: 230ms\tremaining: 7.45s\n",
      "3:\tlearn: 1022789.2027530\ttotal: 241ms\tremaining: 5.79s\n",
      "4:\tlearn: 985850.8061484\ttotal: 252ms\tremaining: 4.78s\n",
      "5:\tlearn: 964518.4963907\ttotal: 263ms\tremaining: 4.12s\n",
      "6:\tlearn: 945954.1162754\ttotal: 276ms\tremaining: 3.67s\n",
      "7:\tlearn: 936046.4886287\ttotal: 290ms\tremaining: 3.33s\n",
      "8:\tlearn: 917056.4920062\ttotal: 300ms\tremaining: 3.03s\n",
      "9:\tlearn: 911266.9475052\ttotal: 310ms\tremaining: 2.79s\n",
      "10:\tlearn: 897253.8944709\ttotal: 323ms\tremaining: 2.61s\n",
      "11:\tlearn: 881927.9644972\ttotal: 334ms\tremaining: 2.45s\n",
      "12:\tlearn: 877932.3278387\ttotal: 351ms\tremaining: 2.35s\n",
      "13:\tlearn: 866466.6982047\ttotal: 364ms\tremaining: 2.23s\n",
      "14:\tlearn: 856575.0227571\ttotal: 376ms\tremaining: 2.13s\n",
      "15:\tlearn: 844847.9081836\ttotal: 395ms\tremaining: 2.07s\n",
      "16:\tlearn: 829938.6940898\ttotal: 424ms\tremaining: 2.07s\n",
      "17:\tlearn: 822120.1522110\ttotal: 445ms\tremaining: 2.03s\n",
      "18:\tlearn: 806872.9907611\ttotal: 474ms\tremaining: 2.02s\n",
      "19:\tlearn: 793948.3149096\ttotal: 490ms\tremaining: 1.96s\n",
      "20:\tlearn: 786957.5744707\ttotal: 506ms\tremaining: 1.9s\n",
      "21:\tlearn: 781661.1117972\ttotal: 521ms\tremaining: 1.85s\n",
      "22:\tlearn: 776316.1290984\ttotal: 540ms\tremaining: 1.81s\n",
      "23:\tlearn: 771971.2944598\ttotal: 553ms\tremaining: 1.75s\n",
      "24:\tlearn: 767642.5549355\ttotal: 571ms\tremaining: 1.71s\n",
      "25:\tlearn: 756318.8225807\ttotal: 599ms\tremaining: 1.7s\n",
      "26:\tlearn: 750456.3214484\ttotal: 614ms\tremaining: 1.66s\n",
      "27:\tlearn: 745731.1468619\ttotal: 635ms\tremaining: 1.63s\n",
      "28:\tlearn: 739379.1656255\ttotal: 650ms\tremaining: 1.59s\n",
      "29:\tlearn: 730956.8876391\ttotal: 668ms\tremaining: 1.56s\n",
      "30:\tlearn: 725885.2004804\ttotal: 679ms\tremaining: 1.51s\n",
      "31:\tlearn: 721348.3785387\ttotal: 694ms\tremaining: 1.48s\n",
      "32:\tlearn: 713141.8526014\ttotal: 704ms\tremaining: 1.43s\n",
      "33:\tlearn: 704966.8020163\ttotal: 717ms\tremaining: 1.39s\n",
      "34:\tlearn: 698574.6728146\ttotal: 728ms\tremaining: 1.35s\n",
      "35:\tlearn: 691312.8490729\ttotal: 740ms\tremaining: 1.31s\n",
      "36:\tlearn: 687592.1105061\ttotal: 762ms\tremaining: 1.3s\n",
      "37:\tlearn: 677994.9164707\ttotal: 798ms\tremaining: 1.3s\n",
      "38:\tlearn: 674022.2226617\ttotal: 820ms\tremaining: 1.28s\n",
      "39:\tlearn: 670644.1372565\ttotal: 840ms\tremaining: 1.26s\n",
      "40:\tlearn: 665006.3850537\ttotal: 862ms\tremaining: 1.24s\n",
      "41:\tlearn: 659662.5940963\ttotal: 873ms\tremaining: 1.21s\n",
      "42:\tlearn: 659085.5199278\ttotal: 885ms\tremaining: 1.17s\n",
      "43:\tlearn: 655372.5278101\ttotal: 898ms\tremaining: 1.14s\n",
      "44:\tlearn: 649153.3722749\ttotal: 910ms\tremaining: 1.11s\n",
      "45:\tlearn: 645084.8131471\ttotal: 922ms\tremaining: 1.08s\n",
      "46:\tlearn: 644109.7648411\ttotal: 940ms\tremaining: 1.06s\n",
      "47:\tlearn: 638118.3301190\ttotal: 968ms\tremaining: 1.05s\n",
      "48:\tlearn: 632430.2550447\ttotal: 983ms\tremaining: 1.02s\n",
      "49:\tlearn: 628930.5029561\ttotal: 1s\tremaining: 1s\n",
      "50:\tlearn: 623483.3252500\ttotal: 1.01s\tremaining: 976ms\n",
      "51:\tlearn: 621954.1337217\ttotal: 1.04s\tremaining: 958ms\n",
      "52:\tlearn: 619226.7796101\ttotal: 1.06s\tremaining: 938ms\n",
      "53:\tlearn: 616319.6738585\ttotal: 1.07s\tremaining: 913ms\n",
      "54:\tlearn: 613352.3286760\ttotal: 1.09s\tremaining: 889ms\n",
      "55:\tlearn: 607076.7559550\ttotal: 1.1s\tremaining: 862ms\n",
      "56:\tlearn: 603567.1907560\ttotal: 1.11s\tremaining: 836ms\n",
      "57:\tlearn: 601724.2020088\ttotal: 1.12s\tremaining: 810ms\n",
      "58:\tlearn: 599335.9402185\ttotal: 1.13s\tremaining: 788ms\n",
      "59:\tlearn: 597113.0689189\ttotal: 1.15s\tremaining: 767ms\n",
      "60:\tlearn: 595331.6173518\ttotal: 1.18s\tremaining: 756ms\n",
      "61:\tlearn: 588838.4907830\ttotal: 1.2s\tremaining: 738ms\n",
      "62:\tlearn: 586855.7087494\ttotal: 1.23s\tremaining: 722ms\n",
      "63:\tlearn: 583713.0940734\ttotal: 1.24s\tremaining: 698ms\n",
      "64:\tlearn: 581549.8323485\ttotal: 1.25s\tremaining: 673ms\n",
      "65:\tlearn: 578638.0541354\ttotal: 1.27s\tremaining: 653ms\n",
      "66:\tlearn: 577114.5160458\ttotal: 1.28s\tremaining: 632ms\n",
      "67:\tlearn: 572749.9147089\ttotal: 1.29s\tremaining: 610ms\n",
      "68:\tlearn: 570701.3133870\ttotal: 1.31s\tremaining: 591ms\n",
      "69:\tlearn: 566789.0427829\ttotal: 1.34s\tremaining: 576ms\n",
      "70:\tlearn: 563384.5593275\ttotal: 1.36s\tremaining: 556ms\n",
      "71:\tlearn: 561521.4462207\ttotal: 1.39s\tremaining: 540ms\n",
      "72:\tlearn: 558856.8681452\ttotal: 1.41s\tremaining: 522ms\n",
      "73:\tlearn: 555855.7644981\ttotal: 1.42s\tremaining: 498ms\n",
      "74:\tlearn: 554627.2022616\ttotal: 1.42s\tremaining: 474ms\n",
      "75:\tlearn: 552558.5468973\ttotal: 1.43s\tremaining: 451ms\n",
      "76:\tlearn: 549938.6292557\ttotal: 1.43s\tremaining: 428ms\n",
      "77:\tlearn: 546182.2681520\ttotal: 1.44s\tremaining: 405ms\n",
      "78:\tlearn: 545593.0790455\ttotal: 1.44s\tremaining: 383ms\n",
      "79:\tlearn: 544472.8910045\ttotal: 1.45s\tremaining: 362ms\n",
      "80:\tlearn: 539841.8602922\ttotal: 1.45s\tremaining: 340ms\n",
      "81:\tlearn: 535637.6970467\ttotal: 1.45s\tremaining: 319ms\n",
      "82:\tlearn: 532536.2919087\ttotal: 1.46s\tremaining: 299ms\n",
      "83:\tlearn: 530530.0298765\ttotal: 1.46s\tremaining: 279ms\n",
      "84:\tlearn: 527943.5573760\ttotal: 1.47s\tremaining: 259ms\n",
      "85:\tlearn: 526562.9351803\ttotal: 1.47s\tremaining: 240ms\n",
      "86:\tlearn: 523477.1283239\ttotal: 1.48s\tremaining: 221ms\n",
      "87:\tlearn: 522138.6747802\ttotal: 1.48s\tremaining: 202ms\n",
      "88:\tlearn: 520394.4707805\ttotal: 1.49s\tremaining: 184ms\n",
      "89:\tlearn: 517247.6124869\ttotal: 1.49s\tremaining: 166ms\n",
      "90:\tlearn: 515581.3280299\ttotal: 1.49s\tremaining: 148ms\n",
      "91:\tlearn: 513740.5012422\ttotal: 1.5s\tremaining: 131ms\n",
      "92:\tlearn: 511908.7088367\ttotal: 1.51s\tremaining: 114ms\n",
      "93:\tlearn: 510800.2173015\ttotal: 1.51s\tremaining: 96.7ms\n",
      "94:\tlearn: 509794.3058405\ttotal: 1.52s\tremaining: 79.9ms\n",
      "95:\tlearn: 508174.7845127\ttotal: 1.52s\tremaining: 63.4ms\n",
      "96:\tlearn: 506999.5614800\ttotal: 1.53s\tremaining: 47.4ms\n",
      "97:\tlearn: 505962.8198813\ttotal: 1.53s\tremaining: 31.3ms\n",
      "98:\tlearn: 505268.9223558\ttotal: 1.54s\tremaining: 15.6ms\n",
      "99:\tlearn: 502780.0403803\ttotal: 1.55s\tremaining: 0us\n",
      "\n",
      "========================================================\n",
      " Results from Grid Search \n",
      "========================================================\n",
      "\n",
      " The best estimator across ALL searched params:\n",
      " <catboost.core.CatBoostRegressor object at 0x000001A199BA17F0>\n",
      "\n",
      " The best score across ALL searched params:\n",
      " 0.6972241919732103\n",
      "\n",
      " The best parameters across ALL searched params:\n",
      " {'depth': 6, 'iterations': 100, 'learning_rate': 0.5}\n"
     ]
    }
   ],
   "source": [
    "# to find the best parameters for catboost\n",
    "model = CatBoostRegressor()\n",
    "parameters = {'depth'         : [6,8,10,12,14,16,18,20],\n",
    "              'learning_rate' : [0.01, 0.05, 0.1, 0.5, 1],\n",
    "              'iterations'    : [30, 50, 100]\n",
    "              }\n",
    "grid = GridSearchCV(model, parameters, cv = 2, n_jobs=-1)\n",
    "gs = grid.fit(X_train_scaled, y_train)    \n",
    "\n",
    "# Results from Grid Search\n",
    "print(\"\\n========================================================\")\n",
    "print(\" Results from Grid Search \" )\n",
    "print(\"========================================================\")    \n",
    "    \n",
    "print(\"\\n The best estimator across ALL searched params:\\n\",\n",
    "          gs.best_estimator_)\n",
    "    \n",
    "print(\"\\n The best score across ALL searched params:\\n\",\n",
    "          gs.best_score_)\n",
    "    \n",
    "print(\"\\n The best parameters across ALL searched params:\\n\",\n",
    "          gs.best_params_)"
   ]
  },
  {
   "cell_type": "code",
   "execution_count": 80,
   "id": "4c3bc1e3",
   "metadata": {},
   "outputs": [
    {
     "name": "stdout",
     "output_type": "stream",
     "text": [
      "0:\tlearn: 1597318.6636289\ttotal: 26.7ms\tremaining: 16s\n",
      "1:\tlearn: 1535460.4680634\ttotal: 29.4ms\tremaining: 8.79s\n",
      "2:\tlearn: 1492181.3644931\ttotal: 32.7ms\tremaining: 6.5s\n",
      "3:\tlearn: 1448010.8656053\ttotal: 35.1ms\tremaining: 5.23s\n",
      "4:\tlearn: 1407597.1121705\ttotal: 38.1ms\tremaining: 4.53s\n",
      "5:\tlearn: 1369316.8329061\ttotal: 41.6ms\tremaining: 4.12s\n",
      "6:\tlearn: 1338972.6003976\ttotal: 45.1ms\tremaining: 3.82s\n",
      "7:\tlearn: 1311403.1658579\ttotal: 48.2ms\tremaining: 3.56s\n",
      "8:\tlearn: 1285542.7785394\ttotal: 51ms\tremaining: 3.35s\n",
      "9:\tlearn: 1264782.0761425\ttotal: 53.8ms\tremaining: 3.17s\n",
      "10:\tlearn: 1233722.9292248\ttotal: 56.9ms\tremaining: 3.05s\n",
      "11:\tlearn: 1211358.2824070\ttotal: 60.2ms\tremaining: 2.95s\n",
      "12:\tlearn: 1190645.9542083\ttotal: 63ms\tremaining: 2.84s\n",
      "13:\tlearn: 1173440.4663470\ttotal: 65.7ms\tremaining: 2.75s\n",
      "14:\tlearn: 1160976.2357743\ttotal: 69.5ms\tremaining: 2.71s\n",
      "15:\tlearn: 1151641.5305174\ttotal: 74.1ms\tremaining: 2.7s\n",
      "16:\tlearn: 1141433.7402228\ttotal: 78ms\tremaining: 2.67s\n",
      "17:\tlearn: 1128017.0559689\ttotal: 83.1ms\tremaining: 2.69s\n",
      "18:\tlearn: 1117658.1977009\ttotal: 86.2ms\tremaining: 2.64s\n",
      "19:\tlearn: 1109821.8098726\ttotal: 88.7ms\tremaining: 2.57s\n",
      "20:\tlearn: 1100659.2362984\ttotal: 91.2ms\tremaining: 2.51s\n",
      "21:\tlearn: 1091801.9726524\ttotal: 93.9ms\tremaining: 2.47s\n",
      "22:\tlearn: 1085208.7869605\ttotal: 97.3ms\tremaining: 2.44s\n",
      "23:\tlearn: 1073681.2077376\ttotal: 99.3ms\tremaining: 2.38s\n",
      "24:\tlearn: 1066980.7091314\ttotal: 102ms\tremaining: 2.35s\n",
      "25:\tlearn: 1060820.8098507\ttotal: 104ms\tremaining: 2.3s\n",
      "26:\tlearn: 1056493.5633520\ttotal: 107ms\tremaining: 2.27s\n",
      "27:\tlearn: 1050659.2693458\ttotal: 110ms\tremaining: 2.24s\n",
      "28:\tlearn: 1043936.9743651\ttotal: 112ms\tremaining: 2.21s\n",
      "29:\tlearn: 1036373.6975160\ttotal: 115ms\tremaining: 2.18s\n",
      "30:\tlearn: 1028958.5285867\ttotal: 117ms\tremaining: 2.14s\n",
      "31:\tlearn: 1025368.2653303\ttotal: 119ms\tremaining: 2.11s\n",
      "32:\tlearn: 1021027.9023223\ttotal: 121ms\tremaining: 2.08s\n",
      "33:\tlearn: 1017428.2610472\ttotal: 124ms\tremaining: 2.07s\n",
      "34:\tlearn: 1014027.3567400\ttotal: 127ms\tremaining: 2.05s\n",
      "35:\tlearn: 1009775.3926377\ttotal: 130ms\tremaining: 2.04s\n",
      "36:\tlearn: 1006226.1430776\ttotal: 133ms\tremaining: 2.02s\n",
      "37:\tlearn: 1003645.8154156\ttotal: 135ms\tremaining: 2s\n",
      "38:\tlearn: 1001248.8222024\ttotal: 138ms\tremaining: 1.99s\n",
      "39:\tlearn: 998524.9338094\ttotal: 144ms\tremaining: 2.01s\n",
      "40:\tlearn: 996518.3283263\ttotal: 147ms\tremaining: 2s\n",
      "41:\tlearn: 989962.2869000\ttotal: 150ms\tremaining: 1.99s\n",
      "42:\tlearn: 986187.0971212\ttotal: 153ms\tremaining: 1.98s\n",
      "43:\tlearn: 982750.9451384\ttotal: 156ms\tremaining: 1.98s\n",
      "44:\tlearn: 980237.0293805\ttotal: 160ms\tremaining: 1.97s\n",
      "45:\tlearn: 977683.2525784\ttotal: 163ms\tremaining: 1.96s\n",
      "46:\tlearn: 973910.3535523\ttotal: 169ms\tremaining: 1.99s\n",
      "47:\tlearn: 971062.7987247\ttotal: 173ms\tremaining: 1.99s\n",
      "48:\tlearn: 966585.5052636\ttotal: 177ms\tremaining: 1.99s\n",
      "49:\tlearn: 964006.2107145\ttotal: 182ms\tremaining: 2s\n",
      "50:\tlearn: 962639.0416190\ttotal: 186ms\tremaining: 2s\n",
      "51:\tlearn: 960897.5506282\ttotal: 191ms\tremaining: 2.01s\n",
      "52:\tlearn: 959180.9415738\ttotal: 196ms\tremaining: 2.02s\n",
      "53:\tlearn: 955446.1757371\ttotal: 200ms\tremaining: 2.02s\n",
      "54:\tlearn: 952422.3349247\ttotal: 204ms\tremaining: 2.02s\n",
      "55:\tlearn: 950920.1593211\ttotal: 208ms\tremaining: 2.02s\n",
      "56:\tlearn: 949447.8218130\ttotal: 213ms\tremaining: 2.03s\n",
      "57:\tlearn: 948487.7992760\ttotal: 217ms\tremaining: 2.02s\n",
      "58:\tlearn: 947415.4021698\ttotal: 220ms\tremaining: 2.02s\n",
      "59:\tlearn: 945962.7354193\ttotal: 224ms\tremaining: 2.01s\n",
      "60:\tlearn: 941874.1804793\ttotal: 228ms\tremaining: 2.01s\n",
      "61:\tlearn: 939437.2347679\ttotal: 232ms\tremaining: 2.01s\n",
      "62:\tlearn: 937981.1089724\ttotal: 237ms\tremaining: 2.02s\n",
      "63:\tlearn: 937012.9797540\ttotal: 242ms\tremaining: 2.03s\n",
      "64:\tlearn: 933896.3667213\ttotal: 248ms\tremaining: 2.04s\n",
      "65:\tlearn: 932908.6510169\ttotal: 253ms\tremaining: 2.05s\n",
      "66:\tlearn: 931692.7163660\ttotal: 257ms\tremaining: 2.04s\n",
      "67:\tlearn: 930846.8126403\ttotal: 261ms\tremaining: 2.04s\n",
      "68:\tlearn: 927903.8036170\ttotal: 264ms\tremaining: 2.03s\n",
      "69:\tlearn: 926265.4996178\ttotal: 269ms\tremaining: 2.04s\n",
      "70:\tlearn: 924503.5333946\ttotal: 272ms\tremaining: 2.03s\n",
      "71:\tlearn: 923613.5538099\ttotal: 276ms\tremaining: 2.02s\n",
      "72:\tlearn: 921698.0097875\ttotal: 279ms\tremaining: 2.02s\n",
      "73:\tlearn: 920736.8121168\ttotal: 283ms\tremaining: 2.01s\n",
      "74:\tlearn: 918481.3383588\ttotal: 286ms\tremaining: 2s\n",
      "75:\tlearn: 914478.9184294\ttotal: 290ms\tremaining: 2s\n",
      "76:\tlearn: 913517.8317878\ttotal: 294ms\tremaining: 2s\n",
      "77:\tlearn: 911827.9355965\ttotal: 298ms\tremaining: 2s\n",
      "78:\tlearn: 909589.1235805\ttotal: 302ms\tremaining: 1.99s\n",
      "79:\tlearn: 908027.5917663\ttotal: 305ms\tremaining: 1.98s\n",
      "80:\tlearn: 904521.4373437\ttotal: 308ms\tremaining: 1.97s\n",
      "81:\tlearn: 903374.9692331\ttotal: 311ms\tremaining: 1.97s\n",
      "82:\tlearn: 902583.5412184\ttotal: 315ms\tremaining: 1.96s\n",
      "83:\tlearn: 900940.0529769\ttotal: 318ms\tremaining: 1.95s\n",
      "84:\tlearn: 899378.2510433\ttotal: 321ms\tremaining: 1.95s\n",
      "85:\tlearn: 896785.9004185\ttotal: 324ms\tremaining: 1.94s\n",
      "86:\tlearn: 895867.3264669\ttotal: 328ms\tremaining: 1.93s\n",
      "87:\tlearn: 894966.7189409\ttotal: 332ms\tremaining: 1.93s\n",
      "88:\tlearn: 893917.7754931\ttotal: 335ms\tremaining: 1.93s\n",
      "89:\tlearn: 893162.0408025\ttotal: 338ms\tremaining: 1.92s\n",
      "90:\tlearn: 892052.5403238\ttotal: 342ms\tremaining: 1.91s\n",
      "91:\tlearn: 890098.0718213\ttotal: 346ms\tremaining: 1.91s\n",
      "92:\tlearn: 888294.2714828\ttotal: 349ms\tremaining: 1.9s\n",
      "93:\tlearn: 886155.2309383\ttotal: 352ms\tremaining: 1.9s\n",
      "94:\tlearn: 883327.2634374\ttotal: 357ms\tremaining: 1.9s\n",
      "95:\tlearn: 882551.2677536\ttotal: 365ms\tremaining: 1.92s\n",
      "96:\tlearn: 880849.4673379\ttotal: 368ms\tremaining: 1.91s\n",
      "97:\tlearn: 879787.5388042\ttotal: 372ms\tremaining: 1.91s\n",
      "98:\tlearn: 878293.9070847\ttotal: 377ms\tremaining: 1.91s\n",
      "99:\tlearn: 877011.7409588\ttotal: 380ms\tremaining: 1.9s\n",
      "100:\tlearn: 876140.6193497\ttotal: 383ms\tremaining: 1.89s\n",
      "101:\tlearn: 874675.5833632\ttotal: 388ms\tremaining: 1.89s\n",
      "102:\tlearn: 873554.3486523\ttotal: 393ms\tremaining: 1.89s\n",
      "103:\tlearn: 872935.8586239\ttotal: 399ms\tremaining: 1.9s\n",
      "104:\tlearn: 869908.7615457\ttotal: 405ms\tremaining: 1.91s\n",
      "105:\tlearn: 868993.5718479\ttotal: 410ms\tremaining: 1.91s\n",
      "106:\tlearn: 867265.2162581\ttotal: 415ms\tremaining: 1.91s\n",
      "107:\tlearn: 865669.0119016\ttotal: 419ms\tremaining: 1.91s\n",
      "108:\tlearn: 864189.5798642\ttotal: 422ms\tremaining: 1.9s\n",
      "109:\tlearn: 863673.7604172\ttotal: 425ms\tremaining: 1.89s\n",
      "110:\tlearn: 862442.3788858\ttotal: 430ms\tremaining: 1.89s\n",
      "111:\tlearn: 861218.9560680\ttotal: 434ms\tremaining: 1.89s\n",
      "112:\tlearn: 858564.1661144\ttotal: 437ms\tremaining: 1.89s\n",
      "113:\tlearn: 857331.5101105\ttotal: 441ms\tremaining: 1.88s\n",
      "114:\tlearn: 855568.7933821\ttotal: 444ms\tremaining: 1.87s\n",
      "115:\tlearn: 854182.6750901\ttotal: 448ms\tremaining: 1.87s\n",
      "116:\tlearn: 852879.9677323\ttotal: 451ms\tremaining: 1.86s\n",
      "117:\tlearn: 851732.2380836\ttotal: 455ms\tremaining: 1.86s\n",
      "118:\tlearn: 849274.9860728\ttotal: 462ms\tremaining: 1.87s\n",
      "119:\tlearn: 848093.3411787\ttotal: 467ms\tremaining: 1.87s\n",
      "120:\tlearn: 847081.1168154\ttotal: 472ms\tremaining: 1.87s\n",
      "121:\tlearn: 846009.6804657\ttotal: 478ms\tremaining: 1.87s\n",
      "122:\tlearn: 845103.5207492\ttotal: 481ms\tremaining: 1.87s\n",
      "123:\tlearn: 844056.2222783\ttotal: 485ms\tremaining: 1.86s\n",
      "124:\tlearn: 843163.1234475\ttotal: 488ms\tremaining: 1.85s\n",
      "125:\tlearn: 841494.2909954\ttotal: 492ms\tremaining: 1.85s\n",
      "126:\tlearn: 840854.9576122\ttotal: 495ms\tremaining: 1.84s\n",
      "127:\tlearn: 838490.5949345\ttotal: 499ms\tremaining: 1.84s\n",
      "128:\tlearn: 836828.5679983\ttotal: 503ms\tremaining: 1.84s\n",
      "129:\tlearn: 835880.1655133\ttotal: 506ms\tremaining: 1.83s\n",
      "130:\tlearn: 835609.4678739\ttotal: 510ms\tremaining: 1.83s\n",
      "131:\tlearn: 833274.7139582\ttotal: 514ms\tremaining: 1.82s\n",
      "132:\tlearn: 832563.8142963\ttotal: 518ms\tremaining: 1.82s\n",
      "133:\tlearn: 830464.3173778\ttotal: 523ms\tremaining: 1.82s\n",
      "134:\tlearn: 829598.7022765\ttotal: 529ms\tremaining: 1.82s\n",
      "135:\tlearn: 827942.3227239\ttotal: 535ms\tremaining: 1.82s\n",
      "136:\tlearn: 826993.2036898\ttotal: 538ms\tremaining: 1.82s\n",
      "137:\tlearn: 826336.9751968\ttotal: 541ms\tremaining: 1.81s\n",
      "138:\tlearn: 825545.5753010\ttotal: 544ms\tremaining: 1.8s\n",
      "139:\tlearn: 824807.4521040\ttotal: 548ms\tremaining: 1.8s\n",
      "140:\tlearn: 824225.3600638\ttotal: 552ms\tremaining: 1.79s\n",
      "141:\tlearn: 823298.1208388\ttotal: 556ms\tremaining: 1.79s\n",
      "142:\tlearn: 821373.3598648\ttotal: 562ms\tremaining: 1.8s\n",
      "143:\tlearn: 820480.3290807\ttotal: 565ms\tremaining: 1.79s\n",
      "144:\tlearn: 819675.4946433\ttotal: 570ms\tremaining: 1.79s\n",
      "145:\tlearn: 819266.8810455\ttotal: 574ms\tremaining: 1.78s\n",
      "146:\tlearn: 816358.0183906\ttotal: 578ms\tremaining: 1.78s\n",
      "147:\tlearn: 814700.0969786\ttotal: 581ms\tremaining: 1.77s\n",
      "148:\tlearn: 813844.6008559\ttotal: 585ms\tremaining: 1.77s\n",
      "149:\tlearn: 813123.8898784\ttotal: 589ms\tremaining: 1.76s\n",
      "150:\tlearn: 812198.5164794\ttotal: 592ms\tremaining: 1.76s\n",
      "151:\tlearn: 811463.0185615\ttotal: 597ms\tremaining: 1.76s\n",
      "152:\tlearn: 810719.0155350\ttotal: 603ms\tremaining: 1.76s\n",
      "153:\tlearn: 809882.9578657\ttotal: 607ms\tremaining: 1.76s\n",
      "154:\tlearn: 809172.2409299\ttotal: 611ms\tremaining: 1.75s\n",
      "155:\tlearn: 806988.3729972\ttotal: 615ms\tremaining: 1.75s\n",
      "156:\tlearn: 806487.9218362\ttotal: 619ms\tremaining: 1.75s\n",
      "157:\tlearn: 805592.0231066\ttotal: 623ms\tremaining: 1.74s\n",
      "158:\tlearn: 805078.5804134\ttotal: 627ms\tremaining: 1.74s\n",
      "159:\tlearn: 803830.3164611\ttotal: 631ms\tremaining: 1.74s\n",
      "160:\tlearn: 802559.0109461\ttotal: 635ms\tremaining: 1.73s\n",
      "161:\tlearn: 802035.5619631\ttotal: 639ms\tremaining: 1.73s\n",
      "162:\tlearn: 800841.1502651\ttotal: 642ms\tremaining: 1.72s\n",
      "163:\tlearn: 800248.8430848\ttotal: 646ms\tremaining: 1.72s\n",
      "164:\tlearn: 799810.7236820\ttotal: 649ms\tremaining: 1.71s\n",
      "165:\tlearn: 798658.4917444\ttotal: 654ms\tremaining: 1.71s\n",
      "166:\tlearn: 797852.2991672\ttotal: 659ms\tremaining: 1.71s\n",
      "167:\tlearn: 796841.4856071\ttotal: 663ms\tremaining: 1.7s\n",
      "168:\tlearn: 795812.0072528\ttotal: 667ms\tremaining: 1.7s\n",
      "169:\tlearn: 794932.5233594\ttotal: 670ms\tremaining: 1.7s\n",
      "170:\tlearn: 794002.4546136\ttotal: 675ms\tremaining: 1.69s\n",
      "171:\tlearn: 792572.6819361\ttotal: 678ms\tremaining: 1.69s\n",
      "172:\tlearn: 791922.9869172\ttotal: 681ms\tremaining: 1.68s\n"
     ]
    },
    {
     "name": "stdout",
     "output_type": "stream",
     "text": [
      "173:\tlearn: 791460.4071860\ttotal: 686ms\tremaining: 1.68s\n",
      "174:\tlearn: 789838.9062144\ttotal: 691ms\tremaining: 1.68s\n",
      "175:\tlearn: 789059.3008319\ttotal: 696ms\tremaining: 1.68s\n",
      "176:\tlearn: 788347.8046438\ttotal: 700ms\tremaining: 1.67s\n",
      "177:\tlearn: 787559.3164110\ttotal: 705ms\tremaining: 1.67s\n",
      "178:\tlearn: 787030.1828718\ttotal: 709ms\tremaining: 1.67s\n",
      "179:\tlearn: 786678.5811023\ttotal: 713ms\tremaining: 1.66s\n",
      "180:\tlearn: 786152.2262763\ttotal: 718ms\tremaining: 1.66s\n",
      "181:\tlearn: 785861.9727488\ttotal: 723ms\tremaining: 1.66s\n",
      "182:\tlearn: 785084.9469198\ttotal: 726ms\tremaining: 1.65s\n",
      "183:\tlearn: 784518.1117253\ttotal: 729ms\tremaining: 1.65s\n",
      "184:\tlearn: 783790.5903672\ttotal: 732ms\tremaining: 1.64s\n",
      "185:\tlearn: 782975.4659504\ttotal: 735ms\tremaining: 1.63s\n",
      "186:\tlearn: 781666.6693481\ttotal: 737ms\tremaining: 1.63s\n",
      "187:\tlearn: 781108.1639925\ttotal: 741ms\tremaining: 1.62s\n",
      "188:\tlearn: 781006.2910116\ttotal: 744ms\tremaining: 1.62s\n",
      "189:\tlearn: 779114.6872496\ttotal: 748ms\tremaining: 1.61s\n",
      "190:\tlearn: 778313.4237479\ttotal: 753ms\tremaining: 1.61s\n",
      "191:\tlearn: 777499.3324280\ttotal: 759ms\tremaining: 1.61s\n",
      "192:\tlearn: 776641.6197951\ttotal: 763ms\tremaining: 1.61s\n",
      "193:\tlearn: 775268.9380772\ttotal: 767ms\tremaining: 1.6s\n",
      "194:\tlearn: 773763.8796021\ttotal: 771ms\tremaining: 1.6s\n",
      "195:\tlearn: 773207.9349946\ttotal: 776ms\tremaining: 1.6s\n",
      "196:\tlearn: 772642.4492374\ttotal: 780ms\tremaining: 1.59s\n",
      "197:\tlearn: 772547.7637245\ttotal: 783ms\tremaining: 1.59s\n",
      "198:\tlearn: 771942.4631568\ttotal: 786ms\tremaining: 1.58s\n",
      "199:\tlearn: 770701.0891981\ttotal: 790ms\tremaining: 1.58s\n",
      "200:\tlearn: 770128.2635360\ttotal: 793ms\tremaining: 1.57s\n",
      "201:\tlearn: 769621.5622044\ttotal: 796ms\tremaining: 1.57s\n",
      "202:\tlearn: 768965.5584970\ttotal: 800ms\tremaining: 1.56s\n",
      "203:\tlearn: 768334.0177325\ttotal: 802ms\tremaining: 1.56s\n",
      "204:\tlearn: 768246.1519715\ttotal: 805ms\tremaining: 1.55s\n",
      "205:\tlearn: 766917.0337940\ttotal: 807ms\tremaining: 1.54s\n",
      "206:\tlearn: 766676.6152603\ttotal: 810ms\tremaining: 1.54s\n",
      "207:\tlearn: 766071.9081165\ttotal: 812ms\tremaining: 1.53s\n",
      "208:\tlearn: 765383.6254978\ttotal: 815ms\tremaining: 1.52s\n",
      "209:\tlearn: 764981.0851849\ttotal: 818ms\tremaining: 1.52s\n",
      "210:\tlearn: 764381.9830455\ttotal: 821ms\tremaining: 1.51s\n",
      "211:\tlearn: 763145.0140381\ttotal: 823ms\tremaining: 1.51s\n",
      "212:\tlearn: 763068.4641998\ttotal: 826ms\tremaining: 1.5s\n",
      "213:\tlearn: 762462.6894318\ttotal: 829ms\tremaining: 1.49s\n",
      "214:\tlearn: 761981.0741383\ttotal: 831ms\tremaining: 1.49s\n",
      "215:\tlearn: 761338.2996791\ttotal: 834ms\tremaining: 1.48s\n",
      "216:\tlearn: 759917.0113022\ttotal: 836ms\tremaining: 1.48s\n",
      "217:\tlearn: 758706.5184956\ttotal: 839ms\tremaining: 1.47s\n",
      "218:\tlearn: 758249.5785270\ttotal: 842ms\tremaining: 1.46s\n",
      "219:\tlearn: 757451.1454004\ttotal: 846ms\tremaining: 1.46s\n",
      "220:\tlearn: 757393.0089212\ttotal: 851ms\tremaining: 1.46s\n",
      "221:\tlearn: 756584.4443432\ttotal: 855ms\tremaining: 1.46s\n",
      "222:\tlearn: 755920.1196567\ttotal: 857ms\tremaining: 1.45s\n",
      "223:\tlearn: 755518.6229588\ttotal: 859ms\tremaining: 1.44s\n",
      "224:\tlearn: 755170.1281207\ttotal: 862ms\tremaining: 1.44s\n",
      "225:\tlearn: 754643.1889083\ttotal: 867ms\tremaining: 1.43s\n",
      "226:\tlearn: 754152.0341421\ttotal: 869ms\tremaining: 1.43s\n",
      "227:\tlearn: 753781.9973897\ttotal: 872ms\tremaining: 1.42s\n",
      "228:\tlearn: 753369.5299358\ttotal: 874ms\tremaining: 1.42s\n",
      "229:\tlearn: 752804.9747126\ttotal: 876ms\tremaining: 1.41s\n",
      "230:\tlearn: 752283.3926628\ttotal: 879ms\tremaining: 1.4s\n",
      "231:\tlearn: 751788.2824116\ttotal: 882ms\tremaining: 1.4s\n",
      "232:\tlearn: 751261.6280027\ttotal: 884ms\tremaining: 1.39s\n",
      "233:\tlearn: 750322.9020226\ttotal: 886ms\tremaining: 1.39s\n",
      "234:\tlearn: 749848.4935588\ttotal: 888ms\tremaining: 1.38s\n",
      "235:\tlearn: 749349.3646326\ttotal: 891ms\tremaining: 1.37s\n",
      "236:\tlearn: 749030.8168507\ttotal: 893ms\tremaining: 1.37s\n",
      "237:\tlearn: 747278.6262665\ttotal: 896ms\tremaining: 1.36s\n",
      "238:\tlearn: 746807.4339394\ttotal: 898ms\tremaining: 1.36s\n",
      "239:\tlearn: 745814.0354001\ttotal: 900ms\tremaining: 1.35s\n",
      "240:\tlearn: 744507.7823866\ttotal: 902ms\tremaining: 1.34s\n",
      "241:\tlearn: 743953.0550520\ttotal: 905ms\tremaining: 1.34s\n",
      "242:\tlearn: 743147.9374186\ttotal: 907ms\tremaining: 1.33s\n",
      "243:\tlearn: 742445.9357179\ttotal: 911ms\tremaining: 1.33s\n",
      "244:\tlearn: 741967.5242445\ttotal: 914ms\tremaining: 1.32s\n",
      "245:\tlearn: 740833.7508443\ttotal: 917ms\tremaining: 1.32s\n",
      "246:\tlearn: 740104.0797131\ttotal: 920ms\tremaining: 1.31s\n",
      "247:\tlearn: 739217.3884170\ttotal: 922ms\tremaining: 1.31s\n",
      "248:\tlearn: 738654.2925211\ttotal: 924ms\tremaining: 1.3s\n",
      "249:\tlearn: 738069.5751312\ttotal: 928ms\tremaining: 1.3s\n",
      "250:\tlearn: 737722.0271940\ttotal: 931ms\tremaining: 1.29s\n",
      "251:\tlearn: 736726.8306873\ttotal: 933ms\tremaining: 1.29s\n",
      "252:\tlearn: 736132.1824747\ttotal: 936ms\tremaining: 1.28s\n",
      "253:\tlearn: 735722.5045300\ttotal: 938ms\tremaining: 1.28s\n",
      "254:\tlearn: 734058.8766645\ttotal: 940ms\tremaining: 1.27s\n",
      "255:\tlearn: 733250.8657646\ttotal: 944ms\tremaining: 1.27s\n",
      "256:\tlearn: 732479.9430029\ttotal: 946ms\tremaining: 1.26s\n",
      "257:\tlearn: 732107.3350577\ttotal: 948ms\tremaining: 1.26s\n",
      "258:\tlearn: 731600.3238279\ttotal: 951ms\tremaining: 1.25s\n",
      "259:\tlearn: 730807.6389739\ttotal: 953ms\tremaining: 1.25s\n",
      "260:\tlearn: 730543.8844802\ttotal: 955ms\tremaining: 1.24s\n",
      "261:\tlearn: 729841.9357841\ttotal: 958ms\tremaining: 1.24s\n",
      "262:\tlearn: 729238.6184077\ttotal: 960ms\tremaining: 1.23s\n",
      "263:\tlearn: 728259.8234058\ttotal: 963ms\tremaining: 1.23s\n",
      "264:\tlearn: 727735.5261003\ttotal: 966ms\tremaining: 1.22s\n",
      "265:\tlearn: 727113.2420359\ttotal: 968ms\tremaining: 1.22s\n",
      "266:\tlearn: 726756.8953976\ttotal: 971ms\tremaining: 1.21s\n",
      "267:\tlearn: 726184.2421298\ttotal: 973ms\tremaining: 1.21s\n",
      "268:\tlearn: 725708.8619933\ttotal: 975ms\tremaining: 1.2s\n",
      "269:\tlearn: 725155.4614582\ttotal: 978ms\tremaining: 1.19s\n",
      "270:\tlearn: 724327.4626450\ttotal: 980ms\tremaining: 1.19s\n",
      "271:\tlearn: 723816.1358618\ttotal: 982ms\tremaining: 1.18s\n",
      "272:\tlearn: 723425.2032600\ttotal: 985ms\tremaining: 1.18s\n",
      "273:\tlearn: 722688.2458122\ttotal: 987ms\tremaining: 1.17s\n",
      "274:\tlearn: 721868.6726011\ttotal: 991ms\tremaining: 1.17s\n",
      "275:\tlearn: 720654.6111042\ttotal: 994ms\tremaining: 1.17s\n",
      "276:\tlearn: 720355.5598536\ttotal: 996ms\tremaining: 1.16s\n",
      "277:\tlearn: 719939.5570180\ttotal: 999ms\tremaining: 1.16s\n",
      "278:\tlearn: 719525.4580714\ttotal: 1s\tremaining: 1.15s\n",
      "279:\tlearn: 718336.9517741\ttotal: 1s\tremaining: 1.15s\n",
      "280:\tlearn: 717839.6473310\ttotal: 1.01s\tremaining: 1.15s\n",
      "281:\tlearn: 717225.3368595\ttotal: 1.01s\tremaining: 1.14s\n",
      "282:\tlearn: 716708.9141045\ttotal: 1.01s\tremaining: 1.14s\n",
      "283:\tlearn: 715767.0801326\ttotal: 1.02s\tremaining: 1.13s\n",
      "284:\tlearn: 715099.2400350\ttotal: 1.02s\tremaining: 1.13s\n",
      "285:\tlearn: 714723.3448850\ttotal: 1.02s\tremaining: 1.12s\n",
      "286:\tlearn: 714627.2659403\ttotal: 1.02s\tremaining: 1.12s\n",
      "287:\tlearn: 714292.1895539\ttotal: 1.02s\tremaining: 1.11s\n",
      "288:\tlearn: 713697.1673540\ttotal: 1.03s\tremaining: 1.11s\n",
      "289:\tlearn: 713542.8263242\ttotal: 1.03s\tremaining: 1.1s\n",
      "290:\tlearn: 713101.1975067\ttotal: 1.04s\tremaining: 1.1s\n",
      "291:\tlearn: 712513.9438503\ttotal: 1.04s\tremaining: 1.1s\n",
      "292:\tlearn: 711401.8457231\ttotal: 1.04s\tremaining: 1.09s\n",
      "293:\tlearn: 710952.5746180\ttotal: 1.04s\tremaining: 1.09s\n",
      "294:\tlearn: 710543.2923619\ttotal: 1.05s\tremaining: 1.09s\n",
      "295:\tlearn: 709807.4865156\ttotal: 1.05s\tremaining: 1.08s\n",
      "296:\tlearn: 709222.6354860\ttotal: 1.06s\tremaining: 1.08s\n",
      "297:\tlearn: 708774.4832462\ttotal: 1.06s\tremaining: 1.07s\n",
      "298:\tlearn: 708238.3522244\ttotal: 1.06s\tremaining: 1.07s\n",
      "299:\tlearn: 707675.6261800\ttotal: 1.07s\tremaining: 1.07s\n",
      "300:\tlearn: 706827.8587938\ttotal: 1.07s\tremaining: 1.06s\n",
      "301:\tlearn: 706486.2858059\ttotal: 1.07s\tremaining: 1.06s\n",
      "302:\tlearn: 705976.9677544\ttotal: 1.07s\tremaining: 1.05s\n",
      "303:\tlearn: 705620.8646913\ttotal: 1.08s\tremaining: 1.05s\n",
      "304:\tlearn: 705350.1309170\ttotal: 1.08s\tremaining: 1.04s\n",
      "305:\tlearn: 704993.7208945\ttotal: 1.08s\tremaining: 1.04s\n",
      "306:\tlearn: 704756.2527052\ttotal: 1.08s\tremaining: 1.03s\n",
      "307:\tlearn: 704261.2032261\ttotal: 1.09s\tremaining: 1.03s\n",
      "308:\tlearn: 703500.0313178\ttotal: 1.09s\tremaining: 1.03s\n",
      "309:\tlearn: 703152.9697897\ttotal: 1.09s\tremaining: 1.02s\n",
      "310:\tlearn: 702989.5885530\ttotal: 1.09s\tremaining: 1.02s\n",
      "311:\tlearn: 702380.1263203\ttotal: 1.1s\tremaining: 1.01s\n",
      "312:\tlearn: 701850.6065346\ttotal: 1.1s\tremaining: 1.01s\n",
      "313:\tlearn: 701735.4620805\ttotal: 1.1s\tremaining: 1s\n",
      "314:\tlearn: 701297.1297205\ttotal: 1.11s\tremaining: 1s\n",
      "315:\tlearn: 700495.2806423\ttotal: 1.11s\tremaining: 997ms\n",
      "316:\tlearn: 700015.5778296\ttotal: 1.11s\tremaining: 992ms\n",
      "317:\tlearn: 699776.9393229\ttotal: 1.11s\tremaining: 988ms\n",
      "318:\tlearn: 699579.0787349\ttotal: 1.12s\tremaining: 984ms\n",
      "319:\tlearn: 699136.5276085\ttotal: 1.12s\tremaining: 980ms\n",
      "320:\tlearn: 698927.5204352\ttotal: 1.12s\tremaining: 976ms\n",
      "321:\tlearn: 698397.7286993\ttotal: 1.13s\tremaining: 972ms\n",
      "322:\tlearn: 697950.8557896\ttotal: 1.13s\tremaining: 968ms\n",
      "323:\tlearn: 697510.2911736\ttotal: 1.13s\tremaining: 963ms\n",
      "324:\tlearn: 697108.7107396\ttotal: 1.13s\tremaining: 960ms\n",
      "325:\tlearn: 696751.8384761\ttotal: 1.14s\tremaining: 955ms\n",
      "326:\tlearn: 696300.5904902\ttotal: 1.14s\tremaining: 951ms\n",
      "327:\tlearn: 695933.7946884\ttotal: 1.14s\tremaining: 946ms\n",
      "328:\tlearn: 695509.4905152\ttotal: 1.14s\tremaining: 942ms\n",
      "329:\tlearn: 695133.9943604\ttotal: 1.15s\tremaining: 937ms\n",
      "330:\tlearn: 694817.1986260\ttotal: 1.15s\tremaining: 933ms\n",
      "331:\tlearn: 694412.1247267\ttotal: 1.15s\tremaining: 929ms\n",
      "332:\tlearn: 693967.9572073\ttotal: 1.15s\tremaining: 925ms\n",
      "333:\tlearn: 693611.1179022\ttotal: 1.16s\tremaining: 921ms\n",
      "334:\tlearn: 692695.9574715\ttotal: 1.16s\tremaining: 916ms\n",
      "335:\tlearn: 692221.1003117\ttotal: 1.16s\tremaining: 912ms\n"
     ]
    },
    {
     "name": "stdout",
     "output_type": "stream",
     "text": [
      "336:\tlearn: 691699.9991124\ttotal: 1.17s\tremaining: 909ms\n",
      "337:\tlearn: 691384.0080942\ttotal: 1.17s\tremaining: 906ms\n",
      "338:\tlearn: 691020.6925412\ttotal: 1.17s\tremaining: 902ms\n",
      "339:\tlearn: 690415.6244262\ttotal: 1.17s\tremaining: 898ms\n",
      "340:\tlearn: 689619.9423482\ttotal: 1.18s\tremaining: 894ms\n",
      "341:\tlearn: 689406.2112102\ttotal: 1.18s\tremaining: 890ms\n",
      "342:\tlearn: 689222.9020685\ttotal: 1.18s\tremaining: 887ms\n",
      "343:\tlearn: 689044.4867697\ttotal: 1.19s\tremaining: 883ms\n",
      "344:\tlearn: 688371.9784283\ttotal: 1.19s\tremaining: 879ms\n",
      "345:\tlearn: 688028.7135697\ttotal: 1.19s\tremaining: 875ms\n",
      "346:\tlearn: 686829.1062991\ttotal: 1.2s\tremaining: 873ms\n",
      "347:\tlearn: 686318.7833182\ttotal: 1.2s\tremaining: 869ms\n",
      "348:\tlearn: 685773.4881777\ttotal: 1.2s\tremaining: 865ms\n",
      "349:\tlearn: 685489.6503625\ttotal: 1.21s\tremaining: 861ms\n",
      "350:\tlearn: 685095.5164811\ttotal: 1.21s\tremaining: 857ms\n",
      "351:\tlearn: 684737.0989679\ttotal: 1.21s\tremaining: 853ms\n",
      "352:\tlearn: 684590.4688089\ttotal: 1.22s\tremaining: 850ms\n",
      "353:\tlearn: 684325.7634853\ttotal: 1.22s\tremaining: 846ms\n",
      "354:\tlearn: 683958.9009525\ttotal: 1.22s\tremaining: 844ms\n",
      "355:\tlearn: 683431.8521818\ttotal: 1.23s\tremaining: 840ms\n",
      "356:\tlearn: 683009.0470892\ttotal: 1.23s\tremaining: 836ms\n",
      "357:\tlearn: 682774.3730122\ttotal: 1.23s\tremaining: 831ms\n",
      "358:\tlearn: 682526.8361105\ttotal: 1.23s\tremaining: 828ms\n",
      "359:\tlearn: 682098.0850033\ttotal: 1.24s\tremaining: 825ms\n",
      "360:\tlearn: 681923.4300118\ttotal: 1.24s\tremaining: 821ms\n",
      "361:\tlearn: 681560.4392153\ttotal: 1.24s\tremaining: 817ms\n",
      "362:\tlearn: 680908.6163356\ttotal: 1.24s\tremaining: 813ms\n",
      "363:\tlearn: 680636.0303055\ttotal: 1.25s\tremaining: 809ms\n",
      "364:\tlearn: 680194.9650184\ttotal: 1.25s\tremaining: 805ms\n",
      "365:\tlearn: 679928.2323378\ttotal: 1.25s\tremaining: 801ms\n",
      "366:\tlearn: 678888.6981912\ttotal: 1.25s\tremaining: 796ms\n",
      "367:\tlearn: 678413.7492959\ttotal: 1.26s\tremaining: 792ms\n",
      "368:\tlearn: 678306.0058938\ttotal: 1.26s\tremaining: 788ms\n",
      "369:\tlearn: 677938.1104076\ttotal: 1.26s\tremaining: 784ms\n",
      "370:\tlearn: 677673.9542766\ttotal: 1.26s\tremaining: 781ms\n",
      "371:\tlearn: 677268.5104814\ttotal: 1.27s\tremaining: 777ms\n",
      "372:\tlearn: 676909.2937363\ttotal: 1.27s\tremaining: 773ms\n",
      "373:\tlearn: 676532.7916722\ttotal: 1.27s\tremaining: 769ms\n",
      "374:\tlearn: 676087.5757080\ttotal: 1.27s\tremaining: 765ms\n",
      "375:\tlearn: 675815.4428439\ttotal: 1.28s\tremaining: 761ms\n",
      "376:\tlearn: 675462.3428515\ttotal: 1.28s\tremaining: 757ms\n",
      "377:\tlearn: 674885.8644120\ttotal: 1.28s\tremaining: 753ms\n",
      "378:\tlearn: 674606.5851218\ttotal: 1.28s\tremaining: 749ms\n",
      "379:\tlearn: 673713.1117089\ttotal: 1.29s\tremaining: 745ms\n",
      "380:\tlearn: 673631.6472686\ttotal: 1.29s\tremaining: 741ms\n",
      "381:\tlearn: 673050.9145020\ttotal: 1.29s\tremaining: 737ms\n",
      "382:\tlearn: 672730.6898325\ttotal: 1.29s\tremaining: 733ms\n",
      "383:\tlearn: 672075.9286878\ttotal: 1.3s\tremaining: 729ms\n",
      "384:\tlearn: 671817.5847403\ttotal: 1.3s\tremaining: 725ms\n",
      "385:\tlearn: 671575.2765526\ttotal: 1.3s\tremaining: 722ms\n",
      "386:\tlearn: 671392.6545318\ttotal: 1.3s\tremaining: 718ms\n",
      "387:\tlearn: 671120.9141021\ttotal: 1.31s\tremaining: 714ms\n",
      "388:\tlearn: 670641.9523566\ttotal: 1.31s\tremaining: 710ms\n",
      "389:\tlearn: 670421.3946228\ttotal: 1.31s\tremaining: 706ms\n",
      "390:\tlearn: 669953.7855872\ttotal: 1.31s\tremaining: 702ms\n",
      "391:\tlearn: 669786.8017028\ttotal: 1.32s\tremaining: 698ms\n",
      "392:\tlearn: 669182.4288165\ttotal: 1.32s\tremaining: 695ms\n",
      "393:\tlearn: 668973.0205762\ttotal: 1.32s\tremaining: 692ms\n",
      "394:\tlearn: 668555.8209233\ttotal: 1.32s\tremaining: 688ms\n",
      "395:\tlearn: 667924.9252821\ttotal: 1.33s\tremaining: 685ms\n",
      "396:\tlearn: 667623.2044471\ttotal: 1.33s\tremaining: 681ms\n",
      "397:\tlearn: 667282.8668940\ttotal: 1.33s\tremaining: 677ms\n",
      "398:\tlearn: 666996.0041267\ttotal: 1.34s\tremaining: 674ms\n",
      "399:\tlearn: 666664.3193961\ttotal: 1.34s\tremaining: 670ms\n",
      "400:\tlearn: 666277.1776539\ttotal: 1.34s\tremaining: 666ms\n",
      "401:\tlearn: 665950.7166951\ttotal: 1.34s\tremaining: 663ms\n",
      "402:\tlearn: 665776.1136987\ttotal: 1.35s\tremaining: 659ms\n",
      "403:\tlearn: 665564.5699340\ttotal: 1.35s\tremaining: 655ms\n",
      "404:\tlearn: 665153.1209041\ttotal: 1.35s\tremaining: 651ms\n",
      "405:\tlearn: 664311.5294115\ttotal: 1.35s\tremaining: 648ms\n",
      "406:\tlearn: 664013.6236854\ttotal: 1.36s\tremaining: 644ms\n",
      "407:\tlearn: 663705.7300390\ttotal: 1.36s\tremaining: 641ms\n",
      "408:\tlearn: 663455.8603002\ttotal: 1.36s\tremaining: 637ms\n",
      "409:\tlearn: 663006.4235900\ttotal: 1.37s\tremaining: 633ms\n",
      "410:\tlearn: 662630.4122894\ttotal: 1.37s\tremaining: 630ms\n",
      "411:\tlearn: 662389.8021245\ttotal: 1.37s\tremaining: 626ms\n",
      "412:\tlearn: 661391.0317462\ttotal: 1.38s\tremaining: 623ms\n",
      "413:\tlearn: 661191.5658109\ttotal: 1.38s\tremaining: 619ms\n",
      "414:\tlearn: 660915.6898424\ttotal: 1.38s\tremaining: 615ms\n",
      "415:\tlearn: 660763.7090846\ttotal: 1.38s\tremaining: 612ms\n",
      "416:\tlearn: 660592.7235776\ttotal: 1.39s\tremaining: 608ms\n",
      "417:\tlearn: 660147.3195083\ttotal: 1.39s\tremaining: 604ms\n",
      "418:\tlearn: 659839.8802142\ttotal: 1.39s\tremaining: 601ms\n",
      "419:\tlearn: 659586.0498462\ttotal: 1.39s\tremaining: 597ms\n",
      "420:\tlearn: 658919.1150090\ttotal: 1.4s\tremaining: 593ms\n",
      "421:\tlearn: 658621.4569128\ttotal: 1.4s\tremaining: 590ms\n",
      "422:\tlearn: 658235.8852025\ttotal: 1.4s\tremaining: 586ms\n",
      "423:\tlearn: 658009.8844192\ttotal: 1.41s\tremaining: 584ms\n",
      "424:\tlearn: 657703.4115111\ttotal: 1.41s\tremaining: 581ms\n",
      "425:\tlearn: 657522.0616857\ttotal: 1.41s\tremaining: 577ms\n",
      "426:\tlearn: 657275.3516946\ttotal: 1.42s\tremaining: 574ms\n",
      "427:\tlearn: 656916.0115569\ttotal: 1.42s\tremaining: 571ms\n",
      "428:\tlearn: 656553.3706227\ttotal: 1.42s\tremaining: 568ms\n",
      "429:\tlearn: 656080.1269512\ttotal: 1.43s\tremaining: 564ms\n",
      "430:\tlearn: 655600.7194630\ttotal: 1.43s\tremaining: 560ms\n",
      "431:\tlearn: 655401.4329938\ttotal: 1.43s\tremaining: 556ms\n",
      "432:\tlearn: 655222.1782566\ttotal: 1.43s\tremaining: 553ms\n",
      "433:\tlearn: 655032.8149522\ttotal: 1.44s\tremaining: 549ms\n",
      "434:\tlearn: 654876.4236629\ttotal: 1.44s\tremaining: 546ms\n",
      "435:\tlearn: 654697.3391335\ttotal: 1.44s\tremaining: 542ms\n",
      "436:\tlearn: 654457.3967965\ttotal: 1.45s\tremaining: 539ms\n",
      "437:\tlearn: 654323.0294424\ttotal: 1.45s\tremaining: 535ms\n",
      "438:\tlearn: 654131.0912611\ttotal: 1.45s\tremaining: 532ms\n",
      "439:\tlearn: 653922.3369152\ttotal: 1.45s\tremaining: 528ms\n",
      "440:\tlearn: 653236.8860810\ttotal: 1.45s\tremaining: 525ms\n",
      "441:\tlearn: 653096.2694224\ttotal: 1.46s\tremaining: 521ms\n",
      "442:\tlearn: 652930.6896530\ttotal: 1.46s\tremaining: 517ms\n",
      "443:\tlearn: 652817.0062686\ttotal: 1.46s\tremaining: 514ms\n",
      "444:\tlearn: 652451.3176389\ttotal: 1.46s\tremaining: 510ms\n",
      "445:\tlearn: 651969.4106811\ttotal: 1.47s\tremaining: 507ms\n",
      "446:\tlearn: 651769.8180201\ttotal: 1.47s\tremaining: 503ms\n",
      "447:\tlearn: 651638.8383065\ttotal: 1.48s\tremaining: 502ms\n",
      "448:\tlearn: 651538.9208493\ttotal: 1.49s\tremaining: 500ms\n",
      "449:\tlearn: 651409.3304622\ttotal: 1.5s\tremaining: 501ms\n",
      "450:\tlearn: 651193.1182880\ttotal: 1.52s\tremaining: 501ms\n",
      "451:\tlearn: 650941.1243926\ttotal: 1.52s\tremaining: 499ms\n",
      "452:\tlearn: 649825.3937712\ttotal: 1.54s\tremaining: 499ms\n",
      "453:\tlearn: 649530.6621495\ttotal: 1.55s\tremaining: 498ms\n",
      "454:\tlearn: 649028.4187652\ttotal: 1.55s\tremaining: 495ms\n",
      "455:\tlearn: 648540.1018354\ttotal: 1.56s\tremaining: 494ms\n",
      "456:\tlearn: 648146.2832038\ttotal: 1.57s\tremaining: 492ms\n",
      "457:\tlearn: 647701.3383287\ttotal: 1.58s\tremaining: 490ms\n",
      "458:\tlearn: 647150.3243809\ttotal: 1.59s\tremaining: 488ms\n",
      "459:\tlearn: 646981.0447061\ttotal: 1.6s\tremaining: 488ms\n",
      "460:\tlearn: 646160.2242894\ttotal: 1.61s\tremaining: 486ms\n",
      "461:\tlearn: 645883.9323688\ttotal: 1.62s\tremaining: 485ms\n",
      "462:\tlearn: 645555.8453813\ttotal: 1.63s\tremaining: 483ms\n",
      "463:\tlearn: 645424.3931923\ttotal: 1.65s\tremaining: 483ms\n",
      "464:\tlearn: 644888.5601708\ttotal: 1.67s\tremaining: 484ms\n",
      "465:\tlearn: 644609.9933116\ttotal: 1.68s\tremaining: 484ms\n",
      "466:\tlearn: 644285.1590367\ttotal: 1.69s\tremaining: 483ms\n",
      "467:\tlearn: 643982.7419248\ttotal: 1.71s\tremaining: 484ms\n",
      "468:\tlearn: 643681.4737784\ttotal: 1.72s\tremaining: 481ms\n",
      "469:\tlearn: 643541.8906998\ttotal: 1.75s\tremaining: 484ms\n",
      "470:\tlearn: 643231.6138929\ttotal: 1.76s\tremaining: 482ms\n",
      "471:\tlearn: 642975.7669211\ttotal: 1.77s\tremaining: 480ms\n",
      "472:\tlearn: 642706.5512866\ttotal: 1.79s\tremaining: 480ms\n",
      "473:\tlearn: 642518.0872687\ttotal: 1.8s\tremaining: 479ms\n",
      "474:\tlearn: 642168.3929727\ttotal: 1.82s\tremaining: 480ms\n",
      "475:\tlearn: 641760.1677501\ttotal: 1.84s\tremaining: 480ms\n",
      "476:\tlearn: 641468.2407705\ttotal: 1.86s\tremaining: 479ms\n",
      "477:\tlearn: 640989.9393280\ttotal: 1.86s\tremaining: 476ms\n",
      "478:\tlearn: 640690.5274874\ttotal: 1.87s\tremaining: 473ms\n",
      "479:\tlearn: 640547.9523469\ttotal: 1.89s\tremaining: 472ms\n",
      "480:\tlearn: 640437.7284799\ttotal: 1.9s\tremaining: 470ms\n",
      "481:\tlearn: 640210.0640110\ttotal: 1.91s\tremaining: 467ms\n",
      "482:\tlearn: 639930.3565757\ttotal: 1.92s\tremaining: 465ms\n",
      "483:\tlearn: 639602.2843736\ttotal: 1.93s\tremaining: 463ms\n",
      "484:\tlearn: 639399.5199182\ttotal: 1.96s\tremaining: 465ms\n",
      "485:\tlearn: 639134.4214126\ttotal: 1.98s\tremaining: 465ms\n",
      "486:\tlearn: 639024.3334646\ttotal: 1.99s\tremaining: 462ms\n",
      "487:\tlearn: 638484.4091715\ttotal: 2s\tremaining: 459ms\n",
      "488:\tlearn: 638346.5247419\ttotal: 2.01s\tremaining: 456ms\n",
      "489:\tlearn: 637754.2010766\ttotal: 2.02s\tremaining: 453ms\n"
     ]
    },
    {
     "name": "stdout",
     "output_type": "stream",
     "text": [
      "490:\tlearn: 637346.8815375\ttotal: 2.03s\tremaining: 450ms\n",
      "491:\tlearn: 637264.1952183\ttotal: 2.04s\tremaining: 447ms\n",
      "492:\tlearn: 636994.7887301\ttotal: 2.05s\tremaining: 444ms\n",
      "493:\tlearn: 636551.7695445\ttotal: 2.06s\tremaining: 441ms\n",
      "494:\tlearn: 636276.2291132\ttotal: 2.07s\tremaining: 438ms\n",
      "495:\tlearn: 636046.3277056\ttotal: 2.08s\tremaining: 435ms\n",
      "496:\tlearn: 635676.2921007\ttotal: 2.09s\tremaining: 432ms\n",
      "497:\tlearn: 635462.9758991\ttotal: 2.1s\tremaining: 429ms\n",
      "498:\tlearn: 635142.6228254\ttotal: 2.11s\tremaining: 427ms\n",
      "499:\tlearn: 635047.8073615\ttotal: 2.12s\tremaining: 423ms\n",
      "500:\tlearn: 634830.4953228\ttotal: 2.12s\tremaining: 420ms\n",
      "501:\tlearn: 634681.1296097\ttotal: 2.14s\tremaining: 418ms\n",
      "502:\tlearn: 634608.0178645\ttotal: 2.16s\tremaining: 416ms\n",
      "503:\tlearn: 634195.7681732\ttotal: 2.19s\tremaining: 416ms\n",
      "504:\tlearn: 633670.0866615\ttotal: 2.2s\tremaining: 413ms\n",
      "505:\tlearn: 633542.0066496\ttotal: 2.21s\tremaining: 410ms\n",
      "506:\tlearn: 633173.7018524\ttotal: 2.22s\tremaining: 407ms\n",
      "507:\tlearn: 632924.5971479\ttotal: 2.23s\tremaining: 403ms\n",
      "508:\tlearn: 632669.3701676\ttotal: 2.24s\tremaining: 400ms\n",
      "509:\tlearn: 632383.1538923\ttotal: 2.25s\tremaining: 397ms\n",
      "510:\tlearn: 632035.7722731\ttotal: 2.26s\tremaining: 393ms\n",
      "511:\tlearn: 631711.3360132\ttotal: 2.27s\tremaining: 390ms\n",
      "512:\tlearn: 631499.8379881\ttotal: 2.27s\tremaining: 386ms\n",
      "513:\tlearn: 631284.1943584\ttotal: 2.29s\tremaining: 383ms\n",
      "514:\tlearn: 631210.1995225\ttotal: 2.29s\tremaining: 379ms\n",
      "515:\tlearn: 630661.9338996\ttotal: 2.31s\tremaining: 375ms\n",
      "516:\tlearn: 630441.1739946\ttotal: 2.32s\tremaining: 372ms\n",
      "517:\tlearn: 630163.8830351\ttotal: 2.32s\tremaining: 368ms\n",
      "518:\tlearn: 630013.7969338\ttotal: 2.33s\tremaining: 364ms\n",
      "519:\tlearn: 629686.0608180\ttotal: 2.35s\tremaining: 361ms\n",
      "520:\tlearn: 629556.4512143\ttotal: 2.36s\tremaining: 358ms\n",
      "521:\tlearn: 629223.1569437\ttotal: 2.38s\tremaining: 355ms\n",
      "522:\tlearn: 629123.1170006\ttotal: 2.39s\tremaining: 352ms\n",
      "523:\tlearn: 628954.6936222\ttotal: 2.4s\tremaining: 349ms\n",
      "524:\tlearn: 628768.8056778\ttotal: 2.43s\tremaining: 347ms\n",
      "525:\tlearn: 628216.2606893\ttotal: 2.44s\tremaining: 344ms\n",
      "526:\tlearn: 627993.2554848\ttotal: 2.46s\tremaining: 341ms\n",
      "527:\tlearn: 627660.8460012\ttotal: 2.48s\tremaining: 338ms\n",
      "528:\tlearn: 627529.8980897\ttotal: 2.49s\tremaining: 334ms\n",
      "529:\tlearn: 627128.0102871\ttotal: 2.5s\tremaining: 330ms\n",
      "530:\tlearn: 626925.2996351\ttotal: 2.52s\tremaining: 327ms\n",
      "531:\tlearn: 626672.7010181\ttotal: 2.52s\tremaining: 323ms\n",
      "532:\tlearn: 626563.4456212\ttotal: 2.58s\tremaining: 325ms\n",
      "533:\tlearn: 626429.5663636\ttotal: 2.63s\tremaining: 325ms\n",
      "534:\tlearn: 625833.5608789\ttotal: 2.66s\tremaining: 323ms\n",
      "535:\tlearn: 625664.1712888\ttotal: 2.67s\tremaining: 319ms\n",
      "536:\tlearn: 625474.0129561\ttotal: 2.69s\tremaining: 316ms\n",
      "537:\tlearn: 625310.5289289\ttotal: 2.7s\tremaining: 311ms\n",
      "538:\tlearn: 625150.8914096\ttotal: 2.71s\tremaining: 307ms\n",
      "539:\tlearn: 625053.6854263\ttotal: 2.72s\tremaining: 302ms\n",
      "540:\tlearn: 624368.3762859\ttotal: 2.73s\tremaining: 298ms\n",
      "541:\tlearn: 624169.6454897\ttotal: 2.75s\tremaining: 294ms\n",
      "542:\tlearn: 624060.9969395\ttotal: 2.77s\tremaining: 290ms\n",
      "543:\tlearn: 623747.9063704\ttotal: 2.78s\tremaining: 286ms\n",
      "544:\tlearn: 623522.0795992\ttotal: 2.79s\tremaining: 281ms\n",
      "545:\tlearn: 623274.3341716\ttotal: 2.81s\tremaining: 277ms\n",
      "546:\tlearn: 623231.8318238\ttotal: 2.89s\tremaining: 280ms\n",
      "547:\tlearn: 623063.1968172\ttotal: 2.9s\tremaining: 276ms\n",
      "548:\tlearn: 622947.3703379\ttotal: 2.92s\tremaining: 271ms\n",
      "549:\tlearn: 622402.8823214\ttotal: 2.93s\tremaining: 266ms\n",
      "550:\tlearn: 622338.6672386\ttotal: 2.94s\tremaining: 261ms\n",
      "551:\tlearn: 622078.5167165\ttotal: 2.95s\tremaining: 256ms\n",
      "552:\tlearn: 621673.9300276\ttotal: 2.96s\tremaining: 251ms\n",
      "553:\tlearn: 621494.9413611\ttotal: 2.98s\tremaining: 248ms\n",
      "554:\tlearn: 621295.0314623\ttotal: 2.99s\tremaining: 243ms\n",
      "555:\tlearn: 621193.2592420\ttotal: 3s\tremaining: 237ms\n",
      "556:\tlearn: 620993.2105746\ttotal: 3.01s\tremaining: 232ms\n",
      "557:\tlearn: 620819.5733763\ttotal: 3.02s\tremaining: 227ms\n",
      "558:\tlearn: 620691.2330570\ttotal: 3.02s\tremaining: 222ms\n",
      "559:\tlearn: 620473.2315189\ttotal: 3.03s\tremaining: 216ms\n",
      "560:\tlearn: 620331.7202495\ttotal: 3.03s\tremaining: 211ms\n",
      "561:\tlearn: 620283.9235180\ttotal: 3.03s\tremaining: 205ms\n",
      "562:\tlearn: 620118.5752592\ttotal: 3.03s\tremaining: 199ms\n",
      "563:\tlearn: 619822.9205585\ttotal: 3.04s\tremaining: 194ms\n",
      "564:\tlearn: 619689.6103631\ttotal: 3.04s\tremaining: 188ms\n",
      "565:\tlearn: 619596.8829128\ttotal: 3.04s\tremaining: 183ms\n",
      "566:\tlearn: 619320.8213850\ttotal: 3.04s\tremaining: 177ms\n",
      "567:\tlearn: 619030.8262105\ttotal: 3.05s\tremaining: 172ms\n",
      "568:\tlearn: 618822.3741964\ttotal: 3.05s\tremaining: 166ms\n",
      "569:\tlearn: 618691.0833952\ttotal: 3.05s\tremaining: 161ms\n",
      "570:\tlearn: 618436.0009150\ttotal: 3.06s\tremaining: 155ms\n",
      "571:\tlearn: 618065.9587254\ttotal: 3.06s\tremaining: 150ms\n",
      "572:\tlearn: 617855.3791733\ttotal: 3.06s\tremaining: 144ms\n",
      "573:\tlearn: 617632.0917016\ttotal: 3.06s\tremaining: 139ms\n",
      "574:\tlearn: 617408.7518899\ttotal: 3.07s\tremaining: 133ms\n",
      "575:\tlearn: 616826.5976724\ttotal: 3.07s\tremaining: 128ms\n",
      "576:\tlearn: 616692.6612385\ttotal: 3.07s\tremaining: 123ms\n",
      "577:\tlearn: 616191.0771309\ttotal: 3.08s\tremaining: 117ms\n",
      "578:\tlearn: 616074.4307139\ttotal: 3.08s\tremaining: 112ms\n",
      "579:\tlearn: 615555.5395481\ttotal: 3.08s\tremaining: 106ms\n",
      "580:\tlearn: 615328.7126293\ttotal: 3.08s\tremaining: 101ms\n",
      "581:\tlearn: 615122.7897952\ttotal: 3.09s\tremaining: 95.5ms\n",
      "582:\tlearn: 614895.2043263\ttotal: 3.09s\tremaining: 90.1ms\n",
      "583:\tlearn: 614749.3416496\ttotal: 3.09s\tremaining: 84.8ms\n",
      "584:\tlearn: 614503.0242068\ttotal: 3.1s\tremaining: 79.4ms\n",
      "585:\tlearn: 614258.3783212\ttotal: 3.1s\tremaining: 74.1ms\n",
      "586:\tlearn: 613708.9817643\ttotal: 3.1s\tremaining: 68.7ms\n",
      "587:\tlearn: 613393.6671291\ttotal: 3.11s\tremaining: 63.4ms\n",
      "588:\tlearn: 613121.8138334\ttotal: 3.11s\tremaining: 58.1ms\n",
      "589:\tlearn: 612772.7773787\ttotal: 3.11s\tremaining: 52.8ms\n",
      "590:\tlearn: 612686.6157847\ttotal: 3.12s\tremaining: 47.5ms\n",
      "591:\tlearn: 612468.0621976\ttotal: 3.12s\tremaining: 42.2ms\n",
      "592:\tlearn: 612388.3501699\ttotal: 3.13s\tremaining: 36.9ms\n",
      "593:\tlearn: 612074.4610643\ttotal: 3.13s\tremaining: 31.6ms\n",
      "594:\tlearn: 611868.0784860\ttotal: 3.13s\tremaining: 26.3ms\n",
      "595:\tlearn: 611319.4683167\ttotal: 3.14s\tremaining: 21.1ms\n",
      "596:\tlearn: 611122.3836005\ttotal: 3.15s\tremaining: 15.8ms\n",
      "597:\tlearn: 610964.2029026\ttotal: 3.15s\tremaining: 10.5ms\n",
      "598:\tlearn: 610911.8229957\ttotal: 3.15s\tremaining: 5.26ms\n",
      "599:\tlearn: 610592.8187446\ttotal: 3.16s\tremaining: 0us\n"
     ]
    },
    {
     "data": {
      "text/plain": [
       "<catboost.core.CatBoostRegressor at 0x1a199b90be0>"
      ]
     },
     "execution_count": 80,
     "metadata": {},
     "output_type": "execute_result"
    }
   ],
   "source": [
    "#using the best parameters gotten above\n",
    "cat_reg = CatBoostRegressor(depth=4, iterations=600, learning_rate=0.1, random_state=42)\n",
    "cat_reg.fit(X_train_scaled, y_train.ravel())"
   ]
  },
  {
   "cell_type": "code",
   "execution_count": 81,
   "id": "409d11ed",
   "metadata": {},
   "outputs": [],
   "source": [
    "y_predCAT = cat_reg.predict(X_test_scaled)"
   ]
  },
  {
   "cell_type": "code",
   "execution_count": 82,
   "id": "9e0d3aa3",
   "metadata": {},
   "outputs": [
    {
     "name": "stdout",
     "output_type": "stream",
     "text": [
      "Mean Absolute Error:  626919.878\n",
      "Mean Squared Error:  830350180240.356\n",
      "Root Mean Squared Error:  911235.524\n",
      "R2 score:  0.726\n"
     ]
    }
   ],
   "source": [
    "print('Mean Absolute Error: ', round(metrics.mean_absolute_error(y_test, y_predCAT), 3))\n",
    "print('Mean Squared Error: ', round(metrics.mean_squared_error(y_test, y_predCAT), 3))\n",
    "print('Root Mean Squared Error: ', round(np.sqrt(metrics.mean_squared_error(y_test, y_predCAT)), 3))\n",
    "print('R2 score: ', round(r2_score(y_test, y_predCAT), 3))"
   ]
  },
  {
   "cell_type": "code",
   "execution_count": 83,
   "id": "d1672d75",
   "metadata": {},
   "outputs": [
    {
     "name": "stdout",
     "output_type": "stream",
     "text": [
      "Model Performance\n",
      "Accuracy = 80.43%.\n",
      "Model Performance\n",
      "Accuracy = 74.52%.\n"
     ]
    },
    {
     "data": {
      "text/plain": [
       "74.5155697396617"
      ]
     },
     "execution_count": 83,
     "metadata": {},
     "output_type": "execute_result"
    }
   ],
   "source": [
    "evaluate(cat_reg, X_train_scaled, y_train)\n",
    "evaluate(cat_reg, X_test_scaled, y_test)"
   ]
  },
  {
   "cell_type": "code",
   "execution_count": 87,
   "id": "e7011764",
   "metadata": {},
   "outputs": [
    {
     "name": "stdout",
     "output_type": "stream",
     "text": [
      "manufacturer = 580\n",
      "model = 941\n",
      "year = 491\n",
      "location = 106\n",
      "mileage = 617\n",
      "transmission = 29\n",
      "fuel_type = 27\n",
      "grade = 120\n",
      "car_condition = 89\n"
     ]
    },
    {
     "data": {
      "image/png": "[encoded data removed]",
      "text/plain": [
       "<Figure size 1440x504 with 1 Axes>"
      ]
     },
     "metadata": {
      "needs_background": "light"
     },
     "output_type": "display_data"
    }
   ],
   "source": [
    "n_c = []\n",
    "imp_c = []\n",
    "for name, importance in zip(df_model.columns[:-1], lgbm.feature_importances_):\n",
    "    print(name, \"=\", importance)\n",
    "    n_c.append(name)\n",
    "    imp_c.append(importance)\n",
    "\n",
    "plt.figure(figsize=(20,7))  \n",
    "plt.bar(n_c, imp_c)\n",
    "plt.show()"
   ]
  },
  {
   "cell_type": "markdown",
   "id": "3f371443",
   "metadata": {},
   "source": [
    "From the observations of all the models that have been trained, the LGBM Regressor performed the best with R2 score of 0.729"
   ]
  },
  {
   "cell_type": "markdown",
   "id": "5fbe27ce",
   "metadata": {},
   "source": [
    "From the feature importance plot, we can see that the fuel_type and transmission feature have the least effect/importance on the models price prediction so we would drop those features and retrain all the models"
   ]
  },
  {
   "cell_type": "markdown",
   "id": "f4cd68da",
   "metadata": {},
   "source": [
    "### Modelling With Feature Selection (Removed Fuel and Transmission Features)"
   ]
  },
  {
   "cell_type": "code",
   "execution_count": 90,
   "id": "efa2e5b7",
   "metadata": {},
   "outputs": [],
   "source": [
    "df_nmodel = df[['manufacturer','model','year','location','mileage','grade','car_condition','price']]"
   ]
  },
  {
   "cell_type": "code",
   "execution_count": 91,
   "id": "d97a889f",
   "metadata": {},
   "outputs": [
    {
     "name": "stdout",
     "output_type": "stream",
     "text": [
      "<class 'pandas.core.frame.DataFrame'>\n",
      "RangeIndex: 3146 entries, 0 to 3145\n",
      "Data columns (total 8 columns):\n",
      " #   Column         Non-Null Count  Dtype\n",
      "---  ------         --------------  -----\n",
      " 0   manufacturer   3146 non-null   int32\n",
      " 1   model          3146 non-null   int32\n",
      " 2   year           3146 non-null   int64\n",
      " 3   location       3146 non-null   int32\n",
      " 4   mileage        3146 non-null   int64\n",
      " 5   grade          3146 non-null   int32\n",
      " 6   car_condition  3146 non-null   int32\n",
      " 7   price          3146 non-null   int64\n",
      "dtypes: int32(5), int64(3)\n",
      "memory usage: 135.3 KB\n"
     ]
    }
   ],
   "source": [
    "df_nmodel.info()"
   ]
  },
  {
   "cell_type": "code",
   "execution_count": 93,
   "id": "b350f59e",
   "metadata": {},
   "outputs": [],
   "source": [
    "# selecting features, X\n",
    "X = df_nmodel.iloc[:, :-1].values\n",
    "# selecting labels, y\n",
    "y = df_nmodel.iloc[:, -1].values"
   ]
  },
  {
   "cell_type": "code",
   "execution_count": 94,
   "id": "422da2fe",
   "metadata": {},
   "outputs": [
    {
     "name": "stdout",
     "output_type": "stream",
     "text": [
      "Train set:  (2516, 7) (2516,)\n",
      "Test set:  (630, 7) (630,)\n"
     ]
    }
   ],
   "source": [
    "# split into train and test\n",
    "X_train, X_test, y_train, y_test = train_test_split(X, y, test_size=0.2, random_state=42)\n",
    "print('Train set: ', X_train.shape, y_train.shape)\n",
    "print('Test set: ', X_test.shape, y_test.shape)"
   ]
  },
  {
   "cell_type": "code",
   "execution_count": 97,
   "id": "804c6746",
   "metadata": {},
   "outputs": [],
   "source": [
    "# define scaler\n",
    "scaler_std = StandardScaler()\n",
    "scaler_minmax = MinMaxScaler()\n",
    "# fit scaler on the training dataset\n",
    "scaler_std.fit(X_train)\n",
    "# save the scaler\n",
    "pickle.dump(scaler_std, open('./Scaler/standard_scaler_2.pkl', 'wb'))\n",
    "# transform the training dataset\n",
    "X_train_scaled = scaler_std.transform(X_train)\n",
    "# transform the test dataset\n",
    "X_test_scaled = scaler_std.transform(X_test)"
   ]
  },
  {
   "cell_type": "code",
   "execution_count": 98,
   "id": "5076d2a3",
   "metadata": {},
   "outputs": [],
   "source": [
    "def evaluate(model, test_features, test_labels, set_type):\n",
    "    predictions = model.predict(test_features)\n",
    "    errors = abs(predictions - test_labels)\n",
    "    mape = 100 * np.mean(errors / test_labels)\n",
    "    accuracy = 100 - mape\n",
    "    if set_type == 'train':\n",
    "        print('Model Train Performance')\n",
    "    else:\n",
    "        print('Model Test Performance')\n",
    "    print('Accuracy = {:0.2f}%.'.format(accuracy))"
   ]
  },
  {
   "cell_type": "markdown",
   "id": "24d74e00",
   "metadata": {},
   "source": [
    "#### Linear Regression"
   ]
  },
  {
   "cell_type": "code",
   "execution_count": 99,
   "id": "2de80628",
   "metadata": {},
   "outputs": [
    {
     "data": {
      "text/plain": [
       "LinearRegression()"
      ]
     },
     "execution_count": 99,
     "metadata": {},
     "output_type": "execute_result"
    }
   ],
   "source": [
    "# to create the linear reg model\n",
    "lin_reg = LinearRegression()\n",
    "# fit the model to train set\n",
    "lin_reg.fit(X_train_scaled, y_train)  "
   ]
  },
  {
   "cell_type": "code",
   "execution_count": 100,
   "id": "c9383508",
   "metadata": {},
   "outputs": [],
   "source": [
    "# to evaluate test set values\n",
    "y_pred = lin_reg.predict(X_test_scaled)"
   ]
  },
  {
   "cell_type": "code",
   "execution_count": 101,
   "id": "ba86b1d5",
   "metadata": {},
   "outputs": [
    {
     "name": "stdout",
     "output_type": "stream",
     "text": [
      "Mean Absolute Error:  912496.47\n",
      "Mean Squared Error:  1485900031760.905\n",
      "Root Mean Squared Error:  1218974.992\n",
      "R2 score:  0.51\n"
     ]
    }
   ],
   "source": [
    "print('Mean Absolute Error: ', round(metrics.mean_absolute_error(y_test, y_pred), 3))\n",
    "print('Mean Squared Error: ', round(metrics.mean_squared_error(y_test, y_pred), 3))\n",
    "print('Root Mean Squared Error: ', round(np.sqrt(metrics.mean_squared_error(y_test, y_pred)), 3))\n",
    "print('R2 score: ', round(r2_score(y_test, y_pred), 3))"
   ]
  },
  {
   "cell_type": "code",
   "execution_count": 102,
   "id": "a80a281e",
   "metadata": {},
   "outputs": [
    {
     "name": "stdout",
     "output_type": "stream",
     "text": [
      "Model Train Performance\n",
      "Accuracy = 57.88%.\n",
      "Model Test Performance\n",
      "Accuracy = 58.79%.\n"
     ]
    }
   ],
   "source": [
    "evaluate(lin_reg, X_train_scaled, y_train, 'train')\n",
    "evaluate(lin_reg, X_test_scaled, y_test, 'test')"
   ]
  },
  {
   "cell_type": "markdown",
   "id": "21508c3a",
   "metadata": {},
   "source": [
    "#### Polynomial Regression"
   ]
  },
  {
   "cell_type": "code",
   "execution_count": 103,
   "id": "b55dce24",
   "metadata": {},
   "outputs": [],
   "source": [
    "# Polynomial transformation of degree 2\n",
    "poly_features = PolynomialFeatures(degree = 2)\n",
    "# Returns a transformed version of X with new features\n",
    "poly_features.fit(X_train_scaled)\n",
    "X_train_scaled_poly = poly_features.transform(X_train_scaled)\n",
    "# save the scaler\n",
    "pickle.dump(poly_features, open('poly_feature.pkl', 'wb'))\n",
    "# transform test\n",
    "X_test_scaled_poly = poly_features.transform(X_test_scaled)"
   ]
  },
  {
   "cell_type": "code",
   "execution_count": 104,
   "id": "060d1564",
   "metadata": {},
   "outputs": [
    {
     "name": "stderr",
     "output_type": "stream",
     "text": [
      "[Parallel(n_jobs=1)]: Using backend SequentialBackend with 1 concurrent workers.\n"
     ]
    },
    {
     "name": "stdout",
     "output_type": "stream",
     "text": [
      "[CV] END .................................................... total time=   0.5s\n",
      "[CV] END .................................................... total time=   0.0s\n",
      "[CV] END .................................................... total time=   0.0s\n",
      "[CV] END .................................................... total time=   0.0s\n",
      "[CV] END .................................................... total time=   0.0s\n"
     ]
    },
    {
     "name": "stderr",
     "output_type": "stream",
     "text": [
      "[Parallel(n_jobs=1)]: Done   1 out of   1 | elapsed:    0.5s remaining:    0.0s\n",
      "[Parallel(n_jobs=1)]: Done   5 out of   5 | elapsed:    0.5s finished\n"
     ]
    },
    {
     "data": {
      "text/plain": [
       "array([0.47110542, 0.51977778, 0.5653314 , 0.53999515, 0.52385089])"
      ]
     },
     "execution_count": 104,
     "metadata": {},
     "output_type": "execute_result"
    }
   ],
   "source": [
    "poly_reg = LinearRegression()\n",
    "poly_reg_score = cross_val_score(poly_reg, X_train_scaled_poly, y_train, verbose = 2)\n",
    "poly_reg_score"
   ]
  },
  {
   "cell_type": "code",
   "execution_count": 105,
   "id": "43ddafe1",
   "metadata": {},
   "outputs": [
    {
     "data": {
      "text/plain": [
       "0.5281805228077735"
      ]
     },
     "execution_count": 105,
     "metadata": {},
     "output_type": "execute_result"
    }
   ],
   "source": [
    "poly_reg.fit(X_train_scaled_poly, y_train)\n",
    "y_pred_poly = poly_reg.predict(X_test_scaled_poly)\n",
    "poly_reg.score(X_test_scaled_poly, y_test)"
   ]
  },
  {
   "cell_type": "code",
   "execution_count": 106,
   "id": "d7295413",
   "metadata": {},
   "outputs": [
    {
     "name": "stdout",
     "output_type": "stream",
     "text": [
      "Mean Absolute Error:  861082.832\n",
      "Mean Squared Error:  1431893555006.311\n",
      "Root Mean Squared Error:  1196617.548\n",
      "R2 score:  0.528\n"
     ]
    }
   ],
   "source": [
    "print('Mean Absolute Error: ', round(metrics.mean_absolute_error(y_test, y_pred_poly), 3))\n",
    "print('Mean Squared Error: ', round(metrics.mean_squared_error(y_test, y_pred_poly), 3))\n",
    "print('Root Mean Squared Error: ', round(np.sqrt(metrics.mean_squared_error(y_test, y_pred_poly)), 3))\n",
    "print('R2 score: ', round(r2_score(y_test, y_pred_poly), 3))"
   ]
  },
  {
   "cell_type": "markdown",
   "id": "c94acad0",
   "metadata": {},
   "source": [
    "#### Decision Trees"
   ]
  },
  {
   "cell_type": "code",
   "execution_count": 107,
   "id": "e50cd981",
   "metadata": {},
   "outputs": [
    {
     "data": {
      "text/plain": [
       "DecisionTreeRegressor(random_state=42)"
      ]
     },
     "execution_count": 107,
     "metadata": {},
     "output_type": "execute_result"
    }
   ],
   "source": [
    "dec_tree = DecisionTreeRegressor(random_state=42)\n",
    "dec_tree.fit(X_train_scaled, y_train.ravel())"
   ]
  },
  {
   "cell_type": "code",
   "execution_count": 108,
   "id": "7499a9a4",
   "metadata": {},
   "outputs": [],
   "source": [
    "y_predDT = dec_tree.predict(X_test_scaled)"
   ]
  },
  {
   "cell_type": "code",
   "execution_count": 109,
   "id": "f138c4c6",
   "metadata": {},
   "outputs": [
    {
     "name": "stdout",
     "output_type": "stream",
     "text": [
      "Mean Absolute Error:  812415.392\n",
      "Mean Squared Error:  1501652014628.5\n",
      "Root Mean Squared Error:  1225419.118\n",
      "R2 score:  0.505\n"
     ]
    }
   ],
   "source": [
    "print('Mean Absolute Error: ', round(metrics.mean_absolute_error(y_test, y_predDT), 3))\n",
    "print('Mean Squared Error: ', round(metrics.mean_squared_error(y_test, y_predDT), 3))\n",
    "print('Root Mean Squared Error: ', round(np.sqrt(metrics.mean_squared_error(y_test, y_predDT)), 3))\n",
    "print('R2 score: ', round(r2_score(y_test, y_predDT), 3))"
   ]
  },
  {
   "cell_type": "code",
   "execution_count": 110,
   "id": "8b663e5f",
   "metadata": {},
   "outputs": [
    {
     "name": "stdout",
     "output_type": "stream",
     "text": [
      "Model Train Performance\n",
      "Accuracy = 99.97%.\n",
      "Model Test Performance\n",
      "Accuracy = 68.14%.\n"
     ]
    }
   ],
   "source": [
    "evaluate(dec_tree, X_train_scaled, y_train, 'train')\n",
    "evaluate(dec_tree, X_test_scaled, y_test, 'test')"
   ]
  },
  {
   "cell_type": "code",
   "execution_count": 111,
   "id": "117239eb",
   "metadata": {},
   "outputs": [
    {
     "name": "stdout",
     "output_type": "stream",
     "text": [
      "Fitting 5 folds for each of 100 candidates, totalling 500 fits\n",
      "\n",
      "========================================================\n",
      " Results from Randomized Search \n",
      "========================================================\n",
      "\n",
      " The best estimator across ALL searched params:\n",
      " DecisionTreeRegressor(max_depth=25, max_features='auto', min_samples_leaf=6,\n",
      "                      min_samples_split=20)\n",
      "\n",
      " The best score across ALL searched params:\n",
      " 0.5674836872695961\n",
      "\n",
      " The best parameters across ALL searched params:\n",
      " {'min_samples_split': 20, 'min_samples_leaf': 6, 'max_features': 'auto', 'max_depth': 25}\n"
     ]
    }
   ],
   "source": [
    "param_grid = {'max_features': ['auto', 'sqrt'],\n",
    "              'max_depth': np.arange(5, 36, 5),\n",
    "              'min_samples_split': [5, 10, 20, 40],\n",
    "              'min_samples_leaf': [2, 6, 12, 24],\n",
    "             }\n",
    "tree_reg = RandomizedSearchCV(estimator = DecisionTreeRegressor(), param_distributions = param_grid, n_iter = 100, verbose = 2, n_jobs = -1)\n",
    "tree_reg.fit(X_train_scaled, y_train)\n",
    "\n",
    "# Results from Randomized Search\n",
    "print(\"\\n========================================================\")\n",
    "print(\" Results from Randomized Search \" )\n",
    "print(\"========================================================\")    \n",
    "    \n",
    "print(\"\\n The best estimator across ALL searched params:\\n\",\n",
    "          tree_reg.best_estimator_)\n",
    "    \n",
    "print(\"\\n The best score across ALL searched params:\\n\",\n",
    "          tree_reg.best_score_)\n",
    "    \n",
    "print(\"\\n The best parameters across ALL searched params:\\n\",\n",
    "          tree_reg.best_params_)"
   ]
  },
  {
   "cell_type": "code",
   "execution_count": 112,
   "id": "14a156d2",
   "metadata": {},
   "outputs": [
    {
     "data": {
      "text/plain": [
       "DecisionTreeRegressor(max_depth=25, max_features='auto', min_samples_leaf=6,\n",
       "                      min_samples_split=20, random_state=42)"
      ]
     },
     "execution_count": 112,
     "metadata": {},
     "output_type": "execute_result"
    }
   ],
   "source": [
    "new_dec_tree = DecisionTreeRegressor(min_samples_split=20, min_samples_leaf=6, max_features='auto', max_depth=25, random_state=42)\n",
    "new_dec_tree.fit(X_train_scaled, y_train)"
   ]
  },
  {
   "cell_type": "code",
   "execution_count": 113,
   "id": "f16c8674",
   "metadata": {},
   "outputs": [
    {
     "name": "stdout",
     "output_type": "stream",
     "text": [
      "Mean Absolute Error:  719120.181\n",
      "Mean Squared Error:  1053490774506.392\n",
      "Root Mean Squared Error:  1026396.987\n",
      "R2 score:  0.653\n"
     ]
    }
   ],
   "source": [
    "y_predDT = new_dec_tree.predict(X_test_scaled)\n",
    "print('Mean Absolute Error: ', round(metrics.mean_absolute_error(y_test, y_predDT), 3))\n",
    "print('Mean Squared Error: ', round(metrics.mean_squared_error(y_test, y_predDT), 3))\n",
    "print('Root Mean Squared Error: ', round(np.sqrt(metrics.mean_squared_error(y_test, y_predDT)), 3))\n",
    "print('R2 score: ', round(r2_score(y_test, y_predDT), 3))"
   ]
  },
  {
   "cell_type": "code",
   "execution_count": 114,
   "id": "f8d2284b",
   "metadata": {},
   "outputs": [
    {
     "name": "stdout",
     "output_type": "stream",
     "text": [
      "Model Train Performance\n",
      "Accuracy = 76.76%.\n",
      "Model Test Performance\n",
      "Accuracy = 69.85%.\n"
     ]
    }
   ],
   "source": [
    "evaluate(new_dec_tree, X_train_scaled, y_train, 'train')\n",
    "evaluate(new_dec_tree, X_test_scaled, y_test, 'test')"
   ]
  },
  {
   "cell_type": "markdown",
   "id": "a9f1b056",
   "metadata": {},
   "source": [
    "#### Random Forest Regressor"
   ]
  },
  {
   "cell_type": "code",
   "execution_count": 115,
   "id": "8a9e59b4",
   "metadata": {},
   "outputs": [
    {
     "data": {
      "text/plain": [
       "RandomForestRegressor(n_estimators=800, random_state=42)"
      ]
     },
     "execution_count": 115,
     "metadata": {},
     "output_type": "execute_result"
    }
   ],
   "source": [
    "rfr = RandomForestRegressor(random_state=42, n_estimators=800)\n",
    "rfr.fit(X_train_scaled, y_train.ravel())"
   ]
  },
  {
   "cell_type": "code",
   "execution_count": 116,
   "id": "af3788c9",
   "metadata": {},
   "outputs": [],
   "source": [
    "y_predRF = rfr.predict(X_test_scaled)"
   ]
  },
  {
   "cell_type": "code",
   "execution_count": 117,
   "id": "84e55567",
   "metadata": {},
   "outputs": [
    {
     "name": "stdout",
     "output_type": "stream",
     "text": [
      "Mean Absolute Error:  654988.204\n",
      "Mean Squared Error:  887834725223.689\n",
      "Root Mean Squared Error:  942249.821\n",
      "R2 score:  0.707\n"
     ]
    }
   ],
   "source": [
    "print('Mean Absolute Error: ', round(metrics.mean_absolute_error(y_test, y_predRF), 3))\n",
    "print('Mean Squared Error: ', round(metrics.mean_squared_error(y_test, y_predRF), 3))\n",
    "print('Root Mean Squared Error: ', round(np.sqrt(metrics.mean_squared_error(y_test, y_predRF)), 3))\n",
    "print('R2 score: ', round(r2_score(y_test, y_predRF), 3))"
   ]
  },
  {
   "cell_type": "code",
   "execution_count": 118,
   "id": "4f08bea1",
   "metadata": {},
   "outputs": [
    {
     "name": "stdout",
     "output_type": "stream",
     "text": [
      "Model Train Performance\n",
      "Accuracy = 89.69%.\n",
      "Model Test Performance\n",
      "Accuracy = 72.91%.\n"
     ]
    }
   ],
   "source": [
    "evaluate(rfr, X_train_scaled, y_train, 'train')\n",
    "evaluate(rfr, X_test_scaled, y_test, 'test')"
   ]
  },
  {
   "cell_type": "code",
   "execution_count": 119,
   "id": "06f61141",
   "metadata": {},
   "outputs": [],
   "source": [
    "# save the rf boost model\n",
    "pickle.dump(rfr, open('random_forest_model.pkl', 'wb'))"
   ]
  },
  {
   "cell_type": "code",
   "execution_count": 120,
   "id": "fa89c694",
   "metadata": {},
   "outputs": [
    {
     "name": "stdout",
     "output_type": "stream",
     "text": [
      "\n",
      "========================================================\n",
      " Results from Grid Search \n",
      "========================================================\n",
      "\n",
      " The best estimator across ALL searched params:\n",
      " RandomForestRegressor(max_features=None, n_estimators=50)\n",
      "\n",
      " The best score across ALL searched params:\n",
      " 0.667426695837227\n",
      "\n",
      " The best parameters across ALL searched params:\n",
      " {'max_features': None, 'min_samples_leaf': 1, 'min_samples_split': 2, 'n_estimators': 50}\n"
     ]
    }
   ],
   "source": [
    "# to find the best parameters for random forest\n",
    "\n",
    "model = RandomForestRegressor()\n",
    "n_estimators = [10, 50, 100, 250, 400, 1000]\n",
    "min_samples_split = [2, 3, 5, 7, 9]\n",
    "min_samples_leaf = [1, 2, 4, 6, 8]\n",
    "max_features = ['auto', 'sqrt', 'log2', None]\n",
    "\n",
    "parameters = {'n_estimators': n_estimators,\n",
    "              'min_samples_leaf': min_samples_leaf,\n",
    "              'min_samples_split': min_samples_split,\n",
    "              'max_features': max_features}\n",
    "\n",
    "grid = GridSearchCV(model, parameters, cv = 2, n_jobs=-1)\n",
    "gs = grid.fit(X_train_scaled, y_train)    \n",
    "\n",
    "# Results from Grid Search\n",
    "print(\"\\n========================================================\")\n",
    "print(\" Results from Grid Search \" )\n",
    "print(\"========================================================\")    \n",
    "    \n",
    "print(\"\\n The best estimator across ALL searched params:\\n\",\n",
    "          gs.best_estimator_)\n",
    "    \n",
    "print(\"\\n The best score across ALL searched params:\\n\",\n",
    "          gs.best_score_)\n",
    "    \n",
    "print(\"\\n The best parameters across ALL searched params:\\n\",\n",
    "          gs.best_params_)"
   ]
  },
  {
   "cell_type": "code",
   "execution_count": 121,
   "id": "65919de2",
   "metadata": {},
   "outputs": [
    {
     "data": {
      "text/plain": [
       "RandomForestRegressor(n_estimators=900, random_state=42)"
      ]
     },
     "execution_count": 121,
     "metadata": {},
     "output_type": "execute_result"
    }
   ],
   "source": [
    "# using best parameters from grid search\n",
    "rfr1 = RandomForestRegressor(random_state=42, n_estimators=900, min_samples_split=2)\n",
    "rfr1.fit(X_train_scaled, y_train.ravel())"
   ]
  },
  {
   "cell_type": "code",
   "execution_count": 122,
   "id": "c0c6a9ff",
   "metadata": {},
   "outputs": [],
   "source": [
    "y_predRF = rfr1.predict(X_test_scaled)"
   ]
  },
  {
   "cell_type": "code",
   "execution_count": 123,
   "id": "068a90d2",
   "metadata": {},
   "outputs": [
    {
     "name": "stdout",
     "output_type": "stream",
     "text": [
      "Mean Absolute Error:  656216.541\n",
      "Mean Squared Error:  890128709981.951\n",
      "Root Mean Squared Error:  943466.327\n",
      "R2 score:  0.707\n"
     ]
    }
   ],
   "source": [
    "print('Mean Absolute Error: ', round(metrics.mean_absolute_error(y_test, y_predRF), 3))\n",
    "print('Mean Squared Error: ', round(metrics.mean_squared_error(y_test, y_predRF), 3))\n",
    "print('Root Mean Squared Error: ', round(np.sqrt(metrics.mean_squared_error(y_test, y_predRF)), 3))\n",
    "print('R2 score: ', round(r2_score(y_test, y_predRF), 3))"
   ]
  },
  {
   "cell_type": "code",
   "execution_count": 124,
   "id": "ebb6f0c5",
   "metadata": {},
   "outputs": [
    {
     "name": "stdout",
     "output_type": "stream",
     "text": [
      "Model Train Performance\n",
      "Accuracy = 89.68%.\n",
      "Model Test Performance\n",
      "Accuracy = 72.87%.\n"
     ]
    }
   ],
   "source": [
    "evaluate(rfr1, X_train_scaled, y_train, 'train')\n",
    "evaluate(rfr1, X_test_scaled, y_test, 'test')"
   ]
  },
  {
   "cell_type": "code",
   "execution_count": 125,
   "id": "a83218f1",
   "metadata": {},
   "outputs": [
    {
     "name": "stdout",
     "output_type": "stream",
     "text": [
      "Fitting 2 folds for each of 100 candidates, totalling 200 fits\n",
      "\n",
      "========================================================\n",
      " Results from Grid Search \n",
      "========================================================\n",
      "\n",
      " The best estimator across ALL searched params:\n",
      " RandomForestRegressor(max_depth=60, n_estimators=1200)\n",
      "\n",
      " The best score across ALL searched params:\n",
      " 0.6650910136145093\n",
      "\n",
      " The best parameters across ALL searched params:\n",
      " {'n_estimators': 1200, 'min_samples_split': 2, 'min_samples_leaf': 1, 'max_features': 'auto', 'max_depth': 60, 'bootstrap': True}\n"
     ]
    }
   ],
   "source": [
    "from sklearn.model_selection import RandomizedSearchCV\n",
    "\n",
    "n_estimators = [int(x) for x in np.linspace(start = 200, stop = 2000, num = 10)]\n",
    "max_features = ['auto', 'sqrt']\n",
    "max_depth = [int(x) for x in np.linspace(10, 110, num = 11)]\n",
    "max_depth.append(None)\n",
    "min_samples_split = [2, 5, 10, 20, 40]\n",
    "min_samples_leaf = [1, 2, 4, 6, 12, 24]\n",
    "bootstrap = [True, False]\n",
    "\n",
    "# Create the random grid\n",
    "random_grid = {'n_estimators': n_estimators,\n",
    "               'max_features': max_features,\n",
    "               'max_depth': max_depth,\n",
    "               'min_samples_split': min_samples_split,\n",
    "               'min_samples_leaf': min_samples_leaf,\n",
    "               'bootstrap': bootstrap}\n",
    "\n",
    "# Use the random grid to search for best hyperparameters\n",
    "# First create the base model to tune\n",
    "rf = RandomForestRegressor()\n",
    "# Random search of parameters, using 2 fold cross validation, \n",
    "# search across 100 different combinations\n",
    "rf_random = RandomizedSearchCV(estimator = rf, param_distributions = random_grid, n_iter = 100, cv = 2, verbose=2, random_state=42, n_jobs = -1)\n",
    "# Fit the random search model\n",
    "rf_random.fit(X_train_scaled, y_train)\n",
    "\n",
    "# Results from Randomized Search\n",
    "print(\"\\n========================================================\")\n",
    "print(\" Results from Grid Search \" )\n",
    "print(\"========================================================\")    \n",
    "    \n",
    "print(\"\\n The best estimator across ALL searched params:\\n\",\n",
    "          rf_random.best_estimator_)\n",
    "    \n",
    "print(\"\\n The best score across ALL searched params:\\n\",\n",
    "          rf_random.best_score_)\n",
    "    \n",
    "print(\"\\n The best parameters across ALL searched params:\\n\",\n",
    "          rf_random.best_params_)"
   ]
  },
  {
   "cell_type": "code",
   "execution_count": 126,
   "id": "7260a629",
   "metadata": {},
   "outputs": [
    {
     "data": {
      "text/plain": [
       "RandomForestRegressor(max_depth=60, n_estimators=1200, random_state=42)"
      ]
     },
     "execution_count": 126,
     "metadata": {},
     "output_type": "execute_result"
    }
   ],
   "source": [
    "# using best parameters from randomized search\n",
    "rfr2 = RandomForestRegressor(random_state=42, n_estimators=1200, min_samples_split=2, min_samples_leaf=1, max_depth=60)\n",
    "rfr2.fit(X_train_scaled, y_train.ravel())"
   ]
  },
  {
   "cell_type": "code",
   "execution_count": 127,
   "id": "e6f6789c",
   "metadata": {},
   "outputs": [],
   "source": [
    "y_predRF = rfr2.predict(X_test_scaled)"
   ]
  },
  {
   "cell_type": "code",
   "execution_count": 128,
   "id": "0541aa44",
   "metadata": {},
   "outputs": [
    {
     "name": "stdout",
     "output_type": "stream",
     "text": [
      "Mean Absolute Error:  655591.37\n",
      "Mean Squared Error:  889594727472.58\n",
      "Root Mean Squared Error:  943183.295\n",
      "R2 score:  0.707\n"
     ]
    }
   ],
   "source": [
    "print('Mean Absolute Error: ', round(metrics.mean_absolute_error(y_test, y_predRF), 3))\n",
    "print('Mean Squared Error: ', round(metrics.mean_squared_error(y_test, y_predRF), 3))\n",
    "print('Root Mean Squared Error: ', round(np.sqrt(metrics.mean_squared_error(y_test, y_predRF)), 3))\n",
    "print('R2 score: ', round(r2_score(y_test, y_predRF), 3))"
   ]
  },
  {
   "cell_type": "code",
   "execution_count": 129,
   "id": "42f06869",
   "metadata": {},
   "outputs": [
    {
     "name": "stdout",
     "output_type": "stream",
     "text": [
      "Model Train Performance\n",
      "Accuracy = 89.68%.\n",
      "Model Test Performance\n",
      "Accuracy = 72.88%.\n"
     ]
    }
   ],
   "source": [
    "evaluate(rfr2, X_train_scaled, y_train, 'train')\n",
    "evaluate(rfr2, X_test_scaled, y_test, 'test')"
   ]
  },
  {
   "cell_type": "markdown",
   "id": "81a74b58",
   "metadata": {},
   "source": [
    "#### Extra Trees Regressor"
   ]
  },
  {
   "cell_type": "code",
   "execution_count": 130,
   "id": "605bcc27",
   "metadata": {},
   "outputs": [
    {
     "data": {
      "text/plain": [
       "ExtraTreesRegressor(n_estimators=800, random_state=42)"
      ]
     },
     "execution_count": 130,
     "metadata": {},
     "output_type": "execute_result"
    }
   ],
   "source": [
    "et = ExtraTreesRegressor(n_estimators=800, random_state=42)\n",
    "et.fit(X_train_scaled, y_train.ravel())"
   ]
  },
  {
   "cell_type": "code",
   "execution_count": 131,
   "id": "b03e1201",
   "metadata": {},
   "outputs": [],
   "source": [
    "y_predET = et.predict(X_test_scaled)"
   ]
  },
  {
   "cell_type": "code",
   "execution_count": 132,
   "id": "6cb03b4b",
   "metadata": {},
   "outputs": [
    {
     "name": "stdout",
     "output_type": "stream",
     "text": [
      "Mean Absolute Error:  741258.565\n",
      "Mean Squared Error:  1149789575935.2\n",
      "Root Mean Squared Error:  1072282.414\n",
      "R2 score:  0.621\n"
     ]
    }
   ],
   "source": [
    "print('Mean Absolute Error: ', round(metrics.mean_absolute_error(y_test, y_predET), 3))\n",
    "print('Mean Squared Error: ', round(metrics.mean_squared_error(y_test, y_predET), 3))\n",
    "print('Root Mean Squared Error: ', round(np.sqrt(metrics.mean_squared_error(y_test, y_predET)), 3))\n",
    "print('R2 score: ', round(r2_score(y_test, y_predET), 3))"
   ]
  },
  {
   "cell_type": "code",
   "execution_count": 133,
   "id": "099db430",
   "metadata": {},
   "outputs": [
    {
     "name": "stdout",
     "output_type": "stream",
     "text": [
      "Model Train Performance\n",
      "Accuracy = 99.96%.\n",
      "Model Test Performance\n",
      "Accuracy = 68.82%.\n"
     ]
    }
   ],
   "source": [
    "evaluate(et, X_train_scaled, y_train, 'train')\n",
    "evaluate(et, X_test_scaled, y_test, 'test')"
   ]
  },
  {
   "cell_type": "markdown",
   "id": "f54a4a20",
   "metadata": {},
   "source": [
    "#### ADA BOOST REGRESSOR"
   ]
  },
  {
   "cell_type": "code",
   "execution_count": 134,
   "id": "406c4440",
   "metadata": {},
   "outputs": [
    {
     "data": {
      "text/plain": [
       "AdaBoostRegressor(base_estimator=DecisionTreeRegressor(), learning_rate=1.5,\n",
       "                  n_estimators=800, random_state=42)"
      ]
     },
     "execution_count": 134,
     "metadata": {},
     "output_type": "execute_result"
    }
   ],
   "source": [
    "ada = AdaBoostRegressor(DecisionTreeRegressor(), n_estimators=800, learning_rate=1.5, random_state=42)\n",
    "ada.fit(X_train_scaled, y_train.ravel())"
   ]
  },
  {
   "cell_type": "code",
   "execution_count": 135,
   "id": "65b6dbfc",
   "metadata": {},
   "outputs": [],
   "source": [
    "y_predADA = ada.predict(X_test_scaled)"
   ]
  },
  {
   "cell_type": "code",
   "execution_count": 136,
   "id": "10e1d764",
   "metadata": {},
   "outputs": [
    {
     "name": "stdout",
     "output_type": "stream",
     "text": [
      "Mean Absolute Error:  653860.711\n",
      "Mean Squared Error:  940508803312.257\n",
      "Root Mean Squared Error:  969798.331\n",
      "R2 score:  0.69\n"
     ]
    }
   ],
   "source": [
    "print('Mean Absolute Error: ', round(metrics.mean_absolute_error(y_test, y_predADA), 3))\n",
    "print('Mean Squared Error: ', round(metrics.mean_squared_error(y_test, y_predADA), 3))\n",
    "print('Root Mean Squared Error: ', round(np.sqrt(metrics.mean_squared_error(y_test, y_predADA)), 3))\n",
    "print('R2 score: ', round(r2_score(y_test, y_predADA), 3))"
   ]
  },
  {
   "cell_type": "code",
   "execution_count": 137,
   "id": "3713286e",
   "metadata": {},
   "outputs": [
    {
     "name": "stdout",
     "output_type": "stream",
     "text": [
      "Model Train Performance\n",
      "Accuracy = 94.07%.\n",
      "Model Test Performance\n",
      "Accuracy = 73.51%.\n"
     ]
    }
   ],
   "source": [
    "evaluate(ada, X_train_scaled, y_train, 'train')\n",
    "evaluate(ada, X_test_scaled, y_test, 'test')"
   ]
  },
  {
   "cell_type": "code",
   "execution_count": 138,
   "id": "a4566cc8",
   "metadata": {},
   "outputs": [],
   "source": [
    "# save the rf boost model\n",
    "pickle.dump(ada, open('adaboost_model.pkl', 'wb'))"
   ]
  },
  {
   "cell_type": "markdown",
   "id": "e5082335",
   "metadata": {},
   "source": [
    "#### XGBRegressor"
   ]
  },
  {
   "cell_type": "code",
   "execution_count": 139,
   "id": "d0438064",
   "metadata": {},
   "outputs": [
    {
     "data": {
      "text/plain": [
       "XGBRegressor(base_score=0.5, booster='gbtree', colsample_bylevel=1,\n",
       "             colsample_bynode=1, colsample_bytree=1, gamma=0, gpu_id=-1,\n",
       "             importance_type='gain', interaction_constraints='',\n",
       "             learning_rate=0.1, max_delta_step=0, max_depth=6,\n",
       "             min_child_weight=1, missing=nan, monotone_constraints='()',\n",
       "             n_estimators=1000, n_jobs=4, num_parallel_tree=1, random_state=42,\n",
       "             reg_alpha=0, reg_lambda=1, scale_pos_weight=1, subsample=1,\n",
       "             tree_method='exact', validate_parameters=1, verbosity=None)"
      ]
     },
     "execution_count": 139,
     "metadata": {},
     "output_type": "execute_result"
    }
   ],
   "source": [
    "xgb = XGBRegressor(n_estimators=1000, learning_rate=0.1, random_state=42)\n",
    "xgb.fit(X_train_scaled, y_train.ravel())"
   ]
  },
  {
   "cell_type": "code",
   "execution_count": 140,
   "id": "11f6dd85",
   "metadata": {},
   "outputs": [],
   "source": [
    "y_predXGB = xgb.predict(X_test_scaled)"
   ]
  },
  {
   "cell_type": "code",
   "execution_count": 141,
   "id": "b1f043c4",
   "metadata": {},
   "outputs": [
    {
     "name": "stdout",
     "output_type": "stream",
     "text": [
      "Mean Absolute Error:  653651.222\n",
      "Mean Squared Error:  870272660040.847\n",
      "Root Mean Squared Error:  932884.055\n",
      "R2 score:  0.713\n"
     ]
    }
   ],
   "source": [
    "print('Mean Absolute Error: ', round(metrics.mean_absolute_error(y_test, y_predXGB), 3))\n",
    "print('Mean Squared Error: ', round(metrics.mean_squared_error(y_test, y_predXGB), 3))\n",
    "print('Root Mean Squared Error: ', round(np.sqrt(metrics.mean_squared_error(y_test, y_predXGB)), 3))\n",
    "print('R2 score: ', round(r2_score(y_test, y_predXGB), 3))"
   ]
  },
  {
   "cell_type": "code",
   "execution_count": 142,
   "id": "57ba9835",
   "metadata": {},
   "outputs": [
    {
     "name": "stdout",
     "output_type": "stream",
     "text": [
      "Model Train Performance\n",
      "Accuracy = 97.34%.\n",
      "Model Test Performance\n",
      "Accuracy = 73.58%.\n"
     ]
    }
   ],
   "source": [
    "evaluate(xgb, X_train_scaled, y_train, 'train')\n",
    "evaluate(xgb, X_test_scaled, y_test, 'test')"
   ]
  },
  {
   "cell_type": "code",
   "execution_count": 143,
   "id": "d4868252",
   "metadata": {},
   "outputs": [],
   "source": [
    "pickle.dump(xgb, open('xgbregressor_model.pkl', 'wb'))"
   ]
  },
  {
   "cell_type": "markdown",
   "id": "563dae44",
   "metadata": {},
   "source": [
    "#### XGBFRegressor"
   ]
  },
  {
   "cell_type": "code",
   "execution_count": 144,
   "id": "b48bef3d",
   "metadata": {},
   "outputs": [
    {
     "data": {
      "text/plain": [
       "XGBRFRegressor(base_score=0.5, booster='gbtree', colsample_bylevel=1,\n",
       "               colsample_bytree=1, gamma=0, gpu_id=-1, importance_type='gain',\n",
       "               interaction_constraints='', max_delta_step=0, max_depth=6,\n",
       "               min_child_weight=1, missing=nan, monotone_constraints='()',\n",
       "               n_estimators=100, n_jobs=4, num_parallel_tree=100,\n",
       "               objective='reg:squarederror', random_state=42, reg_alpha=0,\n",
       "               scale_pos_weight=1, tree_method='exact', validate_parameters=1,\n",
       "               verbosity=None)"
      ]
     },
     "execution_count": 144,
     "metadata": {},
     "output_type": "execute_result"
    }
   ],
   "source": [
    "xgbrf = XGBRFRegressor(n_estimators=100, random_state=42)\n",
    "xgbrf.fit(X_train_scaled, y_train.ravel())"
   ]
  },
  {
   "cell_type": "code",
   "execution_count": 145,
   "id": "a3e2afab",
   "metadata": {},
   "outputs": [],
   "source": [
    "y_predXGBRF = xgbrf.predict(X_test_scaled)"
   ]
  },
  {
   "cell_type": "code",
   "execution_count": 146,
   "id": "2212d660",
   "metadata": {},
   "outputs": [
    {
     "name": "stdout",
     "output_type": "stream",
     "text": [
      "Mean Absolute Error:  792288.987\n",
      "Mean Squared Error:  1197458430178.462\n",
      "Root Mean Squared Error:  1094284.438\n",
      "R2 score:  0.605\n"
     ]
    }
   ],
   "source": [
    "print('Mean Absolute Error: ', round(metrics.mean_absolute_error(y_test, y_predXGBRF), 3))\n",
    "print('Mean Squared Error: ', round(metrics.mean_squared_error(y_test, y_predXGBRF), 3))\n",
    "print('Root Mean Squared Error: ', round(np.sqrt(metrics.mean_squared_error(y_test, y_predXGBRF)), 3))\n",
    "print('R2 score: ', round(r2_score(y_test, y_predXGBRF), 3))"
   ]
  },
  {
   "cell_type": "code",
   "execution_count": 147,
   "id": "169cee1f",
   "metadata": {},
   "outputs": [
    {
     "name": "stdout",
     "output_type": "stream",
     "text": [
      "Model Train Performance\n",
      "Accuracy = 68.07%.\n",
      "Model Test Performance\n",
      "Accuracy = 65.86%.\n"
     ]
    }
   ],
   "source": [
    "evaluate(xgbrf, X_train_scaled, y_train, 'train')\n",
    "evaluate(xgbrf, X_test_scaled, y_test, 'test')"
   ]
  },
  {
   "cell_type": "markdown",
   "id": "cb4b874f",
   "metadata": {},
   "source": [
    "#### LGBMRegressor"
   ]
  },
  {
   "cell_type": "code",
   "execution_count": 148,
   "id": "2bb0ee43",
   "metadata": {},
   "outputs": [
    {
     "data": {
      "text/plain": [
       "LGBMRegressor(n_estimators=200, random_state=42)"
      ]
     },
     "execution_count": 148,
     "metadata": {},
     "output_type": "execute_result"
    }
   ],
   "source": [
    "lgbm = LGBMRegressor(n_estimators=200, random_state=42)\n",
    "lgbm.fit(X_train_scaled, y_train.ravel())"
   ]
  },
  {
   "cell_type": "code",
   "execution_count": 149,
   "id": "5adac70b",
   "metadata": {},
   "outputs": [],
   "source": [
    "y_predLGBM = lgbm.predict(X_test_scaled)"
   ]
  },
  {
   "cell_type": "code",
   "execution_count": 150,
   "id": "1517bc9e",
   "metadata": {},
   "outputs": [
    {
     "name": "stdout",
     "output_type": "stream",
     "text": [
      "Mean Absolute Error:  636800.048\n",
      "Mean Squared Error:  860335536106.956\n",
      "Root Mean Squared Error:  927542.741\n",
      "R2 score:  0.717\n"
     ]
    }
   ],
   "source": [
    "print('Mean Absolute Error: ', round(metrics.mean_absolute_error(y_test, y_predLGBM), 3))\n",
    "print('Mean Squared Error: ', round(metrics.mean_squared_error(y_test, y_predLGBM), 3))\n",
    "print('Root Mean Squared Error: ', round(np.sqrt(metrics.mean_squared_error(y_test, y_predLGBM)), 3))\n",
    "print('R2 score: ', round(r2_score(y_test, y_predLGBM), 3))"
   ]
  },
  {
   "cell_type": "code",
   "execution_count": 151,
   "id": "159380bb",
   "metadata": {},
   "outputs": [
    {
     "name": "stdout",
     "output_type": "stream",
     "text": [
      "Model Train Performance\n",
      "Accuracy = 85.04%.\n",
      "Model Test Performance\n",
      "Accuracy = 74.57%.\n"
     ]
    }
   ],
   "source": [
    "evaluate(lgbm, X_train_scaled, y_train, 'train')\n",
    "evaluate(lgbm, X_test_scaled, y_test, 'test')"
   ]
  },
  {
   "cell_type": "code",
   "execution_count": 152,
   "id": "46eeb028",
   "metadata": {},
   "outputs": [],
   "source": [
    "# save the lgbm regressor model\n",
    "pickle.dump(lgbm, open('lgbmregressor_model.pkl', 'wb'))"
   ]
  },
  {
   "cell_type": "markdown",
   "id": "9152951d",
   "metadata": {},
   "source": [
    "#### CATBOOST Regressor"
   ]
  },
  {
   "cell_type": "code",
   "execution_count": 153,
   "id": "528e46d5",
   "metadata": {},
   "outputs": [
    {
     "name": "stderr",
     "output_type": "stream",
     "text": [
      "C:\\ProgramData\\Anaconda3\\lib\\site-packages\\sklearn\\model_selection\\_search.py:918: UserWarning: One or more of the test scores are non-finite: [0.19153398 0.49550699 0.59939913 0.68908085 0.64707243 0.2787374\n",
      " 0.57361816 0.64850206 0.69597236 0.64138615 0.41846242 0.64369653\n",
      " 0.69006359 0.69178279 0.61458948 0.18736917 0.48925184 0.60048412\n",
      " 0.66980684 0.62071326 0.2758165  0.57421041 0.64577826 0.66913204\n",
      " 0.6095812  0.41951815 0.64355547 0.68387674 0.66486855 0.6077423\n",
      " 0.18304988 0.49248027 0.58606339 0.63756993 0.54710036 0.26739018\n",
      " 0.56328946 0.63099055 0.63783438 0.54849207 0.40749677 0.63270655\n",
      " 0.66947824 0.63522309 0.54246058 0.17407872 0.46729744 0.57092069\n",
      " 0.62421853 0.54656124 0.25733349 0.55309329 0.61486874 0.62496948\n",
      " 0.54638543 0.39029928 0.61636449 0.64405827 0.62139779 0.54542497\n",
      " 0.17094974 0.45631108 0.55665239 0.57141042 0.55288616 0.25323513\n",
      " 0.53166097 0.59279077 0.57290466 0.55064496 0.37827446 0.59481345\n",
      " 0.62334394 0.57234624 0.54992055 0.16455192 0.44463338 0.54032625\n",
      " 0.55867476 0.53588557 0.23804066 0.51107803 0.57785855 0.55753802\n",
      " 0.53632468 0.36626452 0.57824874 0.59364587 0.55713069 0.53686247\n",
      "        nan        nan        nan        nan        nan        nan\n",
      "        nan        nan        nan        nan        nan        nan\n",
      "        nan        nan        nan        nan        nan        nan\n",
      "        nan        nan        nan        nan        nan        nan\n",
      "        nan        nan        nan        nan        nan        nan]\n",
      "  warnings.warn(\n"
     ]
    },
    {
     "name": "stdout",
     "output_type": "stream",
     "text": [
      "0:\tlearn: 1338194.3677608\ttotal: 50.9ms\tremaining: 2.49s\n",
      "1:\tlearn: 1174942.8041928\ttotal: 58.8ms\tremaining: 1.41s\n",
      "2:\tlearn: 1079650.1218823\ttotal: 68.4ms\tremaining: 1.07s\n",
      "3:\tlearn: 1045891.4621794\ttotal: 76.9ms\tremaining: 885ms\n",
      "4:\tlearn: 1025919.8211937\ttotal: 84.7ms\tremaining: 762ms\n",
      "5:\tlearn: 979887.1343012\ttotal: 99ms\tremaining: 726ms\n",
      "6:\tlearn: 963050.4435542\ttotal: 110ms\tremaining: 678ms\n",
      "7:\tlearn: 939213.0156444\ttotal: 118ms\tremaining: 619ms\n",
      "8:\tlearn: 902392.9723177\ttotal: 128ms\tremaining: 582ms\n",
      "9:\tlearn: 895094.3488261\ttotal: 135ms\tremaining: 539ms\n",
      "10:\tlearn: 884606.9715113\ttotal: 145ms\tremaining: 514ms\n",
      "11:\tlearn: 866603.4990452\ttotal: 153ms\tremaining: 485ms\n",
      "12:\tlearn: 855524.8314101\ttotal: 161ms\tremaining: 459ms\n",
      "13:\tlearn: 847059.5781645\ttotal: 170ms\tremaining: 437ms\n",
      "14:\tlearn: 839935.7759534\ttotal: 177ms\tremaining: 414ms\n",
      "15:\tlearn: 824442.8889954\ttotal: 190ms\tremaining: 403ms\n",
      "16:\tlearn: 814728.5797181\ttotal: 201ms\tremaining: 391ms\n",
      "17:\tlearn: 810374.8667802\ttotal: 206ms\tremaining: 366ms\n",
      "18:\tlearn: 806159.1222087\ttotal: 216ms\tremaining: 352ms\n",
      "19:\tlearn: 795770.8760356\ttotal: 228ms\tremaining: 342ms\n",
      "20:\tlearn: 785707.9114495\ttotal: 234ms\tremaining: 323ms\n",
      "21:\tlearn: 779591.7010585\ttotal: 248ms\tremaining: 316ms\n",
      "22:\tlearn: 774878.1429524\ttotal: 262ms\tremaining: 307ms\n",
      "23:\tlearn: 766438.1914886\ttotal: 271ms\tremaining: 294ms\n",
      "24:\tlearn: 755849.8806074\ttotal: 285ms\tremaining: 285ms\n",
      "25:\tlearn: 748602.2042228\ttotal: 293ms\tremaining: 271ms\n",
      "26:\tlearn: 741641.1777586\ttotal: 304ms\tremaining: 259ms\n",
      "27:\tlearn: 737315.6565386\ttotal: 315ms\tremaining: 248ms\n",
      "28:\tlearn: 733856.2420766\ttotal: 325ms\tremaining: 235ms\n",
      "29:\tlearn: 731349.9682405\ttotal: 334ms\tremaining: 223ms\n",
      "30:\tlearn: 723531.3000737\ttotal: 342ms\tremaining: 210ms\n",
      "31:\tlearn: 718049.1594571\ttotal: 350ms\tremaining: 197ms\n",
      "32:\tlearn: 710631.5070604\ttotal: 357ms\tremaining: 184ms\n",
      "33:\tlearn: 705365.5528122\ttotal: 368ms\tremaining: 173ms\n",
      "34:\tlearn: 701571.6626942\ttotal: 378ms\tremaining: 162ms\n",
      "35:\tlearn: 688623.8959907\ttotal: 384ms\tremaining: 150ms\n",
      "36:\tlearn: 681726.7478893\ttotal: 394ms\tremaining: 138ms\n",
      "37:\tlearn: 677137.1640969\ttotal: 407ms\tremaining: 128ms\n",
      "38:\tlearn: 670917.5872382\ttotal: 416ms\tremaining: 117ms\n",
      "39:\tlearn: 666226.8930443\ttotal: 431ms\tremaining: 108ms\n",
      "40:\tlearn: 663487.0682228\ttotal: 440ms\tremaining: 96.6ms\n",
      "41:\tlearn: 660244.1836372\ttotal: 454ms\tremaining: 86.5ms\n",
      "42:\tlearn: 656450.2626185\ttotal: 462ms\tremaining: 75.2ms\n",
      "43:\tlearn: 654181.1605217\ttotal: 473ms\tremaining: 64.5ms\n",
      "44:\tlearn: 650099.0109367\ttotal: 487ms\tremaining: 54.1ms\n",
      "45:\tlearn: 645376.8466718\ttotal: 495ms\tremaining: 43.1ms\n",
      "46:\tlearn: 643077.0825842\ttotal: 502ms\tremaining: 32ms\n",
      "47:\tlearn: 641472.9803720\ttotal: 512ms\tremaining: 21.3ms\n",
      "48:\tlearn: 636705.4881921\ttotal: 519ms\tremaining: 10.6ms\n",
      "49:\tlearn: 634652.2903985\ttotal: 529ms\tremaining: 0us\n",
      "\n",
      "========================================================\n",
      " Results from Grid Search \n",
      "========================================================\n",
      "\n",
      " The best estimator across ALL searched params:\n",
      " <catboost.core.CatBoostRegressor object at 0x000001A198A7D3A0>\n",
      "\n",
      " The best score across ALL searched params:\n",
      " 0.6959723626772822\n",
      "\n",
      " The best parameters across ALL searched params:\n",
      " {'depth': 6, 'iterations': 50, 'learning_rate': 0.5}\n"
     ]
    }
   ],
   "source": [
    "# to find the best parameters for catboost\n",
    "from sklearn.model_selection import GridSearchCV\n",
    "model = CatBoostRegressor()\n",
    "parameters = {'depth'         : [6,8,10,12,14,16,18,20],\n",
    "              'learning_rate' : [0.01, 0.05, 0.1, 0.5, 1],\n",
    "              'iterations'    : [30, 50, 100]\n",
    "              }\n",
    "grid = GridSearchCV(model, parameters, cv = 2, n_jobs=-1)\n",
    "gs = grid.fit(X_train_scaled, y_train)    \n",
    "\n",
    "# Results from Grid Search\n",
    "print(\"\\n========================================================\")\n",
    "print(\" Results from Grid Search \" )\n",
    "print(\"========================================================\")    \n",
    "    \n",
    "print(\"\\n The best estimator across ALL searched params:\\n\",\n",
    "          gs.best_estimator_)\n",
    "    \n",
    "print(\"\\n The best score across ALL searched params:\\n\",\n",
    "          gs.best_score_)\n",
    "    \n",
    "print(\"\\n The best parameters across ALL searched params:\\n\",\n",
    "          gs.best_params_)"
   ]
  },
  {
   "cell_type": "code",
   "execution_count": 154,
   "id": "864dd3f1",
   "metadata": {},
   "outputs": [
    {
     "name": "stdout",
     "output_type": "stream",
     "text": [
      "0:\tlearn: 1513625.3719565\ttotal: 4.98ms\tremaining: 1.49s\n",
      "1:\tlearn: 1421465.8761435\ttotal: 9.66ms\tremaining: 1.44s\n",
      "2:\tlearn: 1350806.2164364\ttotal: 12.2ms\tremaining: 1.21s\n",
      "3:\tlearn: 1277491.7886851\ttotal: 17.7ms\tremaining: 1.31s\n",
      "4:\tlearn: 1231972.8832912\ttotal: 22.1ms\tremaining: 1.3s\n",
      "5:\tlearn: 1192886.7546181\ttotal: 26.3ms\tremaining: 1.29s\n",
      "6:\tlearn: 1166495.2207601\ttotal: 31.3ms\tremaining: 1.31s\n",
      "7:\tlearn: 1116639.1208686\ttotal: 35.5ms\tremaining: 1.29s\n",
      "8:\tlearn: 1099737.7216675\ttotal: 39.9ms\tremaining: 1.29s\n",
      "9:\tlearn: 1085259.0846763\ttotal: 45.6ms\tremaining: 1.32s\n",
      "10:\tlearn: 1062706.2028074\ttotal: 50.1ms\tremaining: 1.32s\n",
      "11:\tlearn: 1044460.2669624\ttotal: 54.9ms\tremaining: 1.32s\n",
      "12:\tlearn: 1036361.7270697\ttotal: 60.5ms\tremaining: 1.33s\n",
      "13:\tlearn: 999972.4415480\ttotal: 65.6ms\tremaining: 1.34s\n",
      "14:\tlearn: 989519.5103327\ttotal: 69.7ms\tremaining: 1.32s\n",
      "15:\tlearn: 983863.5542537\ttotal: 73.1ms\tremaining: 1.3s\n",
      "16:\tlearn: 967319.3492751\ttotal: 78.6ms\tremaining: 1.31s\n",
      "17:\tlearn: 959778.4251549\ttotal: 83.1ms\tremaining: 1.3s\n",
      "18:\tlearn: 949285.9043500\ttotal: 87.4ms\tremaining: 1.29s\n",
      "19:\tlearn: 940430.4432707\ttotal: 93.2ms\tremaining: 1.3s\n",
      "20:\tlearn: 930948.4533438\ttotal: 97.9ms\tremaining: 1.3s\n",
      "21:\tlearn: 922690.5510534\ttotal: 103ms\tremaining: 1.3s\n",
      "22:\tlearn: 918399.5147122\ttotal: 108ms\tremaining: 1.3s\n",
      "23:\tlearn: 911494.2975211\ttotal: 112ms\tremaining: 1.29s\n",
      "24:\tlearn: 904819.3167271\ttotal: 118ms\tremaining: 1.29s\n",
      "25:\tlearn: 900416.8899016\ttotal: 123ms\tremaining: 1.29s\n",
      "26:\tlearn: 898511.3184220\ttotal: 127ms\tremaining: 1.29s\n",
      "27:\tlearn: 895818.7557994\ttotal: 132ms\tremaining: 1.28s\n",
      "28:\tlearn: 893172.0368080\ttotal: 136ms\tremaining: 1.27s\n",
      "29:\tlearn: 888246.0148475\ttotal: 141ms\tremaining: 1.27s\n",
      "30:\tlearn: 878271.9531788\ttotal: 146ms\tremaining: 1.27s\n",
      "31:\tlearn: 875322.5774007\ttotal: 151ms\tremaining: 1.27s\n",
      "32:\tlearn: 870657.8406710\ttotal: 156ms\tremaining: 1.26s\n",
      "33:\tlearn: 867623.2185953\ttotal: 160ms\tremaining: 1.25s\n",
      "34:\tlearn: 862226.0473573\ttotal: 164ms\tremaining: 1.24s\n",
      "35:\tlearn: 858194.7098525\ttotal: 170ms\tremaining: 1.25s\n",
      "36:\tlearn: 857609.0499527\ttotal: 174ms\tremaining: 1.24s\n",
      "37:\tlearn: 853184.7085204\ttotal: 185ms\tremaining: 1.28s\n",
      "38:\tlearn: 849653.3622302\ttotal: 195ms\tremaining: 1.3s\n",
      "39:\tlearn: 844098.4838260\ttotal: 203ms\tremaining: 1.32s\n",
      "40:\tlearn: 835740.0873228\ttotal: 207ms\tremaining: 1.31s\n",
      "41:\tlearn: 830545.2937505\ttotal: 211ms\tremaining: 1.29s\n",
      "42:\tlearn: 827308.4623095\ttotal: 217ms\tremaining: 1.3s\n",
      "43:\tlearn: 823486.8184366\ttotal: 221ms\tremaining: 1.28s\n",
      "44:\tlearn: 820367.3842213\ttotal: 231ms\tremaining: 1.31s\n",
      "45:\tlearn: 816940.0265062\ttotal: 236ms\tremaining: 1.3s\n",
      "46:\tlearn: 811764.0557912\ttotal: 241ms\tremaining: 1.29s\n",
      "47:\tlearn: 805494.3128104\ttotal: 247ms\tremaining: 1.3s\n",
      "48:\tlearn: 800627.1579122\ttotal: 252ms\tremaining: 1.29s\n",
      "49:\tlearn: 798066.4242291\ttotal: 256ms\tremaining: 1.28s\n",
      "50:\tlearn: 795986.3664181\ttotal: 262ms\tremaining: 1.28s\n",
      "51:\tlearn: 791767.9390564\ttotal: 267ms\tremaining: 1.27s\n",
      "52:\tlearn: 789417.5953229\ttotal: 271ms\tremaining: 1.26s\n",
      "53:\tlearn: 786217.7321700\ttotal: 279ms\tremaining: 1.27s\n",
      "54:\tlearn: 784112.7154139\ttotal: 283ms\tremaining: 1.26s\n",
      "55:\tlearn: 781443.0560320\ttotal: 303ms\tremaining: 1.32s\n",
      "56:\tlearn: 777847.4523767\ttotal: 309ms\tremaining: 1.31s\n",
      "57:\tlearn: 772141.3483693\ttotal: 312ms\tremaining: 1.3s\n",
      "58:\tlearn: 770212.7669403\ttotal: 317ms\tremaining: 1.29s\n",
      "59:\tlearn: 763921.3294314\ttotal: 322ms\tremaining: 1.29s\n",
      "60:\tlearn: 762878.2383821\ttotal: 327ms\tremaining: 1.28s\n",
      "61:\tlearn: 760660.1003205\ttotal: 331ms\tremaining: 1.27s\n",
      "62:\tlearn: 757218.4148643\ttotal: 335ms\tremaining: 1.26s\n",
      "63:\tlearn: 754503.3467188\ttotal: 340ms\tremaining: 1.25s\n",
      "64:\tlearn: 753642.0806278\ttotal: 345ms\tremaining: 1.25s\n",
      "65:\tlearn: 749602.8869242\ttotal: 350ms\tremaining: 1.24s\n",
      "66:\tlearn: 747529.4775100\ttotal: 356ms\tremaining: 1.24s\n",
      "67:\tlearn: 744266.4772995\ttotal: 361ms\tremaining: 1.23s\n",
      "68:\tlearn: 742720.1103491\ttotal: 369ms\tremaining: 1.23s\n",
      "69:\tlearn: 739733.7995260\ttotal: 375ms\tremaining: 1.23s\n",
      "70:\tlearn: 737304.6785449\ttotal: 381ms\tremaining: 1.23s\n",
      "71:\tlearn: 735451.7545138\ttotal: 386ms\tremaining: 1.22s\n",
      "72:\tlearn: 733327.6511927\ttotal: 391ms\tremaining: 1.22s\n",
      "73:\tlearn: 726983.7460758\ttotal: 396ms\tremaining: 1.21s\n",
      "74:\tlearn: 725201.9700718\ttotal: 403ms\tremaining: 1.21s\n",
      "75:\tlearn: 721548.8493891\ttotal: 408ms\tremaining: 1.2s\n",
      "76:\tlearn: 719025.9436441\ttotal: 412ms\tremaining: 1.19s\n",
      "77:\tlearn: 716212.8740297\ttotal: 416ms\tremaining: 1.19s\n",
      "78:\tlearn: 713927.8155187\ttotal: 421ms\tremaining: 1.18s\n",
      "79:\tlearn: 711126.2163581\ttotal: 425ms\tremaining: 1.17s\n",
      "80:\tlearn: 709561.9440531\ttotal: 430ms\tremaining: 1.16s\n",
      "81:\tlearn: 706564.2886385\ttotal: 434ms\tremaining: 1.15s\n",
      "82:\tlearn: 704518.8962318\ttotal: 439ms\tremaining: 1.15s\n",
      "83:\tlearn: 702073.4897649\ttotal: 444ms\tremaining: 1.14s\n",
      "84:\tlearn: 700077.0656407\ttotal: 448ms\tremaining: 1.13s\n",
      "85:\tlearn: 697547.6701846\ttotal: 452ms\tremaining: 1.13s\n",
      "86:\tlearn: 693126.7140587\ttotal: 458ms\tremaining: 1.12s\n",
      "87:\tlearn: 691360.9098616\ttotal: 463ms\tremaining: 1.11s\n",
      "88:\tlearn: 688540.1366278\ttotal: 467ms\tremaining: 1.11s\n",
      "89:\tlearn: 687788.3728939\ttotal: 471ms\tremaining: 1.1s\n",
      "90:\tlearn: 685932.2239205\ttotal: 477ms\tremaining: 1.09s\n",
      "91:\tlearn: 683983.9264919\ttotal: 481ms\tremaining: 1.09s\n",
      "92:\tlearn: 681697.3518465\ttotal: 485ms\tremaining: 1.08s\n",
      "93:\tlearn: 679182.0567862\ttotal: 491ms\tremaining: 1.07s\n",
      "94:\tlearn: 677565.3056248\ttotal: 494ms\tremaining: 1.07s\n",
      "95:\tlearn: 675451.8335299\ttotal: 500ms\tremaining: 1.06s\n",
      "96:\tlearn: 674334.0562750\ttotal: 504ms\tremaining: 1.05s\n",
      "97:\tlearn: 672664.2927692\ttotal: 508ms\tremaining: 1.05s\n",
      "98:\tlearn: 671077.7531038\ttotal: 513ms\tremaining: 1.04s\n",
      "99:\tlearn: 669787.0493027\ttotal: 518ms\tremaining: 1.04s\n",
      "100:\tlearn: 667348.9224984\ttotal: 523ms\tremaining: 1.03s\n",
      "101:\tlearn: 664662.9670370\ttotal: 528ms\tremaining: 1.02s\n",
      "102:\tlearn: 663701.4387224\ttotal: 532ms\tremaining: 1.02s\n",
      "103:\tlearn: 663188.8310629\ttotal: 538ms\tremaining: 1.01s\n",
      "104:\tlearn: 661370.5393739\ttotal: 543ms\tremaining: 1.01s\n",
      "105:\tlearn: 659863.5820441\ttotal: 550ms\tremaining: 1.01s\n",
      "106:\tlearn: 658826.4690287\ttotal: 556ms\tremaining: 1s\n",
      "107:\tlearn: 656772.1685184\ttotal: 560ms\tremaining: 995ms\n",
      "108:\tlearn: 655393.6190056\ttotal: 565ms\tremaining: 990ms\n",
      "109:\tlearn: 653194.9323153\ttotal: 568ms\tremaining: 982ms\n",
      "110:\tlearn: 652618.0422624\ttotal: 574ms\tremaining: 978ms\n",
      "111:\tlearn: 651966.1734341\ttotal: 579ms\tremaining: 972ms\n",
      "112:\tlearn: 650049.0829712\ttotal: 584ms\tremaining: 966ms\n",
      "113:\tlearn: 649500.0450598\ttotal: 589ms\tremaining: 961ms\n",
      "114:\tlearn: 648210.6121664\ttotal: 594ms\tremaining: 956ms\n",
      "115:\tlearn: 646430.0121854\ttotal: 599ms\tremaining: 950ms\n",
      "116:\tlearn: 645366.0592102\ttotal: 604ms\tremaining: 944ms\n",
      "117:\tlearn: 644213.7975482\ttotal: 609ms\tremaining: 939ms\n",
      "118:\tlearn: 642389.1607745\ttotal: 613ms\tremaining: 933ms\n",
      "119:\tlearn: 639948.7192297\ttotal: 617ms\tremaining: 926ms\n",
      "120:\tlearn: 638348.5497479\ttotal: 622ms\tremaining: 920ms\n",
      "121:\tlearn: 636355.2503665\ttotal: 627ms\tremaining: 914ms\n",
      "122:\tlearn: 635194.7256762\ttotal: 631ms\tremaining: 908ms\n",
      "123:\tlearn: 634175.7638613\ttotal: 636ms\tremaining: 902ms\n",
      "124:\tlearn: 631496.9656340\ttotal: 641ms\tremaining: 897ms\n",
      "125:\tlearn: 629892.6009136\ttotal: 645ms\tremaining: 890ms\n",
      "126:\tlearn: 628986.1412222\ttotal: 649ms\tremaining: 884ms\n",
      "127:\tlearn: 627690.0737581\ttotal: 654ms\tremaining: 879ms\n",
      "128:\tlearn: 625909.9934349\ttotal: 659ms\tremaining: 874ms\n",
      "129:\tlearn: 624724.6475255\ttotal: 664ms\tremaining: 868ms\n",
      "130:\tlearn: 622906.5993878\ttotal: 669ms\tremaining: 863ms\n",
      "131:\tlearn: 621406.8085636\ttotal: 674ms\tremaining: 858ms\n",
      "132:\tlearn: 620956.1518194\ttotal: 678ms\tremaining: 852ms\n",
      "133:\tlearn: 620170.8039993\ttotal: 683ms\tremaining: 846ms\n",
      "134:\tlearn: 617665.5098004\ttotal: 688ms\tremaining: 841ms\n",
      "135:\tlearn: 615906.3264671\ttotal: 693ms\tremaining: 836ms\n",
      "136:\tlearn: 614559.3153473\ttotal: 697ms\tremaining: 830ms\n",
      "137:\tlearn: 613735.3081114\ttotal: 703ms\tremaining: 825ms\n",
      "138:\tlearn: 611953.5205332\ttotal: 709ms\tremaining: 821ms\n",
      "139:\tlearn: 610147.6266696\ttotal: 714ms\tremaining: 816ms\n",
      "140:\tlearn: 609720.6784774\ttotal: 719ms\tremaining: 811ms\n",
      "141:\tlearn: 608580.0969124\ttotal: 724ms\tremaining: 805ms\n",
      "142:\tlearn: 607341.6987651\ttotal: 729ms\tremaining: 801ms\n",
      "143:\tlearn: 606376.8900247\ttotal: 734ms\tremaining: 795ms\n",
      "144:\tlearn: 606033.4291709\ttotal: 737ms\tremaining: 788ms\n",
      "145:\tlearn: 605378.4827981\ttotal: 743ms\tremaining: 783ms\n",
      "146:\tlearn: 604085.0645182\ttotal: 750ms\tremaining: 780ms\n",
      "147:\tlearn: 602920.0360114\ttotal: 755ms\tremaining: 775ms\n",
      "148:\tlearn: 600726.3620483\ttotal: 762ms\tremaining: 772ms\n",
      "149:\tlearn: 598284.2865493\ttotal: 765ms\tremaining: 765ms\n",
      "150:\tlearn: 597241.5262684\ttotal: 770ms\tremaining: 760ms\n",
      "151:\tlearn: 596243.2633640\ttotal: 777ms\tremaining: 757ms\n",
      "152:\tlearn: 595298.5305490\ttotal: 782ms\tremaining: 751ms\n",
      "153:\tlearn: 593174.8412941\ttotal: 787ms\tremaining: 746ms\n",
      "154:\tlearn: 591894.6205250\ttotal: 793ms\tremaining: 742ms\n",
      "155:\tlearn: 591024.2994702\ttotal: 798ms\tremaining: 737ms\n",
      "156:\tlearn: 590214.1758866\ttotal: 803ms\tremaining: 731ms\n",
      "157:\tlearn: 589184.4304265\ttotal: 809ms\tremaining: 727ms\n",
      "158:\tlearn: 588326.8912417\ttotal: 815ms\tremaining: 723ms\n",
      "159:\tlearn: 586876.1787624\ttotal: 820ms\tremaining: 718ms\n",
      "160:\tlearn: 586183.2746535\ttotal: 825ms\tremaining: 712ms\n",
      "161:\tlearn: 584956.2434567\ttotal: 829ms\tremaining: 706ms\n",
      "162:\tlearn: 584357.4170603\ttotal: 834ms\tremaining: 701ms\n",
      "163:\tlearn: 582872.4711048\ttotal: 843ms\tremaining: 699ms\n",
      "164:\tlearn: 582083.7881681\ttotal: 857ms\tremaining: 701ms\n",
      "165:\tlearn: 579718.2104056\ttotal: 871ms\tremaining: 703ms\n"
     ]
    },
    {
     "name": "stdout",
     "output_type": "stream",
     "text": [
      "166:\tlearn: 578834.7080058\ttotal: 891ms\tremaining: 709ms\n",
      "167:\tlearn: 578063.4655338\ttotal: 913ms\tremaining: 718ms\n",
      "168:\tlearn: 577004.3241274\ttotal: 935ms\tremaining: 725ms\n",
      "169:\tlearn: 576318.3316122\ttotal: 954ms\tremaining: 730ms\n",
      "170:\tlearn: 574850.3664242\ttotal: 988ms\tremaining: 745ms\n",
      "171:\tlearn: 573065.1082147\ttotal: 1s\tremaining: 748ms\n",
      "172:\tlearn: 572012.5961735\ttotal: 1.02s\tremaining: 753ms\n",
      "173:\tlearn: 570857.9310017\ttotal: 1.04s\tremaining: 756ms\n",
      "174:\tlearn: 570210.0571768\ttotal: 1.08s\tremaining: 770ms\n",
      "175:\tlearn: 569156.2791945\ttotal: 1.13s\tremaining: 800ms\n",
      "176:\tlearn: 568485.1402372\ttotal: 1.15s\tremaining: 801ms\n",
      "177:\tlearn: 566335.1151907\ttotal: 1.19s\tremaining: 817ms\n",
      "178:\tlearn: 565412.8215506\ttotal: 1.21s\tremaining: 820ms\n",
      "179:\tlearn: 564397.7790406\ttotal: 1.23s\tremaining: 820ms\n",
      "180:\tlearn: 562887.4091271\ttotal: 1.25s\tremaining: 824ms\n",
      "181:\tlearn: 561800.2596610\ttotal: 1.28s\tremaining: 829ms\n",
      "182:\tlearn: 560484.5143344\ttotal: 1.3s\tremaining: 832ms\n",
      "183:\tlearn: 559382.7141686\ttotal: 1.32s\tremaining: 831ms\n",
      "184:\tlearn: 558865.1336825\ttotal: 1.35s\tremaining: 837ms\n",
      "185:\tlearn: 558019.6864374\ttotal: 1.37s\tremaining: 841ms\n",
      "186:\tlearn: 557583.5382869\ttotal: 1.39s\tremaining: 838ms\n",
      "187:\tlearn: 556067.4532419\ttotal: 1.4s\tremaining: 835ms\n",
      "188:\tlearn: 555253.6690800\ttotal: 1.41s\tremaining: 831ms\n",
      "189:\tlearn: 554437.9771879\ttotal: 1.43s\tremaining: 826ms\n",
      "190:\tlearn: 553943.2000636\ttotal: 1.44s\tremaining: 823ms\n",
      "191:\tlearn: 553392.2973578\ttotal: 1.46s\tremaining: 821ms\n",
      "192:\tlearn: 552553.8812413\ttotal: 1.48s\tremaining: 821ms\n",
      "193:\tlearn: 551905.8044683\ttotal: 1.5s\tremaining: 818ms\n",
      "194:\tlearn: 550326.8014550\ttotal: 1.51s\tremaining: 814ms\n",
      "195:\tlearn: 548387.9136862\ttotal: 1.53s\tremaining: 813ms\n",
      "196:\tlearn: 547643.5731947\ttotal: 1.55s\tremaining: 809ms\n",
      "197:\tlearn: 546228.2206038\ttotal: 1.56s\tremaining: 805ms\n",
      "198:\tlearn: 544858.9208820\ttotal: 1.58s\tremaining: 800ms\n",
      "199:\tlearn: 544340.6540165\ttotal: 1.59s\tremaining: 795ms\n",
      "200:\tlearn: 543699.1035998\ttotal: 1.61s\tremaining: 792ms\n",
      "201:\tlearn: 542635.8188843\ttotal: 1.62s\tremaining: 787ms\n",
      "202:\tlearn: 541754.8743394\ttotal: 1.63s\tremaining: 781ms\n",
      "203:\tlearn: 541189.4355098\ttotal: 1.65s\tremaining: 775ms\n",
      "204:\tlearn: 540514.2221252\ttotal: 1.66s\tremaining: 771ms\n",
      "205:\tlearn: 539945.5406344\ttotal: 1.68s\tremaining: 767ms\n",
      "206:\tlearn: 538588.0817612\ttotal: 1.71s\tremaining: 767ms\n",
      "207:\tlearn: 537720.1938966\ttotal: 1.72s\tremaining: 761ms\n",
      "208:\tlearn: 536733.0415683\ttotal: 1.75s\tremaining: 760ms\n",
      "209:\tlearn: 535896.2020783\ttotal: 1.76s\tremaining: 755ms\n",
      "210:\tlearn: 534982.1889086\ttotal: 1.78s\tremaining: 750ms\n",
      "211:\tlearn: 534399.8753271\ttotal: 1.79s\tremaining: 743ms\n",
      "212:\tlearn: 533812.4702705\ttotal: 1.8s\tremaining: 736ms\n",
      "213:\tlearn: 531551.7906375\ttotal: 1.81s\tremaining: 729ms\n",
      "214:\tlearn: 530821.2105329\ttotal: 1.83s\tremaining: 723ms\n",
      "215:\tlearn: 530081.4469967\ttotal: 1.84s\tremaining: 717ms\n",
      "216:\tlearn: 529704.4615303\ttotal: 1.86s\tremaining: 710ms\n",
      "217:\tlearn: 529336.8325598\ttotal: 1.88s\tremaining: 706ms\n",
      "218:\tlearn: 529023.2896111\ttotal: 1.89s\tremaining: 699ms\n",
      "219:\tlearn: 528722.0398104\ttotal: 1.9s\tremaining: 691ms\n",
      "220:\tlearn: 528135.6915790\ttotal: 1.92s\tremaining: 685ms\n",
      "221:\tlearn: 527880.8541622\ttotal: 1.94s\tremaining: 682ms\n",
      "222:\tlearn: 527095.0663900\ttotal: 1.97s\tremaining: 679ms\n",
      "223:\tlearn: 526041.6134934\ttotal: 1.99s\tremaining: 676ms\n",
      "224:\tlearn: 525453.5537819\ttotal: 2.07s\tremaining: 690ms\n",
      "225:\tlearn: 524381.8909911\ttotal: 2.12s\tremaining: 694ms\n",
      "226:\tlearn: 523429.1991084\ttotal: 2.16s\tremaining: 695ms\n",
      "227:\tlearn: 522611.4515551\ttotal: 2.18s\tremaining: 689ms\n",
      "228:\tlearn: 522199.1597575\ttotal: 2.21s\tremaining: 685ms\n",
      "229:\tlearn: 521846.0101376\ttotal: 2.23s\tremaining: 678ms\n",
      "230:\tlearn: 520525.7821305\ttotal: 2.26s\tremaining: 675ms\n",
      "231:\tlearn: 518659.3045370\ttotal: 2.28s\tremaining: 667ms\n",
      "232:\tlearn: 517909.8191059\ttotal: 2.3s\tremaining: 662ms\n",
      "233:\tlearn: 517245.5499030\ttotal: 2.32s\tremaining: 655ms\n",
      "234:\tlearn: 516757.7978824\ttotal: 2.34s\tremaining: 647ms\n",
      "235:\tlearn: 515963.4461593\ttotal: 2.36s\tremaining: 641ms\n",
      "236:\tlearn: 515385.7167564\ttotal: 2.38s\tremaining: 633ms\n",
      "237:\tlearn: 513903.4848124\ttotal: 2.39s\tremaining: 623ms\n",
      "238:\tlearn: 513176.7385116\ttotal: 2.4s\tremaining: 613ms\n",
      "239:\tlearn: 512862.4134910\ttotal: 2.41s\tremaining: 602ms\n",
      "240:\tlearn: 512244.3099575\ttotal: 2.41s\tremaining: 590ms\n",
      "241:\tlearn: 510813.7127614\ttotal: 2.42s\tremaining: 580ms\n",
      "242:\tlearn: 510239.5454371\ttotal: 2.42s\tremaining: 569ms\n",
      "243:\tlearn: 509548.0724274\ttotal: 2.43s\tremaining: 558ms\n",
      "244:\tlearn: 509134.0317716\ttotal: 2.44s\tremaining: 547ms\n",
      "245:\tlearn: 508771.1568670\ttotal: 2.44s\tremaining: 537ms\n",
      "246:\tlearn: 507636.9647349\ttotal: 2.45s\tremaining: 526ms\n",
      "247:\tlearn: 506399.2641291\ttotal: 2.46s\tremaining: 515ms\n",
      "248:\tlearn: 505841.1839985\ttotal: 2.46s\tremaining: 505ms\n",
      "249:\tlearn: 504949.5831964\ttotal: 2.48s\tremaining: 495ms\n",
      "250:\tlearn: 504372.5642857\ttotal: 2.48s\tremaining: 484ms\n",
      "251:\tlearn: 503541.1513774\ttotal: 2.49s\tremaining: 474ms\n",
      "252:\tlearn: 502300.2138097\ttotal: 2.49s\tremaining: 463ms\n",
      "253:\tlearn: 501552.6448138\ttotal: 2.5s\tremaining: 453ms\n",
      "254:\tlearn: 501042.1554180\ttotal: 2.51s\tremaining: 442ms\n",
      "255:\tlearn: 500299.8623931\ttotal: 2.51s\tremaining: 432ms\n",
      "256:\tlearn: 499825.8441941\ttotal: 2.52s\tremaining: 422ms\n",
      "257:\tlearn: 498921.6287432\ttotal: 2.53s\tremaining: 413ms\n",
      "258:\tlearn: 497947.9864525\ttotal: 2.54s\tremaining: 402ms\n",
      "259:\tlearn: 497122.7329622\ttotal: 2.55s\tremaining: 392ms\n",
      "260:\tlearn: 496589.4569956\ttotal: 2.56s\tremaining: 382ms\n",
      "261:\tlearn: 495598.0486679\ttotal: 2.56s\tremaining: 372ms\n",
      "262:\tlearn: 495096.8041655\ttotal: 2.57s\tremaining: 362ms\n",
      "263:\tlearn: 494613.9243305\ttotal: 2.58s\tremaining: 352ms\n",
      "264:\tlearn: 493836.9125959\ttotal: 2.59s\tremaining: 343ms\n",
      "265:\tlearn: 493231.7774259\ttotal: 2.61s\tremaining: 334ms\n",
      "266:\tlearn: 492921.9326346\ttotal: 2.62s\tremaining: 324ms\n",
      "267:\tlearn: 491936.3999221\ttotal: 2.63s\tremaining: 315ms\n",
      "268:\tlearn: 491005.9426152\ttotal: 2.65s\tremaining: 305ms\n",
      "269:\tlearn: 490541.9207946\ttotal: 2.66s\tremaining: 296ms\n",
      "270:\tlearn: 490077.3683981\ttotal: 2.67s\tremaining: 286ms\n",
      "271:\tlearn: 489081.6053151\ttotal: 2.68s\tremaining: 276ms\n",
      "272:\tlearn: 488004.4904548\ttotal: 2.69s\tremaining: 266ms\n",
      "273:\tlearn: 487209.5865569\ttotal: 2.7s\tremaining: 256ms\n",
      "274:\tlearn: 486438.7600445\ttotal: 2.71s\tremaining: 246ms\n",
      "275:\tlearn: 485669.6541236\ttotal: 2.71s\tremaining: 236ms\n",
      "276:\tlearn: 484890.4088039\ttotal: 2.72s\tremaining: 226ms\n",
      "277:\tlearn: 484532.1698116\ttotal: 2.73s\tremaining: 216ms\n",
      "278:\tlearn: 484123.7515985\ttotal: 2.74s\tremaining: 206ms\n",
      "279:\tlearn: 483691.0235357\ttotal: 2.74s\tremaining: 196ms\n",
      "280:\tlearn: 482714.2718141\ttotal: 2.75s\tremaining: 186ms\n",
      "281:\tlearn: 482371.3286531\ttotal: 2.76s\tremaining: 176ms\n",
      "282:\tlearn: 481824.2715113\ttotal: 2.77s\tremaining: 166ms\n",
      "283:\tlearn: 481163.0752808\ttotal: 2.78s\tremaining: 156ms\n",
      "284:\tlearn: 480685.2012839\ttotal: 2.79s\tremaining: 147ms\n",
      "285:\tlearn: 479596.2108508\ttotal: 2.8s\tremaining: 137ms\n",
      "286:\tlearn: 478384.0527519\ttotal: 2.81s\tremaining: 127ms\n",
      "287:\tlearn: 478180.9603425\ttotal: 2.81s\tremaining: 117ms\n",
      "288:\tlearn: 477499.5460642\ttotal: 2.82s\tremaining: 107ms\n",
      "289:\tlearn: 477280.4275577\ttotal: 2.83s\tremaining: 97.7ms\n",
      "290:\tlearn: 477143.4418795\ttotal: 2.84s\tremaining: 87.9ms\n",
      "291:\tlearn: 477111.7963669\ttotal: 2.85s\tremaining: 78ms\n",
      "292:\tlearn: 476031.6455014\ttotal: 2.85s\tremaining: 68.2ms\n",
      "293:\tlearn: 475432.5485679\ttotal: 2.86s\tremaining: 58.4ms\n",
      "294:\tlearn: 474500.4695064\ttotal: 2.87s\tremaining: 48.7ms\n",
      "295:\tlearn: 474476.1174431\ttotal: 2.89s\tremaining: 39ms\n",
      "296:\tlearn: 474169.2973460\ttotal: 2.89s\tremaining: 29.2ms\n",
      "297:\tlearn: 473657.2559573\ttotal: 2.9s\tremaining: 19.5ms\n",
      "298:\tlearn: 473642.0087362\ttotal: 2.91s\tremaining: 9.73ms\n",
      "299:\tlearn: 473605.1382875\ttotal: 2.92s\tremaining: 0us\n"
     ]
    },
    {
     "data": {
      "text/plain": [
       "<catboost.core.CatBoostRegressor at 0x1a198073400>"
      ]
     },
     "execution_count": 154,
     "metadata": {},
     "output_type": "execute_result"
    }
   ],
   "source": [
    "#using the best parameters gotten above\n",
    "cat_reg = CatBoostRegressor(depth=6, iterations=300, learning_rate=0.2, random_state=42)\n",
    "cat_reg.fit(X_train_scaled, y_train.ravel())"
   ]
  },
  {
   "cell_type": "code",
   "execution_count": 155,
   "id": "c5d966c4",
   "metadata": {},
   "outputs": [],
   "source": [
    "y_predCAT = cat_reg.predict(X_test_scaled)"
   ]
  },
  {
   "cell_type": "code",
   "execution_count": 156,
   "id": "5d716e8a",
   "metadata": {},
   "outputs": [
    {
     "name": "stdout",
     "output_type": "stream",
     "text": [
      "Mean Absolute Error:  633063.377\n",
      "Mean Squared Error:  882129764323.803\n",
      "Root Mean Squared Error:  939217.634\n",
      "R2 score:  0.709\n"
     ]
    }
   ],
   "source": [
    "print('Mean Absolute Error: ', round(metrics.mean_absolute_error(y_test, y_predCAT), 3))\n",
    "print('Mean Squared Error: ', round(metrics.mean_squared_error(y_test, y_predCAT), 3))\n",
    "print('Root Mean Squared Error: ', round(np.sqrt(metrics.mean_squared_error(y_test, y_predCAT)), 3))\n",
    "print('R2 score: ', round(r2_score(y_test, y_predCAT), 3))"
   ]
  },
  {
   "cell_type": "code",
   "execution_count": 157,
   "id": "a9c5a6c5",
   "metadata": {},
   "outputs": [
    {
     "name": "stdout",
     "output_type": "stream",
     "text": [
      "Model Train Performance\n",
      "Accuracy = 84.20%.\n",
      "Model Test Performance\n",
      "Accuracy = 74.13%.\n"
     ]
    }
   ],
   "source": [
    "evaluate(cat_reg, X_train_scaled, y_train, 'train')\n",
    "evaluate(cat_reg, X_test_scaled, y_test, 'test')"
   ]
  },
  {
   "cell_type": "code",
   "execution_count": 158,
   "id": "7ada9ead",
   "metadata": {},
   "outputs": [],
   "source": [
    "pickle.dump(cat_reg, open('cat_boost_model.pkl', 'wb'))"
   ]
  },
  {
   "cell_type": "code",
   "execution_count": 164,
   "id": "640f8fbf",
   "metadata": {},
   "outputs": [
    {
     "name": "stdout",
     "output_type": "stream",
     "text": [
      "manufacturer = 914\n",
      "model = 1878\n",
      "year = 1018\n",
      "location = 262\n",
      "mileage = 1612\n",
      "grade = 177\n",
      "car_condition = 139\n"
     ]
    },
    {
     "data": {
      "image/png": "[encoded data removed]",
      "text/plain": [
       "<Figure size 1440x504 with 1 Axes>"
      ]
     },
     "metadata": {
      "needs_background": "light"
     },
     "output_type": "display_data"
    }
   ],
   "source": [
    "# feature importance plot\n",
    "n_c = []\n",
    "imp_c = []\n",
    "for name, importance in zip(df_nmodel.columns[:-1], lgbm.feature_importances_):\n",
    "    print(name, \"=\", importance)\n",
    "    n_c.append(name)\n",
    "    imp_c.append(importance)\n",
    "\n",
    "plt.figure(figsize=(20,7))  \n",
    "plt.bar(n_c, imp_c)\n",
    "plt.show()"
   ]
  },
  {
   "cell_type": "markdown",
   "id": "4598fa7a",
   "metadata": {},
   "source": [
    "From the observations of all the models that have been trained using the reduced features, majority of the models performed better than when all the features were used."
   ]
  },
  {
   "cell_type": "code",
   "execution_count": 204,
   "id": "cffa8b03",
   "metadata": {},
   "outputs": [],
   "source": [
    "# predicting a car price\n",
    "man = 'TOYOTA'\n",
    "mod = 'HIGHLANDER'\n",
    "yr= 2002\n",
    "loc = 'Lagos'\n",
    "mileage = 175000\n",
    "grade = 'C'\n",
    "car_cond = 'NIGERIAN Used'\n",
    "\n",
    "\n",
    "# manufacturer\n",
    "if man != '' and man != ' ':\n",
    "    man_enco = pickle.load(open('./Encoders/manufacturer_encoder.pk1', 'rb'))\n",
    "    man_not_encoded =  np.array(man.lower()).ravel()\n",
    "    man_encoded = man_enco.transform(man_not_encoded)[0]\n",
    "else:\n",
    "    man_encoded = np.nan\n",
    "    \n",
    "# model\n",
    "if mod != '' and mod != ' ':\n",
    "    mod_enco = pickle.load(open('./Encoders/model_encoder.pk1', 'rb'))\n",
    "    mod_not_encoded =  np.array(mod.lower()).ravel()\n",
    "    mod_encoded = mod_enco.transform(mod_not_encoded)[0]\n",
    "else:\n",
    "    mod_encoded = np.nan\n",
    "    \n",
    "# YEAR\n",
    "if yr != '' and yr != ' ':\n",
    "    yr = yr\n",
    "else:\n",
    "    yr = np.nan\n",
    "\n",
    "# location\n",
    "if loc != '' and loc != ' ':\n",
    "    loc_enco = pickle.load(open('./Encoders/location_encoder.pk1', 'rb'))\n",
    "    loc_not_encoded =  np.array(loc.lower()).ravel()\n",
    "    loc_encoded = loc_enco.transform(loc_not_encoded)[0]\n",
    "else:\n",
    "    loc_encoded = np.nan\n",
    "\n",
    "# mileage\n",
    "if mileage != '' and mileage != ' ':\n",
    "    mileage = mileage\n",
    "else:\n",
    "    mileage = np.nan\n",
    "\n",
    "# grade\n",
    "if grade != '' and grade != ' ':\n",
    "    grade_enco = pickle.load(open('./Encoders/grade_encoder.pk1', 'rb'))\n",
    "    grade_not_encoded =  np.array(grade.lower()).ravel()\n",
    "    grade_encoded = grade_enco.transform(grade_not_encoded)[0]\n",
    "else:\n",
    "    grade_encoded = np.nan\n",
    "\n",
    "# car_condition\n",
    "if car_cond != '' and car_cond != ' ':\n",
    "    car_condition_enco = pickle.load(open('./Encoders/car_condition_encoder.pk1', 'rb'))\n",
    "    car_condition_not_encoded =  np.array(car_cond.lower()).ravel()\n",
    "    car_condition_encoded = car_condition_enco.transform(car_condition_not_encoded)[0]\n",
    "else:\n",
    "    car_condition_encoded = np.nan"
   ]
  },
  {
   "cell_type": "markdown",
   "id": "d66cb24e",
   "metadata": {},
   "source": [
    "format to arrange car details\n",
    "manufacturer,model,year,location,mileage,grade,car_condition"
   ]
  },
  {
   "cell_type": "code",
   "execution_count": 205,
   "id": "a90f2c5c",
   "metadata": {},
   "outputs": [],
   "source": [
    "car = np.array([man_encoded,mod_encoded,yr,loc_encoded,mileage,grade_encoded,car_condition_encoded])\n",
    "car = np.array([car])"
   ]
  },
  {
   "cell_type": "code",
   "execution_count": 206,
   "id": "0f98d268",
   "metadata": {},
   "outputs": [
    {
     "data": {
      "text/plain": [
       "array([[    47,    183,   2002,      7, 175000,      2,      1]])"
      ]
     },
     "execution_count": 206,
     "metadata": {},
     "output_type": "execute_result"
    }
   ],
   "source": [
    "car"
   ]
  },
  {
   "cell_type": "code",
   "execution_count": 207,
   "id": "33e4bd26",
   "metadata": {},
   "outputs": [
    {
     "data": {
      "text/plain": [
       "array([[ 1.12335823,  0.13028719, -1.2356323 ,  0.50543792,  0.42683535,\n",
       "        -1.0301442 ,  0.59020225]])"
      ]
     },
     "execution_count": 207,
     "metadata": {},
     "output_type": "execute_result"
    }
   ],
   "source": [
    "# load the scaler\n",
    "std_sc = pickle.load(open('./Scaler/standard_scaler_2.pkl', 'rb'))\n",
    "# transform the car \n",
    "car_scaled = std_sc.transform(car)\n",
    "car_scaled"
   ]
  },
  {
   "cell_type": "markdown",
   "id": "c7d97cd8",
   "metadata": {},
   "source": [
    "#### LGBM Prediction"
   ]
  },
  {
   "cell_type": "code",
   "execution_count": 200,
   "id": "c9d1f4c5",
   "metadata": {},
   "outputs": [],
   "source": [
    "# load the model(LGBM)\n",
    "model_lgbm = pickle.load(open('lgbmregressor_model.pkl', 'rb'))"
   ]
  },
  {
   "cell_type": "code",
   "execution_count": 208,
   "id": "e78ce03a",
   "metadata": {},
   "outputs": [
    {
     "name": "stdout",
     "output_type": "stream",
     "text": [
      "The price of the car is 1,927,923 naira\n"
     ]
    }
   ],
   "source": [
    "car_predict = model_lgbm.predict(car_scaled)\n",
    "car_predict = round(car_predict[0])\n",
    "print(f'The price of the car is {car_predict:,} naira')"
   ]
  },
  {
   "cell_type": "markdown",
   "id": "a2b6b53d",
   "metadata": {},
   "source": [
    "#### CATBOOST Prediction"
   ]
  },
  {
   "cell_type": "code",
   "execution_count": 192,
   "id": "970a4818",
   "metadata": {},
   "outputs": [],
   "source": [
    "# load the model(CATBOOST)\n",
    "model_CAT = pickle.load(open('cat_boost_model.pkl', 'rb'))"
   ]
  },
  {
   "cell_type": "code",
   "execution_count": 209,
   "id": "7d80af13",
   "metadata": {},
   "outputs": [
    {
     "name": "stdout",
     "output_type": "stream",
     "text": [
      "The price of the car is 1,948,842 naira\n"
     ]
    }
   ],
   "source": [
    "car_predict = model_CAT.predict(car_scaled)\n",
    "car_predict = round(car_predict[0])\n",
    "print(f'The price of the car is {car_predict:,} naira')"
   ]
  },
  {
   "cell_type": "markdown",
   "id": "175829d7",
   "metadata": {},
   "source": [
    "#### RandomForest Prediction"
   ]
  },
  {
   "cell_type": "code",
   "execution_count": 194,
   "id": "08fbbdf5",
   "metadata": {},
   "outputs": [],
   "source": [
    "# load the model(RandomForest)\n",
    "model_randomf = pickle.load(open('random_forest_model.pkl', 'rb'))"
   ]
  },
  {
   "cell_type": "code",
   "execution_count": 210,
   "id": "359b4091",
   "metadata": {},
   "outputs": [
    {
     "name": "stdout",
     "output_type": "stream",
     "text": [
      "The price of the car is 1,709,741 naira\n"
     ]
    }
   ],
   "source": [
    "car_predict = model_randomf.predict(car_scaled)\n",
    "car_predict = round(car_predict[0])\n",
    "print(f'The price of the car is {car_predict:,} naira')"
   ]
  },
  {
   "cell_type": "code",
   "execution_count": null,
   "id": "3c3614cb",
   "metadata": {},
   "outputs": [],
   "source": []
  }
 ],
 "metadata": {
  "kernelspec": {
   "display_name": "Python 3",
   "language": "python",
   "name": "python3"
  },
  "language_info": {
   "codemirror_mode": {
    "name": "ipython",
    "version": 3
   },
   "file_extension": ".py",
   "mimetype": "text/x-python",
   "name": "python",
   "nbconvert_exporter": "python",
   "pygments_lexer": "ipython3",
   "version": "3.8.8"
  }
 },
 "nbformat": 4,
 "nbformat_minor": 5
}
